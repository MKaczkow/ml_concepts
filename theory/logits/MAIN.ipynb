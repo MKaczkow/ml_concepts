{
 "cells": [
  {
   "cell_type": "code",
   "execution_count": null,
   "metadata": {},
   "outputs": [],
   "source": [
    "import math\n",
    "\n",
    "import matplotlib.pyplot as plt\n",
    "import numpy as np\n"
   ]
  },
  {
   "cell_type": "markdown",
   "metadata": {},
   "source": [
    "## Nie copypasta"
   ]
  },
  {
   "cell_type": "code",
   "execution_count": null,
   "metadata": {},
   "outputs": [],
   "source": [
    "p = np.arange(0, 1, 0.01)\n",
    "L = np.log((p/(1-p)))\n",
    "plt.plot(p, L)"
   ]
  },
  {
   "cell_type": "markdown",
   "metadata": {},
   "source": [
    "## Copypasta"
   ]
  },
  {
   "cell_type": "code",
   "execution_count": null,
   "metadata": {},
   "outputs": [],
   "source": [
    "xmax = 10\n",
    "x = np.linspace(-xmax, xmax, 10000)\n",
    "cdf_norm = [math.erf(w / np.sqrt(2)) / 2 + 1 / 2 for w in x]\n",
    "cdf_laplacian = np.where(x < 0, 1 / 2 * np.exp(x), 1 - 1 / 2 * np.exp(-x))\n",
    "cdf_cauchy = np.arctan(x) / np.pi + 1 / 2\n"
   ]
  },
  {
   "cell_type": "code",
   "execution_count": null,
   "metadata": {},
   "outputs": [],
   "source": [
    "\n",
    "\n",
    "fig, axs = plt.subplots(nrows=3, ncols=2, figsize=(6.4, 8.5))\n",
    "\n",
    "# Common part, for the example, we will do the same plots on all graphs\n",
    "for i in range(3):\n",
    "    for j in range(2):\n",
    "        axs[i, j].plot(x, cdf_norm, label=r\"$\\mathcal{N}$\")\n",
    "        axs[i, j].plot(x, cdf_laplacian, label=r\"$\\mathcal{L}$\")\n",
    "        axs[i, j].plot(x, cdf_cauchy, label=\"Cauchy\")\n",
    "        axs[i, j].legend()\n",
    "        axs[i, j].grid()\n"
   ]
  },
  {
   "cell_type": "code",
   "execution_count": null,
   "metadata": {},
   "outputs": [],
   "source": [
    "\n",
    "# First line, logitscale, with standard notation\n",
    "axs[0, 0].set(title=\"logit scale\")\n",
    "axs[0, 0].set_yscale(\"logit\")\n",
    "axs[0, 0].set_ylim(1e-5, 1 - 1e-5)\n",
    "\n",
    "axs[0, 1].set(title=\"logit scale\")\n",
    "axs[0, 1].set_yscale(\"logit\")\n",
    "axs[0, 1].set_xlim(0, xmax)\n",
    "axs[0, 1].set_ylim(0.8, 1 - 5e-3)\n",
    "\n",
    "# Second line, logitscale, with survival notation (with `use_overline`), and\n",
    "# other format display 1/2\n",
    "axs[1, 0].set(title=\"logit scale\")\n",
    "axs[1, 0].set_yscale(\"logit\", one_half=\"1/2\", use_overline=True)\n",
    "axs[1, 0].set_ylim(1e-5, 1 - 1e-5)\n",
    "\n",
    "axs[1, 1].set(title=\"logit scale\")\n",
    "axs[1, 1].set_yscale(\"logit\", one_half=\"1/2\", use_overline=True)\n",
    "axs[1, 1].set_xlim(0, xmax)\n",
    "axs[1, 1].set_ylim(0.8, 1 - 5e-3)\n",
    "\n",
    "# Third line, linear scale\n",
    "axs[2, 0].set(title=\"linear scale\")\n",
    "axs[2, 0].set_ylim(0, 1)\n",
    "\n",
    "axs[2, 1].set(title=\"linear scale\")\n",
    "axs[2, 1].set_xlim(0, xmax)\n",
    "axs[2, 1].set_ylim(0.8, 1)\n",
    "\n",
    "fig.tight_layout()\n",
    "plt.show()"
   ]
  },
  {
   "cell_type": "code",
   "execution_count": null,
   "metadata": {},
   "outputs": [],
   "source": []
  }
 ],
 "metadata": {
  "kernelspec": {
   "display_name": "venv",
   "language": "python",
   "name": "python3"
  },
  "language_info": {
   "codemirror_mode": {
    "name": "ipython",
    "version": 3
   },
   "file_extension": ".py",
   "mimetype": "text/x-python",
   "name": "python",
   "nbconvert_exporter": "python",
   "pygments_lexer": "ipython3",
   "version": "3.10.3"
  }
 },
 "nbformat": 4,
 "nbformat_minor": 2
}
