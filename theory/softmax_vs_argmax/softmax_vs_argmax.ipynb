{
 "cells": [
  {
   "cell_type": "code",
   "execution_count": 1,
   "metadata": {},
   "outputs": [],
   "source": [
    "import torch\n",
    "import torch.nn as nn\n",
    "import torch.nn.functional as F\n",
    "import matplotlib.pyplot as plt"
   ]
  },
  {
   "cell_type": "code",
   "execution_count": 2,
   "metadata": {},
   "outputs": [
    {
     "data": {
      "text/plain": [
       "True"
      ]
     },
     "execution_count": 2,
     "metadata": {},
     "output_type": "execute_result"
    }
   ],
   "source": [
    "torch.cuda.is_available()"
   ]
  },
  {
   "cell_type": "markdown",
   "metadata": {},
   "source": [
    "## Softmax"
   ]
  },
  {
   "cell_type": "markdown",
   "metadata": {},
   "source": [
    "*So, what is softmax?*"
   ]
  },
  {
   "cell_type": "markdown",
   "metadata": {},
   "source": [
    "Służy do przekształcenia wartości wyjściowych z modelu na prawdopodobieństwa. Wartości wyjściowe są przekształcane w taki sposób, że suma wszystkich wartości wynosi 1. Czyli normalizacja wartości wyjściowych, np. na końcu jakiejś sieci neuronowej."
   ]
  },
  {
   "cell_type": "code",
   "execution_count": 3,
   "metadata": {},
   "outputs": [],
   "source": [
    "class SimpleModel(nn.Module):\n",
    "    def __init__(self, input_size, hidden_size, output_size):\n",
    "        super(SimpleModel, self).__init__()\n",
    "        self.fc1 = nn.Linear(input_size, hidden_size)\n",
    "        self.fc2 = nn.Linear(hidden_size, output_size)\n",
    "\n",
    "    def forward(self, x):\n",
    "        x = torch.flatten(x)\n",
    "        x = self.fc1(x)\n",
    "        x = F.relu(x)\n",
    "        x = self.fc2(x)\n",
    "        return x"
   ]
  },
  {
   "cell_type": "code",
   "execution_count": 4,
   "metadata": {},
   "outputs": [],
   "source": [
    "class SimpleModelWithSoftmax(SimpleModel):\n",
    "    def __init__(self, input_size, hidden_size, output_size):\n",
    "        super(SimpleModelWithSoftmax, self).__init__(\n",
    "            input_size, hidden_size, output_size\n",
    "        )\n",
    "        self.softmax = nn.Softmax(dim=-1)\n",
    "\n",
    "    def forward(self, x):\n",
    "        x = super().forward(x)\n",
    "        x = self.softmax(x)\n",
    "        return x"
   ]
  },
  {
   "cell_type": "code",
   "execution_count": 5,
   "metadata": {},
   "outputs": [],
   "source": [
    "input_tensor_shape = (24, 24)\n",
    "\n",
    "input_size = 24 * 24\n",
    "hidden_size = 100\n",
    "output_size = 4"
   ]
  },
  {
   "cell_type": "code",
   "execution_count": 6,
   "metadata": {},
   "outputs": [
    {
     "name": "stdout",
     "output_type": "stream",
     "text": [
      "torch.Size([24, 24])\n"
     ]
    }
   ],
   "source": [
    "input_tensor = torch.randn(input_tensor_shape)\n",
    "print(input_tensor.size())\n",
    "# print(input_tensor)"
   ]
  },
  {
   "cell_type": "code",
   "execution_count": 7,
   "metadata": {},
   "outputs": [],
   "source": [
    "# Create instances of the models\n",
    "simple_model = SimpleModel(input_size, hidden_size, output_size)\n",
    "softmax_model = SimpleModelWithSoftmax(input_size, hidden_size, output_size)"
   ]
  },
  {
   "cell_type": "code",
   "execution_count": 8,
   "metadata": {},
   "outputs": [],
   "source": [
    "simple_output = simple_model.forward(input_tensor)\n",
    "softmax_output = softmax_model.forward(input_tensor)"
   ]
  },
  {
   "cell_type": "code",
   "execution_count": 13,
   "metadata": {},
   "outputs": [
    {
     "name": "stdout",
     "output_type": "stream",
     "text": [
      "SimpleModel output: tensor([-0.0901,  0.1129,  0.0355,  0.0599], grad_fn=<ViewBackward0>)\n",
      "SimpleModelWithSoftmax output: tensor([0.1688, 0.1793, 0.2887, 0.3632], grad_fn=<SoftmaxBackward0>)\n",
      "SimpleModelWithSoftmax output max: tensor(0.3632, grad_fn=<MaxBackward1>)\n",
      "SimpleModelWithSoftmax output argmax: tensor(3)\n"
     ]
    }
   ],
   "source": [
    "print(\"SimpleModel output:\", simple_output)\n",
    "print(\"SimpleModelWithSoftmax output:\", softmax_output)\n",
    "print(\"SimpleModelWithSoftmax output max:\", torch.max(softmax_output))\n",
    "print(\"SimpleModelWithSoftmax output argmax:\", torch.argmax(softmax_output))"
   ]
  },
  {
   "cell_type": "code",
   "execution_count": 10,
   "metadata": {},
   "outputs": [
    {
     "name": "stdout",
     "output_type": "stream",
     "text": [
      "SimpleModel output sum: tensor(0.1182, grad_fn=<SumBackward0>)\n",
      "SimpleModelWithSoftmax output sum: tensor(1., grad_fn=<SumBackward0>)\n"
     ]
    }
   ],
   "source": [
    "print(\"SimpleModel output sum:\", torch.sum(simple_output))\n",
    "print(\"SimpleModelWithSoftmax output sum:\", torch.sum(softmax_output))"
   ]
  },
  {
   "cell_type": "markdown",
   "metadata": {},
   "source": [
    "## Argmax"
   ]
  },
  {
   "cell_type": "markdown",
   "metadata": {},
   "source": [
    "*So, what is argmax?*"
   ]
  },
  {
   "cell_type": "markdown",
   "metadata": {},
   "source": [
    "Zbiór argumentów funkcji, dla których osiąga ona maksymalną wartość (wikipedia). Lub po prostu indeks wartości maksymalnej w tablicy (torch).\n"
   ]
  },
  {
   "cell_type": "code",
   "execution_count": 11,
   "metadata": {},
   "outputs": [
    {
     "name": "stdout",
     "output_type": "stream",
     "text": [
      "SimpleModel output max: tensor(0.1129, grad_fn=<MaxBackward1>)\n",
      "SimpleModel output argmax: tensor(1)\n",
      "\n",
      "SimpleModelWithSoftmax output max: tensor(0.3632, grad_fn=<MaxBackward1>)\n",
      "SimpleModelWithSoftmax output argmax: tensor(3)\n"
     ]
    }
   ],
   "source": [
    "print(\"SimpleModel output max:\", torch.max(simple_output))\n",
    "print(\"SimpleModel output argmax:\", torch.argmax(simple_output))\n",
    "print()\n",
    "print(\"SimpleModelWithSoftmax output max:\", torch.max(softmax_output))\n",
    "print(\"SimpleModelWithSoftmax output argmax:\", torch.argmax(softmax_output))"
   ]
  }
 ],
 "metadata": {
  "kernelspec": {
   "display_name": "venv",
   "language": "python",
   "name": "python3"
  },
  "language_info": {
   "codemirror_mode": {
    "name": "ipython",
    "version": 3
   },
   "file_extension": ".py",
   "mimetype": "text/x-python",
   "name": "python",
   "nbconvert_exporter": "python",
   "pygments_lexer": "ipython3",
   "version": "3.10.3"
  }
 },
 "nbformat": 4,
 "nbformat_minor": 2
}
