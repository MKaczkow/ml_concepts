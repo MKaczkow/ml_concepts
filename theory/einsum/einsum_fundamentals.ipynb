{
 "cells": [
  {
   "cell_type": "code",
   "execution_count": null,
   "metadata": {},
   "outputs": [],
   "source": [
    "import torch\n",
    "import numpy as np"
   ]
  },
  {
   "cell_type": "code",
   "execution_count": null,
   "metadata": {},
   "outputs": [],
   "source": [
    "A = torch.Tensor([[1, 2], [3, 4]])\n",
    "B = torch.Tensor([[5, 6], [7, 8]])\n",
    "print(A)\n",
    "print(B)"
   ]
  },
  {
   "cell_type": "code",
   "execution_count": null,
   "metadata": {},
   "outputs": [],
   "source": [
    "# ij - free indices - in the output\n",
    "# k - summation indices - not in the output\n",
    "\n",
    "C = torch.einsum(\"ik,kj->ij\", A, B)\n",
    "print(C)"
   ]
  },
  {
   "cell_type": "code",
   "execution_count": null,
   "metadata": {},
   "outputs": [],
   "source": [
    "D = np.array([1, 2, 3, 4])\n",
    "E = np.array([8, 9])\n",
    "print(D)\n",
    "print(E)"
   ]
  },
  {
   "cell_type": "code",
   "execution_count": null,
   "metadata": {},
   "outputs": [],
   "source": [
    "# if - free indices - in the output\n",
    "# NULL - summation indices - not in the output\n",
    "\n",
    "F = np.einsum(\"i,j->ij\", D, E)\n",
    "print(F)"
   ]
  },
  {
   "cell_type": "code",
   "execution_count": null,
   "metadata": {},
   "outputs": [],
   "source": [
    "G = np.empty((4, 2))\n",
    "\n",
    "for i in range(4):\n",
    "    for j in range(2):\n",
    "        total = 0\n",
    "        total += D[i] * E[j]\n",
    "        G[i, j] = total\n",
    "\n",
    "print(G)"
   ]
  },
  {
   "cell_type": "code",
   "execution_count": null,
   "metadata": {},
   "outputs": [],
   "source": [
    "assert G.all() == F.all(), \"Smth is wrong...\""
   ]
  },
  {
   "attachments": {},
   "cell_type": "markdown",
   "metadata": {},
   "source": [
    "### General rules"
   ]
  },
  {
   "attachments": {},
   "cell_type": "markdown",
   "metadata": {},
   "source": [
    "1. Repeating letters in different inputs means those values will be multiplied and those products will be the output.  \n",
    "```\n",
    "C = torch.einsum('ik,kj->ij', A, B)`  \n",
    "```   \n",
    "2. Ommitting a letter means that axis will be summed. \n",
    "```\n",
    "x = np.ones(3)\n",
    "sum_x = np.einsum('i->', x)\n",
    "```\n",
    "3. Unsummed axes could be returned in any order.\n",
    "```\n",
    "x = np.ones((5, 4, 3))\n",
    "np.einsum('ijk->kji', x)\n",
    "```  "
   ]
  }
 ],
 "metadata": {
  "kernelspec": {
   "display_name": "Python 3",
   "language": "python",
   "name": "python3"
  },
  "language_info": {
   "codemirror_mode": {
    "name": "ipython",
    "version": 3
   },
   "file_extension": ".py",
   "mimetype": "text/x-python",
   "name": "python",
   "nbconvert_exporter": "python",
   "pygments_lexer": "ipython3",
   "version": "3.10.3"
  },
  "orig_nbformat": 4,
  "vscode": {
   "interpreter": {
    "hash": "82b3d9c33a00c8eb6e6d8c4c95ba207a84998d1fbb9c588cae47f7985e6a797d"
   }
  }
 },
 "nbformat": 4,
 "nbformat_minor": 2
}
