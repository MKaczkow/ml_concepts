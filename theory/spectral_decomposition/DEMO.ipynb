{
 "cells": [
  {
   "cell_type": "code",
   "execution_count": 35,
   "metadata": {},
   "outputs": [],
   "source": [
    "import numpy as np\n",
    "from numpy import linalg as LA"
   ]
  },
  {
   "cell_type": "code",
   "execution_count": 36,
   "metadata": {},
   "outputs": [
    {
     "name": "stdout",
     "output_type": "stream",
     "text": [
      "[[1 0]\n",
      " [0 1]]\n"
     ]
    }
   ],
   "source": [
    "A = np.array([[1, 0], [0, 1]])\n",
    "print(A)"
   ]
  },
  {
   "cell_type": "code",
   "execution_count": 37,
   "metadata": {},
   "outputs": [
    {
     "name": "stdout",
     "output_type": "stream",
     "text": [
      "eigenvalues\n",
      " [1. 1.]\n",
      "eigenvectors\n",
      " [[1. 0.]\n",
      " [0. 1.]]\n"
     ]
    }
   ],
   "source": [
    "eigenvalues, eigenvectors = LA.eig(A)\n",
    "print(\"eigenvalues\\n\", eigenvalues)\n",
    "print(\"eigenvectors\\n\", eigenvectors)"
   ]
  },
  {
   "cell_type": "code",
   "execution_count": 38,
   "metadata": {},
   "outputs": [
    {
     "name": "stdout",
     "output_type": "stream",
     "text": [
      "P\n",
      " [[1. 0.]\n",
      " [0. 1.]]\n",
      "D\n",
      " [[1. 0.]\n",
      " [0. 1.]]\n",
      "P_inv\n",
      " [[1. 0.]\n",
      " [0. 1.]]\n"
     ]
    }
   ],
   "source": [
    "# P -> composed of eigenvectors\n",
    "# D -> composed of eigenvalues\n",
    "P = eigenvectors\n",
    "D = np.diag(eigenvalues)\n",
    "P_inv = np.linalg.inv(P)\n",
    "print(\"P\\n\", P)\n",
    "print(\"D\\n\", D)\n",
    "print(\"P_inv\\n\", P_inv)"
   ]
  },
  {
   "cell_type": "code",
   "execution_count": 39,
   "metadata": {},
   "outputs": [
    {
     "data": {
      "text/plain": [
       "array([[1., 0.],\n",
       "       [0., 1.]])"
      ]
     },
     "execution_count": 39,
     "metadata": {},
     "output_type": "execute_result"
    }
   ],
   "source": [
    "P @ D @ P_inv"
   ]
  },
  {
   "cell_type": "markdown",
   "metadata": {},
   "source": [
    "## From chapter 25"
   ]
  },
  {
   "cell_type": "code",
   "execution_count": 40,
   "metadata": {},
   "outputs": [
    {
     "name": "stdout",
     "output_type": "stream",
     "text": [
      "[[-3  5]\n",
      " [ 4 -2]]\n"
     ]
    }
   ],
   "source": [
    "A = np.array([[-3, 5], [4, -2]])\n",
    "print(A)"
   ]
  },
  {
   "cell_type": "code",
   "execution_count": 41,
   "metadata": {},
   "outputs": [
    {
     "name": "stdout",
     "output_type": "stream",
     "text": [
      "eigenvalues\n",
      " [-7.  2.]\n",
      "eigenvectors\n",
      " [[-0.78086881 -0.70710678]\n",
      " [ 0.62469505 -0.70710678]]\n"
     ]
    }
   ],
   "source": [
    "eigenvalues, eigenvectors = LA.eig(A)\n",
    "print(\"eigenvalues\\n\", eigenvalues)\n",
    "print(\"eigenvectors\\n\", eigenvectors)"
   ]
  },
  {
   "cell_type": "code",
   "execution_count": 42,
   "metadata": {},
   "outputs": [
    {
     "name": "stdout",
     "output_type": "stream",
     "text": [
      "P\n",
      " [[-0.78086881 -0.70710678]\n",
      " [ 0.62469505 -0.70710678]]\n",
      "D\n",
      " [[-7.  0.]\n",
      " [ 0.  2.]]\n",
      "P_inv\n",
      " [[-0.71145825  0.71145825]\n",
      " [-0.62853936 -0.7856742 ]]\n"
     ]
    }
   ],
   "source": [
    "# P -> composed of eigenvectors\n",
    "# D -> composed of eigenvalues\n",
    "P = eigenvectors\n",
    "D = np.diag(eigenvalues)\n",
    "P_inv = np.linalg.inv(P)\n",
    "print(\"P\\n\", P)\n",
    "print(\"D\\n\", D)\n",
    "print(\"P_inv\\n\", P_inv)"
   ]
  },
  {
   "cell_type": "code",
   "execution_count": 43,
   "metadata": {},
   "outputs": [
    {
     "data": {
      "text/plain": [
       "array([[-3.,  5.],\n",
       "       [ 4., -2.]])"
      ]
     },
     "execution_count": 43,
     "metadata": {},
     "output_type": "execute_result"
    }
   ],
   "source": [
    "P @ D @ P_inv"
   ]
  },
  {
   "cell_type": "code",
   "execution_count": null,
   "metadata": {},
   "outputs": [],
   "source": []
  }
 ],
 "metadata": {
  "kernelspec": {
   "display_name": "venv",
   "language": "python",
   "name": "python3"
  },
  "language_info": {
   "codemirror_mode": {
    "name": "ipython",
    "version": 3
   },
   "file_extension": ".py",
   "mimetype": "text/x-python",
   "name": "python",
   "nbconvert_exporter": "python",
   "pygments_lexer": "ipython3",
   "version": "3.10.3"
  }
 },
 "nbformat": 4,
 "nbformat_minor": 2
}
