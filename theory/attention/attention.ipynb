{
 "cells": [
  {
   "cell_type": "code",
   "execution_count": 2,
   "id": "b8cba81d",
   "metadata": {},
   "outputs": [],
   "source": [
    "import torch"
   ]
  },
  {
   "cell_type": "markdown",
   "id": "659ed183",
   "metadata": {},
   "source": [
    "## Setup"
   ]
  },
  {
   "cell_type": "code",
   "execution_count": 3,
   "id": "b8761568",
   "metadata": {},
   "outputs": [],
   "source": [
    "inputs = torch.tensor(\n",
    "    [\n",
    "        [0.43, 0.15, 0.89],  # Your     (x^1)\n",
    "        [0.55, 0.87, 0.66],  # journey  (x^2)\n",
    "        [0.57, 0.85, 0.64],  # starts   (x^3)\n",
    "        [0.22, 0.58, 0.33],  # with     (x^4)\n",
    "        [0.77, 0.25, 0.10],  # one      (x^5)\n",
    "        [0.05, 0.80, 0.55],\n",
    "    ]  # step     (x^6)\n",
    ")"
   ]
  },
  {
   "cell_type": "code",
   "execution_count": 4,
   "id": "07d15937",
   "metadata": {},
   "outputs": [],
   "source": [
    "query = inputs[1]  # doesn't need to be like this - just to simplify"
   ]
  },
  {
   "cell_type": "markdown",
   "id": "8880a9ee",
   "metadata": {},
   "source": [
    "## Simplified Self-Attention"
   ]
  },
  {
   "cell_type": "code",
   "execution_count": 5,
   "id": "036e8a74",
   "metadata": {},
   "outputs": [],
   "source": [
    "attn_scores_2 = torch.empty(inputs.shape[0])"
   ]
  },
  {
   "cell_type": "code",
   "execution_count": 6,
   "id": "3c7886d6",
   "metadata": {},
   "outputs": [
    {
     "name": "stdout",
     "output_type": "stream",
     "text": [
      "tensor([0.9544, 1.4950, 1.4754, 0.8434, 0.7070, 1.0865])\n"
     ]
    }
   ],
   "source": [
    "for i, x_i in enumerate(inputs):\n",
    "    attn_scores_2[i] = torch.dot(\n",
    "        x_i, query\n",
    "    )  # dot product measures similarity between two vectors\n",
    "print(attn_scores_2)"
   ]
  },
  {
   "cell_type": "code",
   "execution_count": 7,
   "id": "5c1cda5d",
   "metadata": {},
   "outputs": [
    {
     "name": "stdout",
     "output_type": "stream",
     "text": [
      "Attention weights: tensor([0.1455, 0.2278, 0.2249, 0.1285, 0.1077, 0.1656])\n",
      "Sum: tensor(1.0000)\n"
     ]
    }
   ],
   "source": [
    "attn_weights_2_tmp = attn_scores_2 / attn_scores_2.sum()\n",
    "print(\"Attention weights:\", attn_weights_2_tmp)\n",
    "print(\"Sum:\", attn_weights_2_tmp.sum())"
   ]
  },
  {
   "cell_type": "code",
   "execution_count": 8,
   "id": "57c4a407",
   "metadata": {},
   "outputs": [],
   "source": [
    "# actually, it's better to use softmax\n",
    "def naive_softmax(x):\n",
    "    return torch.exp(x) / torch.exp(x).sum(dim=0)"
   ]
  },
  {
   "cell_type": "code",
   "execution_count": 9,
   "id": "3ce565e2",
   "metadata": {},
   "outputs": [
    {
     "name": "stdout",
     "output_type": "stream",
     "text": [
      "Attention weights (naive softmax): tensor([0.1385, 0.2379, 0.2333, 0.1240, 0.1082, 0.1581])\n",
      "Sum (naive softmax): tensor(1.)\n"
     ]
    }
   ],
   "source": [
    "attn_weights_2_naive = naive_softmax(attn_scores_2)\n",
    "print(\"Attention weights (naive softmax):\", attn_weights_2_naive)\n",
    "print(\"Sum (naive softmax):\", attn_weights_2_naive.sum())"
   ]
  },
  {
   "cell_type": "code",
   "execution_count": 10,
   "id": "e6e78d84",
   "metadata": {},
   "outputs": [
    {
     "name": "stdout",
     "output_type": "stream",
     "text": [
      "Attention weights (torch softmax): tensor([0.1385, 0.2379, 0.2333, 0.1240, 0.1082, 0.1581])\n",
      "Sum (torch softmax): tensor(1.)\n"
     ]
    }
   ],
   "source": [
    "# even better to use torch's built-in softmax\n",
    "attn_weights_2 = torch.softmax(attn_scores_2, dim=0)\n",
    "print(\"Attention weights (torch softmax):\", attn_weights_2)\n",
    "print(\"Sum (torch softmax):\", attn_weights_2.sum())"
   ]
  },
  {
   "cell_type": "code",
   "execution_count": 11,
   "id": "e98700ff",
   "metadata": {},
   "outputs": [
    {
     "name": "stdout",
     "output_type": "stream",
     "text": [
      "Context vector: tensor([0.4419, 0.6515, 0.5683])\n"
     ]
    }
   ],
   "source": [
    "# final step - calculate context vector\n",
    "context_vec_2 = torch.zeros(query.shape)\n",
    "for i, x_i in enumerate(inputs):\n",
    "    context_vec_2 += attn_weights_2[i] * x_i\n",
    "print(\"Context vector:\", context_vec_2)"
   ]
  },
  {
   "cell_type": "code",
   "execution_count": 12,
   "id": "326b0bc5",
   "metadata": {},
   "outputs": [
    {
     "name": "stdout",
     "output_type": "stream",
     "text": [
      "Attention scores matrix:\n",
      " tensor([[0.9995, 0.9544, 0.9422, 0.4753, 0.4576, 0.6310],\n",
      "        [0.9544, 1.4950, 1.4754, 0.8434, 0.7070, 1.0865],\n",
      "        [0.9422, 1.4754, 1.4570, 0.8296, 0.7154, 1.0605],\n",
      "        [0.4753, 0.8434, 0.8296, 0.4937, 0.3474, 0.6565],\n",
      "        [0.4576, 0.7070, 0.7154, 0.3474, 0.6654, 0.2935],\n",
      "        [0.6310, 1.0865, 1.0605, 0.6565, 0.2935, 0.9450]])\n"
     ]
    }
   ],
   "source": [
    "# now, for the full attention matrix\n",
    "attn_scores = torch.empty(6, 6)\n",
    "for i, x_i in enumerate(inputs):\n",
    "    for j, x_j in enumerate(inputs):\n",
    "        attn_scores[i, j] = torch.dot(x_i, x_j)\n",
    "print(\"Attention scores matrix:\\n\", attn_scores)"
   ]
  },
  {
   "cell_type": "code",
   "execution_count": 13,
   "id": "8d838fea",
   "metadata": {},
   "outputs": [
    {
     "name": "stdout",
     "output_type": "stream",
     "text": [
      "Attention scores matrix (using @):\n",
      " tensor([[0.9995, 0.9544, 0.9422, 0.4753, 0.4576, 0.6310],\n",
      "        [0.9544, 1.4950, 1.4754, 0.8434, 0.7070, 1.0865],\n",
      "        [0.9422, 1.4754, 1.4570, 0.8296, 0.7154, 1.0605],\n",
      "        [0.4753, 0.8434, 0.8296, 0.4937, 0.3474, 0.6565],\n",
      "        [0.4576, 0.7070, 0.7154, 0.3474, 0.6654, 0.2935],\n",
      "        [0.6310, 1.0865, 1.0605, 0.6565, 0.2935, 0.9450]])\n"
     ]
    }
   ],
   "source": [
    "# better to use @ operator\n",
    "attn_scores = inputs @ inputs.T\n",
    "print(\"Attention scores matrix (using @):\\n\", attn_scores)"
   ]
  },
  {
   "cell_type": "code",
   "execution_count": 14,
   "id": "5e955640",
   "metadata": {},
   "outputs": [
    {
     "name": "stdout",
     "output_type": "stream",
     "text": [
      "Attention weights matrix:\n",
      " tensor([[0.2098, 0.2006, 0.1981, 0.1242, 0.1220, 0.1452],\n",
      "        [0.1385, 0.2379, 0.2333, 0.1240, 0.1082, 0.1581],\n",
      "        [0.1390, 0.2369, 0.2326, 0.1242, 0.1108, 0.1565],\n",
      "        [0.1435, 0.2074, 0.2046, 0.1462, 0.1263, 0.1720],\n",
      "        [0.1526, 0.1958, 0.1975, 0.1367, 0.1879, 0.1295],\n",
      "        [0.1385, 0.2184, 0.2128, 0.1420, 0.0988, 0.1896]])\n"
     ]
    }
   ],
   "source": [
    "# and now for the normalization\n",
    "attn_weights = torch.softmax(attn_scores, dim=-1)\n",
    "print(\"Attention weights matrix:\\n\", attn_weights)"
   ]
  },
  {
   "cell_type": "code",
   "execution_count": 15,
   "id": "be17191e",
   "metadata": {},
   "outputs": [
    {
     "name": "stdout",
     "output_type": "stream",
     "text": [
      "All context vectors:\n",
      " tensor([[0.4421, 0.5931, 0.5790],\n",
      "        [0.4419, 0.6515, 0.5683],\n",
      "        [0.4431, 0.6496, 0.5671],\n",
      "        [0.4304, 0.6298, 0.5510],\n",
      "        [0.4671, 0.5910, 0.5266],\n",
      "        [0.4177, 0.6503, 0.5645]])\n"
     ]
    }
   ],
   "source": [
    "all_context_vecs = attn_weights @ inputs\n",
    "print(\"All context vectors:\\n\", all_context_vecs)"
   ]
  },
  {
   "cell_type": "markdown",
   "id": "6ba5bd4a",
   "metadata": {},
   "source": [
    "## Self-Attention"
   ]
  },
  {
   "cell_type": "markdown",
   "id": "8e4f82be",
   "metadata": {},
   "source": [
    "... also called _scaled dot-product attention_"
   ]
  },
  {
   "cell_type": "code",
   "execution_count": 16,
   "id": "3c4241db",
   "metadata": {},
   "outputs": [],
   "source": [
    "x_2 = inputs[1]\n",
    "d_in = inputs.shape[1]\n",
    "d_out = 2"
   ]
  },
  {
   "cell_type": "code",
   "execution_count": 17,
   "id": "07d2a0c3",
   "metadata": {},
   "outputs": [],
   "source": [
    "torch.manual_seed(42)\n",
    "W_query = torch.nn.Parameter(torch.rand(d_in, d_out), requires_grad=False)\n",
    "W_key = torch.nn.Parameter(torch.rand(d_in, d_out), requires_grad=False)\n",
    "W_value = torch.nn.Parameter(torch.rand(d_in, d_out), requires_grad=False)"
   ]
  },
  {
   "cell_type": "code",
   "execution_count": 18,
   "id": "48053e59",
   "metadata": {},
   "outputs": [
    {
     "name": "stdout",
     "output_type": "stream",
     "text": [
      "Query vector: tensor([1.0760, 1.7344])\n"
     ]
    }
   ],
   "source": [
    "query_2 = x_2 @ W_query\n",
    "key_2 = x_2 @ W_key\n",
    "value_2 = x_2 @ W_value\n",
    "print(\"Query vector:\", query_2)"
   ]
  },
  {
   "cell_type": "code",
   "execution_count": 19,
   "id": "537f529a",
   "metadata": {},
   "outputs": [
    {
     "name": "stdout",
     "output_type": "stream",
     "text": [
      "Keys matrix:\n",
      " tensor([[1.0832, 0.8895],\n",
      "        [1.5764, 0.9441],\n",
      "        [1.5440, 0.9455],\n",
      "        [0.9105, 0.4477],\n",
      "        [0.5262, 0.7038],\n",
      "        [1.2795, 0.4727]])\n",
      "Values matrix:\n",
      " tensor([[1.2731, 0.8193],\n",
      "        [1.7073, 1.0646],\n",
      "        [1.6922, 1.0559],\n",
      "        [0.9133, 0.5633],\n",
      "        [0.9433, 0.6019],\n",
      "        [1.1233, 0.6876]])\n"
     ]
    }
   ],
   "source": [
    "keys = inputs @ W_key\n",
    "values = inputs @ W_value\n",
    "print(\"Keys matrix:\\n\", keys)\n",
    "print(\"Values matrix:\\n\", values)"
   ]
  },
  {
   "cell_type": "code",
   "execution_count": 20,
   "id": "a8d5f630",
   "metadata": {},
   "outputs": [
    {
     "name": "stdout",
     "output_type": "stream",
     "text": [
      "Attention score: tensor(3.3338)\n"
     ]
    }
   ],
   "source": [
    "keys_2 = keys[1]\n",
    "attn_scores_22 = query_2.dot(keys_2)\n",
    "print(\"Attention score:\", attn_scores_22)"
   ]
  },
  {
   "cell_type": "code",
   "execution_count": 21,
   "id": "d94d34ae",
   "metadata": {},
   "outputs": [
    {
     "name": "stdout",
     "output_type": "stream",
     "text": [
      "Attention scores: tensor([2.7084, 3.3338, 3.3013, 1.7563, 1.7869, 2.1966])\n"
     ]
    }
   ],
   "source": [
    "attn_scores_2 = query_2 @ keys.T\n",
    "print(\"Attention scores:\", attn_scores_2)"
   ]
  },
  {
   "cell_type": "code",
   "execution_count": 22,
   "id": "034afcdc",
   "metadata": {},
   "outputs": [
    {
     "name": "stdout",
     "output_type": "stream",
     "text": [
      "Attention weights: tensor([0.1723, 0.2681, 0.2620, 0.0879, 0.0898, 0.1200])\n"
     ]
    }
   ],
   "source": [
    "d_k = keys.shape[-1]\n",
    "attns_weights_2 = torch.softmax(attn_scores_2 / d_k**0.5, dim=-1)\n",
    "print(\"Attention weights:\", attns_weights_2)"
   ]
  },
  {
   "cell_type": "code",
   "execution_count": 23,
   "id": "78377248",
   "metadata": {},
   "outputs": [
    {
     "name": "stdout",
     "output_type": "stream",
     "text": [
      "Context vector: tensor([1.4201, 0.8892])\n"
     ]
    }
   ],
   "source": [
    "# and now the context vector\n",
    "context_vec_2 = attns_weights_2 @ values\n",
    "print(\"Context vector:\", context_vec_2)"
   ]
  },
  {
   "cell_type": "code",
   "execution_count": 24,
   "id": "a3c69b29",
   "metadata": {},
   "outputs": [],
   "source": [
    "import os\n",
    "\n",
    "os.chdir(\"../..\")\n",
    "\n",
    "from theory.attention.attention import SelfAttention_v1, SelfAttention_v2"
   ]
  },
  {
   "cell_type": "code",
   "execution_count": 25,
   "id": "a42eb2b3",
   "metadata": {},
   "outputs": [
    {
     "name": "stdout",
     "output_type": "stream",
     "text": [
      "All context vectors (using SelfAttention_v1):\n",
      " tensor([[0.5141, 0.3639],\n",
      "        [0.5633, 0.3251],\n",
      "        [0.5659, 0.3221],\n",
      "        [0.5839, 0.2941],\n",
      "        [0.6180, 0.2539],\n",
      "        [0.5575, 0.3262]], grad_fn=<MmBackward0>)\n"
     ]
    }
   ],
   "source": [
    "torch.manual_seed(42)\n",
    "sa_v1 = SelfAttention_v1(d_in, d_out)\n",
    "context_vecs = sa_v1(inputs)\n",
    "print(\"All context vectors (using SelfAttention_v1):\\n\", context_vecs)"
   ]
  },
  {
   "cell_type": "code",
   "execution_count": 26,
   "id": "11239313",
   "metadata": {},
   "outputs": [
    {
     "name": "stdout",
     "output_type": "stream",
     "text": [
      "All context vectors (using SelfAttention_v2):\n",
      " tensor([[0.3755, 0.2777],\n",
      "        [0.3761, 0.2831],\n",
      "        [0.3761, 0.2833],\n",
      "        [0.3768, 0.2763],\n",
      "        [0.3754, 0.2836],\n",
      "        [0.3772, 0.2746]], grad_fn=<MmBackward0>)\n"
     ]
    }
   ],
   "source": [
    "torch.manual_seed(42)\n",
    "sa_v2 = SelfAttention_v2(d_in, d_out)\n",
    "context_vecs = sa_v2(inputs)\n",
    "print(\"All context vectors (using SelfAttention_v2):\\n\", context_vecs)"
   ]
  },
  {
   "cell_type": "code",
   "execution_count": null,
   "id": "80c12659",
   "metadata": {},
   "outputs": [],
   "source": [
    "# TODO: implement task\n",
    "\n",
    "# We can transfer the weight matrices from a SelfAttention_v2 object to a Self-\n",
    "# Attention_v1, such that both objects then produce the same results.\n",
    "# Your task is to correctly assign the weights from an instance of SelfAttention_v2\n",
    "# to an instance of SelfAttention_v1. To do this, you need to understand the rela-\n",
    "# tionship between the weights in both versions. (Hint: nn.Linear stores the weight\n",
    "# matrix  in  a  transposed  form.)  After  the  assignment,  you  should  observe  that  both\n",
    "# instances produce the same outputs."
   ]
  },
  {
   "cell_type": "code",
   "execution_count": null,
   "id": "b9a8ba71",
   "metadata": {},
   "outputs": [],
   "source": []
  }
 ],
 "metadata": {
  "kernelspec": {
   "display_name": "ml-concepts",
   "language": "python",
   "name": "python3"
  },
  "language_info": {
   "codemirror_mode": {
    "name": "ipython",
    "version": 3
   },
   "file_extension": ".py",
   "mimetype": "text/x-python",
   "name": "python",
   "nbconvert_exporter": "python",
   "pygments_lexer": "ipython3",
   "version": "3.11.0"
  }
 },
 "nbformat": 4,
 "nbformat_minor": 5
}
