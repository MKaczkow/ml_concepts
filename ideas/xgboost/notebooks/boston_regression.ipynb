{
 "cells": [
  {
   "cell_type": "code",
   "execution_count": null,
   "metadata": {},
   "outputs": [],
   "source": [
    "from itertools import product\n",
    "import joblib\n",
    "\n",
    "import optuna as opt\n",
    "import dalex as dx\n",
    "import pandas as pd\n",
    "import xgboost as xgb\n",
    "\n",
    "from sklearn.model_selection import train_test_split\n",
    "from sklearn.metrics import (\n",
    "    mean_absolute_error as MAE,\n",
    "    mean_squared_error as MSE\n",
    ")"
   ]
  },
  {
   "cell_type": "code",
   "execution_count": null,
   "metadata": {},
   "outputs": [],
   "source": [
    "main_df = pd.read_csv('../data/boston_housing.csv')\n",
    "print(main_df.shape)\n",
    "print(main_df.info())"
   ]
  },
  {
   "cell_type": "code",
   "execution_count": null,
   "metadata": {},
   "outputs": [],
   "source": [
    "main_df.columns = ['CRIM', 'ZN', 'INDUS', 'CHAS', 'NOX', 'RM', 'AGE', \n",
    "                   'DIS', 'RAD', 'TAX', 'PTRATIO', 'B', 'LSTAT', 'MEDV']\n",
    "\n",
    "print(main_df.head())"
   ]
  },
  {
   "cell_type": "code",
   "execution_count": null,
   "metadata": {},
   "outputs": [],
   "source": [
    "X, y = main_df.iloc[:, :-1], main_df.iloc[:, -1]\n",
    "\n",
    "train_X, test_X, train_y, test_y = train_test_split(X, y,\n",
    "                      test_size = 0.3, random_state = 123)"
   ]
  },
  {
   "cell_type": "code",
   "execution_count": null,
   "metadata": {},
   "outputs": [],
   "source": [
    "def calculate_errors(predicted, test_y):\n",
    "    mae = MAE(test_y, predicted)\n",
    "    mse = MSE(test_y, predicted)\n",
    "    print(f'MAE: {mae}\\nMSE: {mse}\\n')\n",
    "    return None"
   ]
  },
  {
   "cell_type": "code",
   "execution_count": null,
   "metadata": {},
   "outputs": [],
   "source": [
    "max_depths = [5, 7, 9]\n",
    "n_estimators = [100, 1000, 10_000]"
   ]
  },
  {
   "cell_type": "code",
   "execution_count": null,
   "metadata": {},
   "outputs": [],
   "source": [
    "for n, depth in product(n_estimators, max_depths):\n",
    "\n",
    "    model = xgb.XGBRegressor(\n",
    "        n_estimators=n, \n",
    "        max_depth=depth, \n",
    "        eta=0.1, \n",
    "        subsample=0.7, \n",
    "        colsample_bytree=0.8\n",
    "    \n",
    "    )\n",
    "    model.fit(train_X, train_y)\n",
    "    pred = model.predict(test_X)\n",
    "\n",
    "    print(f'n_estimators: {n}\\nmax_depth: {depth}')\n",
    "    calculate_errors(pred, test_y)"
   ]
  },
  {
   "cell_type": "code",
   "execution_count": null,
   "metadata": {},
   "outputs": [],
   "source": [
    "dtrain = xgb.DMatrix(X.values, label=train_y, feature_names=X.columns)\n",
    "dval = xgb.DMatrix(y.values, label=test_y, feature_names=y.columns)"
   ]
  },
  {
   "cell_type": "code",
   "execution_count": null,
   "metadata": {},
   "outputs": [],
   "source": [
    "def objective(trial: opt.Trial):\n",
    "\n",
    "    param = {'objective': 'reg:squarederror',\n",
    "             'eval_metric': 'mae',\n",
    "             \"max_depth\": trial.suggest_int('max_depth', 1, 12),\n",
    "             \"eta\": trial.suggest_float('eta', 0.001, 0.99),\n",
    "             \"gamma\": trial.suggest_float('gamma', 0, 50000),\n",
    "             \"subsample\": trial.suggest_float('subsample', 0, 1),\n",
    "             \"lambda\": trial.suggest_float('lambda', 1, 20),\n",
    "             \"alpha\": trial.suggest_float('alpha', 0, 20),\n",
    "             \"colsample_bytree\": trial.suggest_float(\"colsample_bytree\", 0, 1),\n",
    "             \"colsample_bylevel\": trial.suggest_float(\"colsample_bylevel\", 0, 1),\n",
    "             \"colsample_bynode\": trial.suggest_float(\"colsample_bynode\", 0, 1),\n",
    "             \"verbosity\": 0}\n",
    "\n",
    "    n_trees = trial.suggest_int('ntrees', 10, 3000)\n",
    "    results = {}\n",
    "    reg = xgb.train(param, dtrain, n_trees, evals=[\n",
    "                    (dval, 'val')], evals_result=results, early_stopping_rounds=10)\n",
    "    loss = min(results['val']['mae'])\n",
    "    trial.set_user_attr('best_ntree', reg.best_ntree_limit)\n",
    "    return loss"
   ]
  },
  {
   "cell_type": "code",
   "execution_count": null,
   "metadata": {},
   "outputs": [],
   "source": [
    "explainer = dx.Explainer(model, test_X, test_y)"
   ]
  },
  {
   "cell_type": "code",
   "execution_count": null,
   "metadata": {},
   "outputs": [],
   "source": [
    "bd = dx.predict_explanations.BreakDown()\n",
    "bd.fit(explainer, test_X.loc[42])\n",
    "bd.plot()"
   ]
  },
  {
   "cell_type": "code",
   "execution_count": null,
   "metadata": {},
   "outputs": [],
   "source": [
    "sh = dx.predict_explanations.Shap()\n",
    "sh.fit(explainer, test_X.loc[42])\n",
    "sh.plot()"
   ]
  },
  {
   "cell_type": "code",
   "execution_count": null,
   "metadata": {},
   "outputs": [],
   "source": [
    "joblib.dump(model, '../models/boston_model.pkl', compress=True)"
   ]
  }
 ],
 "metadata": {
  "interpreter": {
   "hash": "93f41dacb99770a18b344057813a19cc5d6807cd40275be34ab5c67a37739954"
  },
  "kernelspec": {
   "display_name": "Python 3.9.9 ('venv': venv)",
   "language": "python",
   "name": "python3"
  },
  "language_info": {
   "codemirror_mode": {
    "name": "ipython",
    "version": 3
   },
   "file_extension": ".py",
   "mimetype": "text/x-python",
   "name": "python",
   "nbconvert_exporter": "python",
   "pygments_lexer": "ipython3",
   "version": "3.9.9"
  },
  "orig_nbformat": 4
 },
 "nbformat": 4,
 "nbformat_minor": 2
}
