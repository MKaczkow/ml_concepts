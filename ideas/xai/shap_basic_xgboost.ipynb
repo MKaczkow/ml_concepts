{
 "cells": [
  {
   "cell_type": "code",
   "execution_count": 2,
   "metadata": {},
   "outputs": [],
   "source": [
    "# from: https://shap.readthedocs.io/en/latest/example_notebooks/tabular_examples/tree_based_models/Basic%20SHAP%20Interaction%20Value%20Example%20in%20XGBoost.html"
   ]
  },
  {
   "cell_type": "code",
   "execution_count": 3,
   "metadata": {},
   "outputs": [],
   "source": [
    "import numpy as np\n",
    "import xgboost\n",
    "from sklearn.linear_model import LinearRegression\n",
    "\n",
    "import shap"
   ]
  },
  {
   "cell_type": "code",
   "execution_count": 4,
   "metadata": {},
   "outputs": [],
   "source": [
    "N = 2_000\n",
    "X = np.zeros((N, 5))\n",
    "\n",
    "X[:1_000, 0] = 1\n",
    "\n",
    "X[:500, 1] = 1\n",
    "X[1_000:1_500, 1] = 1\n",
    "\n",
    "X[:250, 2] = 1\n",
    "X[500:750, 2] = 1\n",
    "X[1_000:1_250, 2] = 1\n",
    "X[1_500:1_750, 2] = 1\n",
    "\n",
    "# mean-center the data\n",
    "X[:, 0:3] -= 0.5\n",
    "\n",
    "y = 2 * X[:, 0] - 3 * X[:, 1]"
   ]
  },
  {
   "cell_type": "code",
   "execution_count": 5,
   "metadata": {},
   "outputs": [
    {
     "data": {
      "text/plain": [
       "array([[0.25012506, 0.        , 0.        , 0.        , 0.        ],\n",
       "       [0.        , 0.25012506, 0.        , 0.        , 0.        ],\n",
       "       [0.        , 0.        , 0.25012506, 0.        , 0.        ],\n",
       "       [0.        , 0.        , 0.        , 0.        , 0.        ],\n",
       "       [0.        , 0.        , 0.        , 0.        , 0.        ]])"
      ]
     },
     "execution_count": 5,
     "metadata": {},
     "output_type": "execute_result"
    }
   ],
   "source": [
    "np.cov(X.T)"
   ]
  },
  {
   "cell_type": "code",
   "execution_count": 6,
   "metadata": {},
   "outputs": [
    {
     "data": {
      "text/plain": [
       "array([0., 0., 0., 0., 0.])"
      ]
     },
     "execution_count": 6,
     "metadata": {},
     "output_type": "execute_result"
    }
   ],
   "source": [
    "X.mean(axis=0)"
   ]
  },
  {
   "cell_type": "code",
   "execution_count": 7,
   "metadata": {},
   "outputs": [
    {
     "name": "stdout",
     "output_type": "stream",
     "text": [
      "Model error = 0.0\n",
      "0:[f1<0.5] yes=1,no=2,missing=2,gain=4500,cover=2000\n",
      "\t1:[f0<0.5] yes=3,no=4,missing=4,gain=1000,cover=1000\n",
      "\t\t3:leaf=0.5,cover=500\n",
      "\t\t4:leaf=2.5,cover=500\n",
      "\t2:[f0<0.5] yes=5,no=6,missing=6,gain=1000,cover=1000\n",
      "\t\t5:leaf=-2.5,cover=500\n",
      "\t\t6:leaf=-0.5,cover=500\n",
      "\n"
     ]
    }
   ],
   "source": [
    "# train a model with single tree\n",
    "Xd = xgboost.DMatrix(X, label=y)\n",
    "model = xgboost.train({\"eta\": 1, \"max_depth\": 3, \"base_score\": 0, \"lambda\": 0}, Xd, 1)\n",
    "\n",
    "print(\"Model error =\", np.linalg.norm(y - model.predict(Xd)))\n",
    "print(model.get_dump(with_stats=True)[0])"
   ]
  },
  {
   "cell_type": "markdown",
   "metadata": {},
   "source": [
    "## Shapley Values"
   ]
  },
  {
   "cell_type": "code",
   "execution_count": 8,
   "metadata": {},
   "outputs": [
    {
     "data": {
      "text/plain": [
       "0.0"
      ]
     },
     "execution_count": 8,
     "metadata": {},
     "output_type": "execute_result"
    }
   ],
   "source": [
    "pred = model.predict(Xd, output_margin=True)\n",
    "\n",
    "explainer = shap.TreeExplainer(model)\n",
    "explanation = explainer(Xd)\n",
    "\n",
    "shap_values = explanation.values\n",
    "# make sure the SHAP values add up to marginal predictions\n",
    "np.abs(shap_values.sum(axis=1) + explanation.base_values - pred).max()"
   ]
  },
  {
   "cell_type": "code",
   "execution_count": 9,
   "metadata": {},
   "outputs": [
    {
     "data": {
      "image/png": "[encoded data removed]",
      "text/plain": [
       "<Figure size 800x350 with 2 Axes>"
      ]
     },
     "metadata": {},
     "output_type": "display_data"
    }
   ],
   "source": [
    "shap.plots.beeswarm(explanation)\n"
   ]
  },
  {
   "cell_type": "code",
   "execution_count": 11,
   "metadata": {},
   "outputs": [
    {
     "data": {
      "text/plain": [
       "array([ 2., -3.,  0.,  0.,  0.])"
      ]
     },
     "execution_count": 11,
     "metadata": {},
     "output_type": "execute_result"
    }
   ],
   "source": [
    "lr = LinearRegression()\n",
    "lr.fit(X, y)\n",
    "lr_pred = lr.predict(X)\n",
    "lr.coef_.round(2)"
   ]
  },
  {
   "cell_type": "code",
   "execution_count": 12,
   "metadata": {},
   "outputs": [
    {
     "data": {
      "text/plain": [
       "3.4697834078323924e-13"
      ]
     },
     "execution_count": 12,
     "metadata": {},
     "output_type": "execute_result"
    }
   ],
   "source": [
    "main_effect_shap_values = lr.coef_ * (X - X.mean(0))\n",
    "np.linalg.norm(shap_values - main_effect_shap_values)"
   ]
  },
  {
   "cell_type": "code",
   "execution_count": null,
   "metadata": {},
   "outputs": [],
   "source": []
  }
 ],
 "metadata": {
  "kernelspec": {
   "display_name": "venv",
   "language": "python",
   "name": "python3"
  },
  "language_info": {
   "codemirror_mode": {
    "name": "ipython",
    "version": 3
   },
   "file_extension": ".py",
   "mimetype": "text/x-python",
   "name": "python",
   "nbconvert_exporter": "python",
   "pygments_lexer": "ipython3",
   "version": "3.10.3"
  }
 },
 "nbformat": 4,
 "nbformat_minor": 2
}
