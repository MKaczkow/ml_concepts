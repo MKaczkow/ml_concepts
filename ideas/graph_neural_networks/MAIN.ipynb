{
 "cells": [
  {
   "cell_type": "code",
   "execution_count": 50,
   "metadata": {},
   "outputs": [],
   "source": [
    "# heavily based on:\n",
    "# https://pytorch-geometric.readthedocs.io/en/latest/get_started/introduction.html"
   ]
  },
  {
   "cell_type": "code",
   "execution_count": 49,
   "metadata": {},
   "outputs": [
    {
     "name": "stdout",
     "output_type": "stream",
     "text": [
      "2.3.0+cu118\n",
      "2.5.3\n"
     ]
    }
   ],
   "source": [
    "import networkx as nx\n",
    "\n",
    "import torch\n",
    "import torch.nn.functional as F\n",
    "\n",
    "import torch_geometric\n",
    "from torch_geometric.nn import GCNConv\n",
    "from torch_geometric.utils import to_networkx, scatter\n",
    "from torch_geometric.data import Data, DataLoader\n",
    "from torch_geometric.datasets import TUDataset, Planetoid\n",
    "\n",
    "print(torch.__version__)\n",
    "print(torch_geometric.__version__)"
   ]
  },
  {
   "cell_type": "code",
   "execution_count": 37,
   "metadata": {},
   "outputs": [
    {
     "name": "stdout",
     "output_type": "stream",
     "text": [
      "cuda\n"
     ]
    }
   ],
   "source": [
    "device = torch.device('cuda' if torch.cuda.is_available() else 'cpu')\n",
    "print(device)"
   ]
  },
  {
   "cell_type": "markdown",
   "metadata": {},
   "source": [
    "## Basics"
   ]
  },
  {
   "cell_type": "code",
   "execution_count": 3,
   "metadata": {},
   "outputs": [],
   "source": [
    "edge_index = torch.tensor([[0, 1, 1, 2],\n",
    "                           [1, 0, 2, 1]], dtype=torch.long)\n",
    "x = torch.tensor([[-1], [0], [1]], dtype=torch.float)\n"
   ]
  },
  {
   "cell_type": "code",
   "execution_count": 4,
   "metadata": {},
   "outputs": [],
   "source": [
    "data = Data(x=x, edge_index=edge_index)\n"
   ]
  },
  {
   "cell_type": "code",
   "execution_count": 7,
   "metadata": {},
   "outputs": [
    {
     "name": "stdout",
     "output_type": "stream",
     "text": [
      "Data(x=[3, 1], edge_index=[2, 4])\n"
     ]
    }
   ],
   "source": [
    "print(data)"
   ]
  },
  {
   "cell_type": "code",
   "execution_count": 8,
   "metadata": {},
   "outputs": [],
   "source": [
    "edge_index = torch.tensor([[0, 1],\n",
    "                           [1, 0],\n",
    "                           [1, 2],\n",
    "                           [2, 1]], dtype=torch.long)\n",
    "x = torch.tensor([[-1], [0], [1]], dtype=torch.float)"
   ]
  },
  {
   "cell_type": "code",
   "execution_count": 77,
   "metadata": {},
   "outputs": [
    {
     "name": "stdout",
     "output_type": "stream",
     "text": [
      "<class 'torch.Tensor'>\n",
      "torch.Size([4, 2])\n",
      "tensor([[0, 1, 1, 2],\n",
      "        [1, 0, 2, 1]])\n"
     ]
    }
   ],
   "source": [
    "print(type(edge_index))\n",
    "print(edge_index.shape)\n",
    "print(edge_index.t())"
   ]
  },
  {
   "cell_type": "code",
   "execution_count": 9,
   "metadata": {},
   "outputs": [],
   "source": [
    "data = Data(x=x, edge_index=edge_index.t().contiguous())\n",
    "# this does the following:\n",
    "# 1. We create data based on edge_index and x\n",
    "# 2. We transpose edge_index (torch.t() is for T, so transposing)\n",
    "# 3. We make sure that the tensor is contiguous, \n",
    "#    which means that the memory is stored in a single block"
   ]
  },
  {
   "cell_type": "code",
   "execution_count": 10,
   "metadata": {},
   "outputs": [
    {
     "name": "stdout",
     "output_type": "stream",
     "text": [
      "Data(x=[3, 1], edge_index=[2, 4])\n"
     ]
    }
   ],
   "source": [
    "print(data)"
   ]
  },
  {
   "cell_type": "code",
   "execution_count": 11,
   "metadata": {},
   "outputs": [
    {
     "data": {
      "text/plain": [
       "True"
      ]
     },
     "execution_count": 11,
     "metadata": {},
     "output_type": "execute_result"
    }
   ],
   "source": [
    "data.validate(raise_on_error=True)"
   ]
  },
  {
   "cell_type": "code",
   "execution_count": 12,
   "metadata": {},
   "outputs": [
    {
     "name": "stdout",
     "output_type": "stream",
     "text": [
      "x: tensor([[-1.],\n",
      "        [ 0.],\n",
      "        [ 1.]]) found in data\n",
      "edge_index: tensor([[0, 1, 1, 2],\n",
      "        [1, 0, 2, 1]]) found in data\n"
     ]
    }
   ],
   "source": [
    "for key, item in data:\n",
    "    print(f'{key}: {item} found in data')"
   ]
  },
  {
   "cell_type": "code",
   "execution_count": 13,
   "metadata": {},
   "outputs": [
    {
     "name": "stdout",
     "output_type": "stream",
     "text": [
      "3\n",
      "4\n",
      "1\n",
      "0\n",
      "False\n",
      "False\n",
      "False\n"
     ]
    },
    {
     "name": "stderr",
     "output_type": "stream",
     "text": [
      "c:\\Users\\Maciek\\__repos\\ml_concepts\\venv\\Lib\\site-packages\\torch_geometric\\deprecation.py:26: UserWarning: 'contains_isolated_nodes' is deprecated, use 'has_isolated_nodes' instead\n",
      "  warnings.warn(out)\n",
      "c:\\Users\\Maciek\\__repos\\ml_concepts\\venv\\Lib\\site-packages\\torch_geometric\\deprecation.py:26: UserWarning: 'contains_self_loops' is deprecated, use 'has_self_loops' instead\n",
      "  warnings.warn(out)\n"
     ]
    }
   ],
   "source": [
    "print(data.num_nodes)\n",
    "print(data.num_edges)\n",
    "print(data.num_node_features)\n",
    "print(data.num_edge_features)\n",
    "print(data.contains_isolated_nodes())\n",
    "print(data.contains_self_loops())\n",
    "print(data.is_directed())"
   ]
  },
  {
   "cell_type": "markdown",
   "metadata": {},
   "source": [
    "## TUDataset"
   ]
  },
  {
   "cell_type": "code",
   "execution_count": 39,
   "metadata": {},
   "outputs": [],
   "source": [
    "tud_dataset = TUDataset(root='/tmp/ENZYMES', name='ENZYMES')"
   ]
  },
  {
   "cell_type": "markdown",
   "metadata": {},
   "source": [
    "### EDA"
   ]
  },
  {
   "cell_type": "code",
   "execution_count": 17,
   "metadata": {},
   "outputs": [
    {
     "name": "stdout",
     "output_type": "stream",
     "text": [
      "600\n"
     ]
    }
   ],
   "source": [
    "print(len(tud_dataset))"
   ]
  },
  {
   "cell_type": "code",
   "execution_count": 18,
   "metadata": {},
   "outputs": [
    {
     "name": "stdout",
     "output_type": "stream",
     "text": [
      "6\n"
     ]
    }
   ],
   "source": [
    "print(tud_dataset.num_classes)"
   ]
  },
  {
   "cell_type": "code",
   "execution_count": 19,
   "metadata": {},
   "outputs": [
    {
     "name": "stdout",
     "output_type": "stream",
     "text": [
      "3\n"
     ]
    }
   ],
   "source": [
    "print(tud_dataset.num_node_features)"
   ]
  },
  {
   "cell_type": "code",
   "execution_count": 20,
   "metadata": {},
   "outputs": [
    {
     "name": "stdout",
     "output_type": "stream",
     "text": [
      "Data(edge_index=[2, 168], x=[37, 3], y=[1])\n"
     ]
    }
   ],
   "source": [
    "print(tud_dataset[0])"
   ]
  },
  {
   "cell_type": "code",
   "execution_count": 21,
   "metadata": {},
   "outputs": [
    {
     "name": "stdout",
     "output_type": "stream",
     "text": [
      "True\n"
     ]
    }
   ],
   "source": [
    "print(tud_dataset[0].is_undirected())"
   ]
  },
  {
   "cell_type": "code",
   "execution_count": 25,
   "metadata": {},
   "outputs": [],
   "source": [
    "G = to_networkx(tud_dataset[0], to_undirected=True)"
   ]
  },
  {
   "cell_type": "code",
   "execution_count": 27,
   "metadata": {},
   "outputs": [
    {
     "data": {
      "image/png": "[encoded data removed]",
      "text/plain": [
       "<Figure size 640x480 with 1 Axes>"
      ]
     },
     "metadata": {},
     "output_type": "display_data"
    }
   ],
   "source": [
    "nx.draw(G, with_labels=True)"
   ]
  },
  {
   "cell_type": "markdown",
   "metadata": {},
   "source": [
    "### Data Preprocessing"
   ]
  },
  {
   "cell_type": "code",
   "execution_count": 40,
   "metadata": {},
   "outputs": [
    {
     "name": "stderr",
     "output_type": "stream",
     "text": [
      "c:\\Users\\Maciek\\__repos\\ml_concepts\\venv\\Lib\\site-packages\\torch_geometric\\deprecation.py:26: UserWarning: 'data.DataLoader' is deprecated, use 'loader.DataLoader' instead\n",
      "  warnings.warn(out)\n"
     ]
    }
   ],
   "source": [
    "tud_loader = DataLoader(tud_dataset, batch_size=32, shuffle=True)"
   ]
  },
  {
   "cell_type": "code",
   "execution_count": 42,
   "metadata": {},
   "outputs": [
    {
     "name": "stdout",
     "output_type": "stream",
     "text": [
      "<class 'torch_geometric.data.batch.DataBatch'>\n",
      "DataBatch(edge_index=[2, 3968], x=[1018, 3], y=[32], batch=[1018], ptr=[33])\n"
     ]
    }
   ],
   "source": [
    "for data in tud_loader:\n",
    "    print(type(data))\n",
    "    print(data)\n",
    "    break"
   ]
  },
  {
   "cell_type": "code",
   "execution_count": 48,
   "metadata": {},
   "outputs": [
    {
     "name": "stdout",
     "output_type": "stream",
     "text": [
      "torch.Size([32, 3])\n",
      "<class 'torch.Tensor'>\n",
      "tensor([[0.5714, 0.4286, 0.0000],\n",
      "        [0.3429, 0.6571, 0.0000],\n",
      "        [0.3636, 0.6364, 0.0000],\n",
      "        [0.4348, 0.5652, 0.0000],\n",
      "        [0.7222, 0.2778, 0.0000]])\n"
     ]
    }
   ],
   "source": [
    "x = scatter(data.x, data.batch, dim=0, reduce='mean')\n",
    "print(x.size())\n",
    "print(type(x))\n",
    "print(x[:5])"
   ]
  },
  {
   "cell_type": "code",
   "execution_count": null,
   "metadata": {},
   "outputs": [],
   "source": []
  },
  {
   "cell_type": "markdown",
   "metadata": {},
   "source": [
    "## Planetoid"
   ]
  },
  {
   "cell_type": "code",
   "execution_count": 56,
   "metadata": {},
   "outputs": [],
   "source": [
    "planetoid_dataset = Planetoid(root='/tmp/Cora', name='Cora')"
   ]
  },
  {
   "cell_type": "markdown",
   "metadata": {},
   "source": [
    "### EDA"
   ]
  },
  {
   "cell_type": "code",
   "execution_count": 57,
   "metadata": {},
   "outputs": [
    {
     "data": {
      "text/plain": [
       "1"
      ]
     },
     "execution_count": 57,
     "metadata": {},
     "output_type": "execute_result"
    }
   ],
   "source": [
    "len(planetoid_dataset)"
   ]
  },
  {
   "cell_type": "code",
   "execution_count": 58,
   "metadata": {},
   "outputs": [
    {
     "data": {
      "text/plain": [
       "7"
      ]
     },
     "execution_count": 58,
     "metadata": {},
     "output_type": "execute_result"
    }
   ],
   "source": [
    "planetoid_dataset.num_classes"
   ]
  },
  {
   "cell_type": "code",
   "execution_count": 59,
   "metadata": {},
   "outputs": [
    {
     "data": {
      "text/plain": [
       "1433"
      ]
     },
     "execution_count": 59,
     "metadata": {},
     "output_type": "execute_result"
    }
   ],
   "source": [
    "planetoid_dataset.num_node_features"
   ]
  },
  {
   "cell_type": "markdown",
   "metadata": {},
   "source": [
    "... so just a single, but very complicated and big graph."
   ]
  },
  {
   "cell_type": "code",
   "execution_count": 33,
   "metadata": {},
   "outputs": [],
   "source": [
    "G = to_networkx(planetoid_dataset[0], to_undirected=True)"
   ]
  },
  {
   "cell_type": "code",
   "execution_count": 35,
   "metadata": {},
   "outputs": [],
   "source": [
    "# will take some time to run it and doesn't really make sense,\n",
    "# as the img is not really readable\n",
    "# nx.draw(G, with_labels=True)"
   ]
  },
  {
   "cell_type": "markdown",
   "metadata": {},
   "source": [
    "## GCN"
   ]
  },
  {
   "cell_type": "code",
   "execution_count": 65,
   "metadata": {},
   "outputs": [],
   "source": [
    "class GCN(torch.nn.Module):\n",
    "    def __init__(self):\n",
    "        super().__init__()\n",
    "        self.conv1 = GCNConv(planetoid_dataset.num_node_features, 16)\n",
    "        self.conv2 = GCNConv(16, planetoid_dataset.num_classes)\n",
    "\n",
    "    def forward(self, data):\n",
    "        x, edge_index = data.x, data.edge_index\n",
    "\n",
    "        x = self.conv1(x, edge_index)\n",
    "        x = F.relu(x)\n",
    "        x = F.dropout(x, training=self.training)\n",
    "        x = self.conv2(x, edge_index)\n",
    "\n",
    "        return F.log_softmax(x, dim=1)"
   ]
  },
  {
   "cell_type": "code",
   "execution_count": 66,
   "metadata": {},
   "outputs": [],
   "source": [
    "model = GCN().to(device)"
   ]
  },
  {
   "cell_type": "code",
   "execution_count": 67,
   "metadata": {},
   "outputs": [],
   "source": [
    "data = planetoid_dataset[0].to(device)"
   ]
  },
  {
   "cell_type": "code",
   "execution_count": 68,
   "metadata": {},
   "outputs": [],
   "source": [
    "optimizer = torch.optim.Adam(model.parameters(), lr=0.01, weight_decay=5e-4)"
   ]
  },
  {
   "cell_type": "markdown",
   "metadata": {},
   "source": [
    "### Train"
   ]
  },
  {
   "cell_type": "code",
   "execution_count": 69,
   "metadata": {},
   "outputs": [],
   "source": [
    "num_epochs = 200"
   ]
  },
  {
   "cell_type": "code",
   "execution_count": 70,
   "metadata": {},
   "outputs": [
    {
     "name": "stdout",
     "output_type": "stream",
     "text": [
      "Epoch 1/200\n",
      "Loss: 1.9447503089904785\n",
      "Epoch 2/200\n",
      "Loss: 1.8437557220458984\n",
      "Epoch 3/200\n",
      "Loss: 1.7358181476593018\n",
      "Epoch 4/200\n",
      "Loss: 1.6231549978256226\n",
      "Epoch 5/200\n",
      "Loss: 1.5102763175964355\n",
      "Epoch 6/200\n",
      "Loss: 1.3794676065444946\n",
      "Epoch 7/200\n",
      "Loss: 1.24431574344635\n",
      "Epoch 8/200\n",
      "Loss: 1.1535457372665405\n",
      "Epoch 9/200\n",
      "Loss: 1.0689893960952759\n",
      "Epoch 10/200\n",
      "Loss: 0.9172961711883545\n",
      "Epoch 11/200\n",
      "Loss: 0.887378990650177\n",
      "Epoch 12/200\n",
      "Loss: 0.7525224685668945\n",
      "Epoch 13/200\n",
      "Loss: 0.6741389036178589\n",
      "Epoch 14/200\n",
      "Loss: 0.6183300614356995\n",
      "Epoch 15/200\n",
      "Loss: 0.5080072283744812\n",
      "Epoch 16/200\n",
      "Loss: 0.4586561918258667\n",
      "Epoch 17/200\n",
      "Loss: 0.4111659824848175\n",
      "Epoch 18/200\n",
      "Loss: 0.36079084873199463\n",
      "Epoch 19/200\n",
      "Loss: 0.313220351934433\n",
      "Epoch 20/200\n",
      "Loss: 0.2924312949180603\n",
      "Epoch 21/200\n",
      "Loss: 0.23288173973560333\n",
      "Epoch 22/200\n",
      "Loss: 0.23188629746437073\n",
      "Epoch 23/200\n",
      "Loss: 0.21336863934993744\n",
      "Epoch 24/200\n",
      "Loss: 0.1714058220386505\n",
      "Epoch 25/200\n",
      "Loss: 0.16974052786827087\n",
      "Epoch 26/200\n",
      "Loss: 0.1246093213558197\n",
      "Epoch 27/200\n",
      "Loss: 0.14425139129161835\n",
      "Epoch 28/200\n",
      "Loss: 0.14015085995197296\n",
      "Epoch 29/200\n",
      "Loss: 0.11029517650604248\n",
      "Epoch 30/200\n",
      "Loss: 0.1132054254412651\n",
      "Epoch 31/200\n",
      "Loss: 0.10342548042535782\n",
      "Epoch 32/200\n",
      "Loss: 0.1057150810956955\n",
      "Epoch 33/200\n",
      "Loss: 0.09738146513700485\n",
      "Epoch 34/200\n",
      "Loss: 0.07842206954956055\n",
      "Epoch 35/200\n",
      "Loss: 0.08394017815589905\n",
      "Epoch 36/200\n",
      "Loss: 0.08749841898679733\n",
      "Epoch 37/200\n",
      "Loss: 0.08408656716346741\n",
      "Epoch 38/200\n",
      "Loss: 0.04960811138153076\n",
      "Epoch 39/200\n",
      "Loss: 0.08131887763738632\n",
      "Epoch 40/200\n",
      "Loss: 0.055683545768260956\n",
      "Epoch 41/200\n",
      "Loss: 0.06953585892915726\n",
      "Epoch 42/200\n",
      "Loss: 0.062217358499765396\n",
      "Epoch 43/200\n",
      "Loss: 0.059198420494794846\n",
      "Epoch 44/200\n",
      "Loss: 0.04434477537870407\n",
      "Epoch 45/200\n",
      "Loss: 0.0611761175096035\n",
      "Epoch 46/200\n",
      "Loss: 0.05686093494296074\n",
      "Epoch 47/200\n",
      "Loss: 0.08559247851371765\n",
      "Epoch 48/200\n",
      "Loss: 0.05242340266704559\n",
      "Epoch 49/200\n",
      "Loss: 0.04434465244412422\n",
      "Epoch 50/200\n",
      "Loss: 0.05468680337071419\n",
      "Epoch 51/200\n",
      "Loss: 0.04825061559677124\n",
      "Epoch 52/200\n",
      "Loss: 0.053773362189531326\n",
      "Epoch 53/200\n",
      "Loss: 0.05859282985329628\n",
      "Epoch 54/200\n",
      "Loss: 0.060429539531469345\n",
      "Epoch 55/200\n",
      "Loss: 0.04685021564364433\n",
      "Epoch 56/200\n",
      "Loss: 0.04839754477143288\n",
      "Epoch 57/200\n",
      "Loss: 0.03730887547135353\n",
      "Epoch 58/200\n",
      "Loss: 0.03782159835100174\n",
      "Epoch 59/200\n",
      "Loss: 0.04145040735602379\n",
      "Epoch 60/200\n",
      "Loss: 0.03382997214794159\n",
      "Epoch 61/200\n",
      "Loss: 0.03908314183354378\n",
      "Epoch 62/200\n",
      "Loss: 0.043397922068834305\n",
      "Epoch 63/200\n",
      "Loss: 0.03365516662597656\n",
      "Epoch 64/200\n",
      "Loss: 0.05756942927837372\n",
      "Epoch 65/200\n",
      "Loss: 0.048504967242479324\n",
      "Epoch 66/200\n",
      "Loss: 0.03480847552418709\n",
      "Epoch 67/200\n",
      "Loss: 0.027628155425190926\n",
      "Epoch 68/200\n",
      "Loss: 0.03983769565820694\n",
      "Epoch 69/200\n",
      "Loss: 0.05433269590139389\n",
      "Epoch 70/200\n",
      "Loss: 0.03754254803061485\n",
      "Epoch 71/200\n",
      "Loss: 0.034548480063676834\n",
      "Epoch 72/200\n",
      "Loss: 0.04517589509487152\n",
      "Epoch 73/200\n",
      "Loss: 0.0348343662917614\n",
      "Epoch 74/200\n",
      "Loss: 0.04910189285874367\n",
      "Epoch 75/200\n",
      "Loss: 0.03718625009059906\n",
      "Epoch 76/200\n",
      "Loss: 0.04065221920609474\n",
      "Epoch 77/200\n",
      "Loss: 0.05252964794635773\n",
      "Epoch 78/200\n",
      "Loss: 0.035430487245321274\n",
      "Epoch 79/200\n",
      "Loss: 0.04630544036626816\n",
      "Epoch 80/200\n",
      "Loss: 0.04144896939396858\n",
      "Epoch 81/200\n",
      "Loss: 0.038843583315610886\n",
      "Epoch 82/200\n",
      "Loss: 0.036526840180158615\n",
      "Epoch 83/200\n",
      "Loss: 0.04930383339524269\n",
      "Epoch 84/200\n",
      "Loss: 0.037007272243499756\n",
      "Epoch 85/200\n",
      "Loss: 0.03727759048342705\n",
      "Epoch 86/200\n",
      "Loss: 0.047781430184841156\n",
      "Epoch 87/200\n",
      "Loss: 0.03421282023191452\n",
      "Epoch 88/200\n",
      "Loss: 0.03173360601067543\n",
      "Epoch 89/200\n",
      "Loss: 0.04251591116189957\n",
      "Epoch 90/200\n",
      "Loss: 0.05227460712194443\n",
      "Epoch 91/200\n",
      "Loss: 0.028114458546042442\n",
      "Epoch 92/200\n",
      "Loss: 0.03142267465591431\n",
      "Epoch 93/200\n",
      "Loss: 0.030510326847434044\n",
      "Epoch 94/200\n",
      "Loss: 0.04296804219484329\n",
      "Epoch 95/200\n",
      "Loss: 0.03241155669093132\n",
      "Epoch 96/200\n",
      "Loss: 0.03835364058613777\n",
      "Epoch 97/200\n",
      "Loss: 0.052191756665706635\n",
      "Epoch 98/200\n",
      "Loss: 0.039643794298172\n",
      "Epoch 99/200\n",
      "Loss: 0.03116551786661148\n",
      "Epoch 100/200\n",
      "Loss: 0.03647034987807274\n",
      "Epoch 101/200\n",
      "Loss: 0.0395018495619297\n",
      "Epoch 102/200\n",
      "Loss: 0.0534091554582119\n",
      "Epoch 103/200\n",
      "Loss: 0.05199730396270752\n",
      "Epoch 104/200\n",
      "Loss: 0.049571555107831955\n",
      "Epoch 105/200\n",
      "Loss: 0.041112735867500305\n",
      "Epoch 106/200\n",
      "Loss: 0.05343708395957947\n",
      "Epoch 107/200\n",
      "Loss: 0.029450641945004463\n",
      "Epoch 108/200\n",
      "Loss: 0.030411355197429657\n",
      "Epoch 109/200\n",
      "Loss: 0.037250299006700516\n",
      "Epoch 110/200\n",
      "Loss: 0.0350174643099308\n",
      "Epoch 111/200\n",
      "Loss: 0.032322585582733154\n",
      "Epoch 112/200\n",
      "Loss: 0.04748929664492607\n",
      "Epoch 113/200\n",
      "Loss: 0.034497957676649094\n",
      "Epoch 114/200\n",
      "Loss: 0.043355222791433334\n",
      "Epoch 115/200\n",
      "Loss: 0.026753298938274384\n",
      "Epoch 116/200\n",
      "Loss: 0.045210450887680054\n",
      "Epoch 117/200\n",
      "Loss: 0.04477674514055252\n",
      "Epoch 118/200\n",
      "Loss: 0.04454663768410683\n",
      "Epoch 119/200\n",
      "Loss: 0.038578055799007416\n",
      "Epoch 120/200\n",
      "Loss: 0.0434110052883625\n",
      "Epoch 121/200\n",
      "Loss: 0.03985728323459625\n",
      "Epoch 122/200\n",
      "Loss: 0.04100848734378815\n",
      "Epoch 123/200\n",
      "Loss: 0.0421660877764225\n",
      "Epoch 124/200\n",
      "Loss: 0.026055699214339256\n",
      "Epoch 125/200\n",
      "Loss: 0.03783964738249779\n",
      "Epoch 126/200\n",
      "Loss: 0.04090336337685585\n",
      "Epoch 127/200\n",
      "Loss: 0.03794582933187485\n",
      "Epoch 128/200\n",
      "Loss: 0.03859017789363861\n",
      "Epoch 129/200\n",
      "Loss: 0.036025308072566986\n",
      "Epoch 130/200\n",
      "Loss: 0.027709195390343666\n",
      "Epoch 131/200\n",
      "Loss: 0.03541133552789688\n",
      "Epoch 132/200\n",
      "Loss: 0.04813345521688461\n",
      "Epoch 133/200\n",
      "Loss: 0.025157034397125244\n",
      "Epoch 134/200\n",
      "Loss: 0.03664662688970566\n",
      "Epoch 135/200\n",
      "Loss: 0.048742927610874176\n",
      "Epoch 136/200\n",
      "Loss: 0.0320897102355957\n",
      "Epoch 137/200\n",
      "Loss: 0.038424279540777206\n",
      "Epoch 138/200\n",
      "Loss: 0.04462723433971405\n",
      "Epoch 139/200\n",
      "Loss: 0.03340655565261841\n",
      "Epoch 140/200\n",
      "Loss: 0.044005174189805984\n",
      "Epoch 141/200\n",
      "Loss: 0.02698039636015892\n",
      "Epoch 142/200\n",
      "Loss: 0.032296206802129745\n",
      "Epoch 143/200\n",
      "Loss: 0.028294656425714493\n",
      "Epoch 144/200\n",
      "Loss: 0.030417166650295258\n",
      "Epoch 145/200\n",
      "Loss: 0.04357052221894264\n",
      "Epoch 146/200\n",
      "Loss: 0.03508000448346138\n",
      "Epoch 147/200\n",
      "Loss: 0.03912268579006195\n",
      "Epoch 148/200\n",
      "Loss: 0.034667957574129105\n",
      "Epoch 149/200\n",
      "Loss: 0.029956333339214325\n",
      "Epoch 150/200\n",
      "Loss: 0.04806278273463249\n",
      "Epoch 151/200\n",
      "Loss: 0.04002421349287033\n",
      "Epoch 152/200\n",
      "Loss: 0.032815009355545044\n",
      "Epoch 153/200\n",
      "Loss: 0.03745700791478157\n",
      "Epoch 154/200\n",
      "Loss: 0.03834434226155281\n",
      "Epoch 155/200\n",
      "Loss: 0.043013498187065125\n",
      "Epoch 156/200\n",
      "Loss: 0.024355696514248848\n",
      "Epoch 157/200\n",
      "Loss: 0.02493770606815815\n",
      "Epoch 158/200\n",
      "Loss: 0.029757866635918617\n",
      "Epoch 159/200\n",
      "Loss: 0.04136454313993454\n",
      "Epoch 160/200\n",
      "Loss: 0.029935741797089577\n",
      "Epoch 161/200\n",
      "Loss: 0.020452719181776047\n",
      "Epoch 162/200\n",
      "Loss: 0.02732967585325241\n",
      "Epoch 163/200\n",
      "Loss: 0.031685296446084976\n",
      "Epoch 164/200\n",
      "Loss: 0.029708610847592354\n",
      "Epoch 165/200\n",
      "Loss: 0.022480258718132973\n",
      "Epoch 166/200\n",
      "Loss: 0.03379428759217262\n",
      "Epoch 167/200\n",
      "Loss: 0.02816392295062542\n",
      "Epoch 168/200\n",
      "Loss: 0.03307313844561577\n",
      "Epoch 169/200\n",
      "Loss: 0.038800641894340515\n",
      "Epoch 170/200\n",
      "Loss: 0.032358188182115555\n",
      "Epoch 171/200\n",
      "Loss: 0.030916472896933556\n",
      "Epoch 172/200\n",
      "Loss: 0.02846386656165123\n",
      "Epoch 173/200\n",
      "Loss: 0.024306653067469597\n",
      "Epoch 174/200\n",
      "Loss: 0.019809037446975708\n",
      "Epoch 175/200\n",
      "Loss: 0.04173852503299713\n",
      "Epoch 176/200\n",
      "Loss: 0.02364233322441578\n",
      "Epoch 177/200\n",
      "Loss: 0.018855541944503784\n",
      "Epoch 178/200\n",
      "Loss: 0.024957135319709778\n",
      "Epoch 179/200\n",
      "Loss: 0.024397019296884537\n",
      "Epoch 180/200\n",
      "Loss: 0.01949734054505825\n",
      "Epoch 181/200\n",
      "Loss: 0.0300091914832592\n",
      "Epoch 182/200\n",
      "Loss: 0.02693113312125206\n",
      "Epoch 183/200\n",
      "Loss: 0.030625268816947937\n",
      "Epoch 184/200\n",
      "Loss: 0.030111534520983696\n",
      "Epoch 185/200\n",
      "Loss: 0.027264587581157684\n",
      "Epoch 186/200\n",
      "Loss: 0.036589108407497406\n",
      "Epoch 187/200\n",
      "Loss: 0.027329621836543083\n",
      "Epoch 188/200\n",
      "Loss: 0.023352086544036865\n",
      "Epoch 189/200\n",
      "Loss: 0.028265053406357765\n",
      "Epoch 190/200\n",
      "Loss: 0.04352596774697304\n",
      "Epoch 191/200\n",
      "Loss: 0.022581862285733223\n",
      "Epoch 192/200\n",
      "Loss: 0.0304875448346138\n",
      "Epoch 193/200\n",
      "Loss: 0.030170468613505363\n",
      "Epoch 194/200\n",
      "Loss: 0.035986632108688354\n",
      "Epoch 195/200\n",
      "Loss: 0.04028818756341934\n",
      "Epoch 196/200\n",
      "Loss: 0.030652308836579323\n",
      "Epoch 197/200\n",
      "Loss: 0.02779291197657585\n",
      "Epoch 198/200\n",
      "Loss: 0.022260397672653198\n",
      "Epoch 199/200\n",
      "Loss: 0.01767476461827755\n",
      "Epoch 200/200\n",
      "Loss: 0.02453196421265602\n"
     ]
    }
   ],
   "source": [
    "model.train()\n",
    "for epoch in range(num_epochs):\n",
    "    print(f'Epoch {epoch+1}/{num_epochs}')\n",
    "    optimizer.zero_grad()\n",
    "    out = model(data)\n",
    "    loss = F.nll_loss(out[data.train_mask], data.y[data.train_mask])\n",
    "    print(f'Loss: {loss.item()}')\n",
    "    loss.backward()\n",
    "    optimizer.step()\n"
   ]
  },
  {
   "cell_type": "markdown",
   "metadata": {},
   "source": [
    "### Test"
   ]
  },
  {
   "cell_type": "code",
   "execution_count": 71,
   "metadata": {},
   "outputs": [],
   "source": [
    "def get_accuracy(model: torch.nn.Module, data: Data) -> float:\n",
    "    model.eval()\n",
    "    pred = model(data).argmax(dim=1)\n",
    "    correct = (pred[data.test_mask] == data.y[data.test_mask]).sum()\n",
    "    acc = int(correct) / int(data.test_mask.sum())\n",
    "    print(f'Accuracy: {acc:.4f}')\n",
    "    return acc"
   ]
  },
  {
   "cell_type": "code",
   "execution_count": 73,
   "metadata": {},
   "outputs": [
    {
     "name": "stdout",
     "output_type": "stream",
     "text": [
      "Accuracy: 0.8040\n"
     ]
    }
   ],
   "source": [
    "acc = get_accuracy(model, data)"
   ]
  },
  {
   "cell_type": "code",
   "execution_count": 74,
   "metadata": {},
   "outputs": [
    {
     "name": "stdout",
     "output_type": "stream",
     "text": [
      "0.804\n"
     ]
    }
   ],
   "source": [
    "print(acc)"
   ]
  },
  {
   "cell_type": "code",
   "execution_count": null,
   "metadata": {},
   "outputs": [],
   "source": []
  }
 ],
 "metadata": {
  "kernelspec": {
   "display_name": "venv",
   "language": "python",
   "name": "python3"
  },
  "language_info": {
   "codemirror_mode": {
    "name": "ipython",
    "version": 3
   },
   "file_extension": ".py",
   "mimetype": "text/x-python",
   "name": "python",
   "nbconvert_exporter": "python",
   "pygments_lexer": "ipython3",
   "version": "3.12.1"
  }
 },
 "nbformat": 4,
 "nbformat_minor": 2
}
