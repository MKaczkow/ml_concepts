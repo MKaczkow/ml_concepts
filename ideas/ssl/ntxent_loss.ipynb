{
 "cells": [
  {
   "cell_type": "code",
   "execution_count": 38,
   "metadata": {},
   "outputs": [],
   "source": [
    "from lightly.loss import NTXentLoss\n",
    "import torch"
   ]
  },
  {
   "cell_type": "code",
   "execution_count": 39,
   "metadata": {},
   "outputs": [
    {
     "data": {
      "text/plain": [
       "<torch._C.Generator at 0x27b3ee73b30>"
      ]
     },
     "execution_count": 39,
     "metadata": {},
     "output_type": "execute_result"
    }
   ],
   "source": [
    "torch.manual_seed(42)"
   ]
  },
  {
   "cell_type": "markdown",
   "metadata": {},
   "source": [
    "## Lightly loss"
   ]
  },
  {
   "cell_type": "code",
   "execution_count": 40,
   "metadata": {},
   "outputs": [
    {
     "name": "stdout",
     "output_type": "stream",
     "text": [
      "Example vector: tensor([[0.8823, 0.9150, 0.3829, 0.9593, 0.3904, 0.6009, 0.2566, 0.7936, 0.9408,\n",
      "         0.1332, 0.9346, 0.5936, 0.8694, 0.5677, 0.7411, 0.4294],\n",
      "        [0.8854, 0.5739, 0.2666, 0.6274, 0.2696, 0.4414, 0.2969, 0.8317, 0.1053,\n",
      "         0.2695, 0.3588, 0.1994, 0.5472, 0.0062, 0.9516, 0.0753],\n",
      "        [0.8860, 0.5832, 0.3376, 0.8090, 0.5779, 0.9040, 0.5547, 0.3423, 0.6343,\n",
      "         0.3644, 0.7104, 0.9464, 0.7890, 0.2814, 0.7886, 0.5895],\n",
      "        [0.7539, 0.1952, 0.0050, 0.3068, 0.1165, 0.9103, 0.6440, 0.7071, 0.6581,\n",
      "         0.4913, 0.8913, 0.1447, 0.5315, 0.1587, 0.6542, 0.3278]])\n",
      "Example ground truth: tensor([[0.6532, 0.3958, 0.9147, 0.2036, 0.2018, 0.2018, 0.9497, 0.6666, 0.9811,\n",
      "         0.0874, 0.0041, 0.1088, 0.1637, 0.7025, 0.6790, 0.9155],\n",
      "        [0.2418, 0.1591, 0.7653, 0.2979, 0.8035, 0.3813, 0.7860, 0.1115, 0.2477,\n",
      "         0.6524, 0.6057, 0.3725, 0.7980, 0.8399, 0.1374, 0.2331],\n",
      "        [0.9578, 0.3313, 0.3227, 0.0162, 0.2137, 0.6249, 0.4340, 0.1371, 0.5117,\n",
      "         0.1585, 0.0758, 0.2247, 0.0624, 0.1816, 0.9998, 0.5944],\n",
      "        [0.6541, 0.0337, 0.1716, 0.3336, 0.5782, 0.0600, 0.2846, 0.2007, 0.5014,\n",
      "         0.3139, 0.4654, 0.1612, 0.1568, 0.2083, 0.3289, 0.1054]])\n"
     ]
    }
   ],
   "source": [
    "example_vector = torch.rand(4, 16)\n",
    "example_gt = torch.rand(4, 16)\n",
    "print('Example vector:', example_vector)\n",
    "print('Example ground truth:', example_gt)"
   ]
  },
  {
   "cell_type": "code",
   "execution_count": 41,
   "metadata": {},
   "outputs": [
    {
     "name": "stdout",
     "output_type": "stream",
     "text": [
      "Loss: 2.0125739574432373\n"
     ]
    }
   ],
   "source": [
    "loss_fn = NTXentLoss(memory_bank_size=0)\n",
    "loss = loss_fn(example_vector, example_gt)\n",
    "print('Loss:', loss.item())"
   ]
  },
  {
   "cell_type": "code",
   "execution_count": 42,
   "metadata": {},
   "outputs": [
    {
     "name": "stdout",
     "output_type": "stream",
     "text": [
      "Loss: 1.4636693000793457\n"
     ]
    }
   ],
   "source": [
    "loss_fn = NTXentLoss(memory_bank_size=0)\n",
    "loss = loss_fn(example_gt, example_gt)\n",
    "print('Loss:', loss.item())"
   ]
  },
  {
   "cell_type": "markdown",
   "metadata": {},
   "source": [
    "## Manually created"
   ]
  },
  {
   "cell_type": "code",
   "execution_count": 43,
   "metadata": {},
   "outputs": [],
   "source": [
    "def ntxent_loss(a, b, tau: float = 0.5):\n",
    "    a = torch.nn.functional.normalize(a, p=2, dim=1)\n",
    "    b = torch.nn.functional.normalize(b, p=2, dim=1)\n",
    "    \n",
    "    sim = torch.mm(a, b.T) / tau\n",
    "    sim = torch.exp(sim)\n",
    "    sim /= sim.sum(dim=1, keepdim=True)\n",
    "    loss = -torch.log(torch.diag(sim))\n",
    "    return loss.mean()"
   ]
  },
  {
   "cell_type": "code",
   "execution_count": 44,
   "metadata": {},
   "outputs": [
    {
     "name": "stdout",
     "output_type": "stream",
     "text": [
      "Loss: 1.4077563285827637\n"
     ]
    }
   ],
   "source": [
    "loss = ntxent_loss(example_vector, example_gt)\n",
    "print('Loss:', loss.item())"
   ]
  },
  {
   "cell_type": "code",
   "execution_count": null,
   "metadata": {},
   "outputs": [],
   "source": []
  }
 ],
 "metadata": {
  "kernelspec": {
   "display_name": "venv",
   "language": "python",
   "name": "python3"
  },
  "language_info": {
   "codemirror_mode": {
    "name": "ipython",
    "version": 3
   },
   "file_extension": ".py",
   "mimetype": "text/x-python",
   "name": "python",
   "nbconvert_exporter": "python",
   "pygments_lexer": "ipython3",
   "version": "3.10.3"
  }
 },
 "nbformat": 4,
 "nbformat_minor": 2
}
