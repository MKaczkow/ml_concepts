{
 "cells": [
  {
   "cell_type": "code",
   "execution_count": 1,
   "metadata": {},
   "outputs": [],
   "source": [
    "from utils import separate_images_by_class"
   ]
  },
  {
   "cell_type": "code",
   "execution_count": 2,
   "metadata": {},
   "outputs": [
    {
     "name": "stdout",
     "output_type": "stream",
     "text": [
      "Image datasets\\clothing-dataset\\images\\d028580f-9a98-4fb5-a6c9-5dc362ad3f09.jpg not found.\n",
      "Image datasets\\clothing-dataset\\images\\1d0129a1-f29a-4a3f-b103-f651176183eb.jpg not found.\n",
      "Image datasets\\clothing-dataset\\images\\784d67d4-b95e-4abb-baf7-8024f18dc3c8.jpg not found.\n",
      "Image datasets\\clothing-dataset\\images\\c60e486d-10ed-4f64-abab-5bb698c736dd.jpg not found.\n",
      "Image datasets\\clothing-dataset\\images\\040d73b7-21b5-4cf2-84fc-e1a80231b202.jpg not found.\n"
     ]
    }
   ],
   "source": [
    "csv_file = r'datasets\\clothing-dataset\\images.csv'\n",
    "source_folder = r'datasets\\clothing-dataset\\images'\n",
    "destination_folder = r'datasets\\clothing-dataset\\images_separated'\n",
    "\n",
    "separate_images_by_class(csv_file, source_folder, destination_folder)"
   ]
  },
  {
   "cell_type": "code",
   "execution_count": null,
   "metadata": {},
   "outputs": [],
   "source": []
  }
 ],
 "metadata": {
  "kernelspec": {
   "display_name": "venv",
   "language": "python",
   "name": "python3"
  },
  "language_info": {
   "codemirror_mode": {
    "name": "ipython",
    "version": 3
   },
   "file_extension": ".py",
   "mimetype": "text/x-python",
   "name": "python",
   "nbconvert_exporter": "python",
   "pygments_lexer": "ipython3",
   "version": "3.10.3"
  }
 },
 "nbformat": 4,
 "nbformat_minor": 2
}
