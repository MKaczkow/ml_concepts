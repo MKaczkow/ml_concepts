{
 "cells": [
  {
   "cell_type": "code",
   "execution_count": null,
   "metadata": {},
   "outputs": [],
   "source": [
    "# Note: The model and training settings do not follow the reference settings\n",
    "# from the paper. The settings are chosen such that the example can easily be\n",
    "# run on a small dataset with a single GPU.\n",
    "from datetime import datetime\n",
    "\n",
    "from typing import Any, Mapping\n",
    "from torch.nn.functional import normalize\n",
    "import pytorch_lightning as pl\n",
    "import torch\n",
    "import torchvision\n",
    "from torch import nn\n",
    "import numpy as np\n",
    "\n",
    "from lightly.loss import NTXentLoss\n",
    "from lightly.models.modules import SimCLRProjectionHead\n",
    "from lightly.transforms.simclr_transform import SimCLRTransform\n",
    "from lightly.transforms.utils import IMAGENET_NORMALIZE\n",
    "\n",
    "import matplotlib.pyplot as plt\n",
    "from sklearn.cluster import KMeans\n",
    "from sklearn.decomposition import PCA\n",
    "\n",
    "from utils import generate_embeddings\n"
   ]
  },
  {
   "cell_type": "code",
   "execution_count": null,
   "metadata": {},
   "outputs": [],
   "source": [
    "device = \"cuda\" if torch.cuda.is_available() else \"cpu\""
   ]
  },
  {
   "cell_type": "markdown",
   "metadata": {},
   "source": [
    "### Test data preparation"
   ]
  },
  {
   "cell_type": "code",
   "execution_count": null,
   "metadata": {},
   "outputs": [],
   "source": [
    "test_transform = torchvision.transforms.Compose(\n",
    "    [\n",
    "        torchvision.transforms.ToTensor(),\n",
    "        torchvision.transforms.Normalize(\n",
    "            mean=IMAGENET_NORMALIZE[\"mean\"],\n",
    "            std=IMAGENET_NORMALIZE[\"std\"],\n",
    "        ),\n",
    "    ]\n",
    ")"
   ]
  },
  {
   "cell_type": "code",
   "execution_count": null,
   "metadata": {},
   "outputs": [],
   "source": [
    "# note, that this is not 'test' in a train/test sense\n",
    "# SIMCLR is uses SSL method, so labels doesn't really matter\n",
    "test_dataset = torchvision.datasets.CIFAR10(\n",
    "    \"datasets/test-cifar10\", download=True, transform=test_transform, train=False\n",
    ")"
   ]
  },
  {
   "cell_type": "code",
   "execution_count": null,
   "metadata": {},
   "outputs": [],
   "source": [
    "test_dataloader = torch.utils.data.DataLoader(\n",
    "    test_dataset,\n",
    "    batch_size=2,\n",
    "\n",
    "    # this is important!\n",
    "    shuffle=False,\n",
    "    \n",
    "    drop_last=True,\n",
    "    num_workers=8,\n",
    ")"
   ]
  },
  {
   "cell_type": "markdown",
   "metadata": {},
   "source": [
    "### Model preparation"
   ]
  },
  {
   "cell_type": "code",
   "execution_count": null,
   "metadata": {},
   "outputs": [],
   "source": [
    "class SimCLR(pl.LightningModule):\n",
    "    def __init__(self):\n",
    "        super().__init__()\n",
    "        resnet = torchvision.models.resnet18()\n",
    "        self.backbone = nn.Sequential(*list(resnet.children())[:-1])\n",
    "        self.projection_head = SimCLRProjectionHead(512, 2048, 2048)\n",
    "        self.criterion = NTXentLoss()\n",
    "        self.test_dataloader = test_dataloader\n",
    "\n",
    "    def forward(self, x):\n",
    "        x = self.backbone(x).flatten(start_dim=1)\n",
    "        z = self.projection_head(x)\n",
    "        return z\n",
    "\n",
    "    def training_step(self, batch, batch_index):\n",
    "        (x0, x1) = batch[0]\n",
    "        z0 = self.forward(x0)\n",
    "        z1 = self.forward(x1)\n",
    "        loss = self.criterion(z0, z1)\n",
    "        return loss\n",
    "\n",
    "    def validation_step(self, *args: Any, **kwargs: Any) -> torch.Tensor | Mapping[str, Any] | None:\n",
    "        # CREATE EMBEDDINGS\n",
    "        num_principal_components = 3\n",
    "        n_clusters = 10\n",
    "        embeddings = []\n",
    "        with torch.no_grad():\n",
    "            for (\n",
    "                img,\n",
    "                _,\n",
    "            ) in self.test_dataloader:\n",
    "                img = img.to(device)\n",
    "                print(\"Single image shape: \", img.shape)\n",
    "                emb = self.backbone(img).flatten(start_dim=1)\n",
    "                print(\"Single mbedding shape: \", emb.shape)\n",
    "                embeddings.append(emb)\n",
    "                print(\"Embeddings length: \", len(embeddings))\n",
    "\n",
    "        embeddings = torch.cat(embeddings, 0)\n",
    "        print(\"Embeddings shape: \", embeddings.shape)\n",
    "        embeddings = normalize(embeddings)\n",
    "\n",
    "        # CLUSTER EMBEDDINGS\n",
    "        pca = PCA(n_components=num_principal_components)\n",
    "        embeddings_reduced = pca.fit_transform(embeddings.to(\"cpu\").numpy())\n",
    "\n",
    "        kmeans = KMeans(n_clusters=n_clusters)\n",
    "        labels = kmeans.fit_predict(embeddings_reduced)\n",
    "        centroids = kmeans.cluster_centers_\n",
    "\n",
    "        # PLOT EMBEDDINGS\n",
    "        # Get the current timestamp\n",
    "        timestamp = datetime.now().strftime('%Y%m%d-%H%M%S')\n",
    "\n",
    "        # Create the filename with the timestamp\n",
    "        filename = f'embedding-{timestamp}.png'\n",
    "        fig = plt.figure()\n",
    "        ax = fig.add_subplot(projection=\"3d\")\n",
    "\n",
    "        ax.scatter(\n",
    "            embeddings_reduced[:, 0],\n",
    "            embeddings_reduced[:, 1],\n",
    "            embeddings_reduced[:, 2],\n",
    "            c=labels,\n",
    "            alpha=0.05,\n",
    "        )\n",
    "\n",
    "        ax.scatter(\n",
    "            centroids[:, 0],\n",
    "            centroids[:, 1],\n",
    "            centroids[:, 2],\n",
    "            c=\"red\",\n",
    "            s=100,\n",
    "            alpha=1.0,\n",
    "        )\n",
    "\n",
    "        # Save the plot to a PNG file\n",
    "        plt.savefig(filename)\n",
    "        return None\n",
    "    \n",
    "    def configure_optimizers(self):\n",
    "        optim = torch.optim.SGD(self.parameters(), lr=0.06)\n",
    "        return optim"
   ]
  },
  {
   "cell_type": "code",
   "execution_count": null,
   "metadata": {},
   "outputs": [],
   "source": [
    "model = SimCLR()\n",
    "\n",
    "transform = SimCLRTransform(input_size=32)"
   ]
  },
  {
   "cell_type": "markdown",
   "metadata": {},
   "source": [
    "### Train data preparation"
   ]
  },
  {
   "cell_type": "code",
   "execution_count": null,
   "metadata": {},
   "outputs": [],
   "source": [
    "dataset = torchvision.datasets.CIFAR10(\n",
    "    \"datasets/cifar10\", download=True, transform=transform, train=True\n",
    ")\n",
    "\n",
    "# ... or MNIST\n",
    "# dataset = torchvision.datasets.MNIST(\n",
    "#     \"datasets/mnist-clean-torchvision\", download=True, transform=transform\n",
    "# )\n",
    "\n",
    "# ... or create a dataset from a folder containing images or videos:\n",
    "# dataset = LightlyDataset(\"path/to/folder\", transform=transform)\n",
    "\n",
    "dataloader = torch.utils.data.DataLoader(\n",
    "    dataset,\n",
    "    batch_size=256,\n",
    "    shuffle=True,\n",
    "    drop_last=True,\n",
    "    num_workers=8,\n",
    ")"
   ]
  },
  {
   "cell_type": "code",
   "execution_count": null,
   "metadata": {},
   "outputs": [],
   "source": [
    "trainer = pl.Trainer(max_epochs=10, devices=1, accelerator=device)"
   ]
  },
  {
   "cell_type": "code",
   "execution_count": null,
   "metadata": {},
   "outputs": [],
   "source": [
    "# training\n",
    "# trainer.fit(model=model, train_dataloaders=dataloader)\n",
    "trainer.fit(model=model, train_dataloaders=dataloader, val_dataloaders=test_dataloader)\n",
    "\n",
    "# read from checkpoint\n",
    "# model = SimCLR.load_from_checkpoint(\n",
    "#     r\"lightning_logs\\version_15\\checkpoints\\epoch=9-step=1950.ckpt\"\n",
    "# )"
   ]
  },
  {
   "cell_type": "markdown",
   "metadata": {},
   "source": [
    "## Generate embeddings"
   ]
  },
  {
   "cell_type": "code",
   "execution_count": null,
   "metadata": {},
   "outputs": [],
   "source": [
    "embeddings = generate_embeddings(model, test_dataloader)"
   ]
  },
  {
   "cell_type": "code",
   "execution_count": null,
   "metadata": {},
   "outputs": [],
   "source": [
    "print(type(embeddings))\n",
    "print(len(embeddings))\n",
    "print(embeddings.shape)"
   ]
  },
  {
   "cell_type": "markdown",
   "metadata": {},
   "source": [
    "## Validate embeddings"
   ]
  },
  {
   "cell_type": "code",
   "execution_count": null,
   "metadata": {},
   "outputs": [],
   "source": [
    "num_principal_components = 3\n",
    "n_clusters = 10"
   ]
  },
  {
   "cell_type": "code",
   "execution_count": null,
   "metadata": {},
   "outputs": [],
   "source": [
    "pca = PCA(n_components=num_principal_components)\n",
    "embeddings_reduced = pca.fit_transform(embeddings.to(\"cpu\").numpy())\n",
    "\n",
    "kmeans = KMeans(n_clusters=n_clusters)\n",
    "labels = kmeans.fit_predict(embeddings_reduced)\n",
    "centroids = kmeans.cluster_centers_"
   ]
  },
  {
   "cell_type": "code",
   "execution_count": null,
   "metadata": {},
   "outputs": [],
   "source": [
    "centroids.shape"
   ]
  },
  {
   "cell_type": "code",
   "execution_count": null,
   "metadata": {},
   "outputs": [],
   "source": [
    "%matplotlib widget"
   ]
  },
  {
   "cell_type": "markdown",
   "metadata": {},
   "source": [
    "### New labels"
   ]
  },
  {
   "cell_type": "code",
   "execution_count": null,
   "metadata": {},
   "outputs": [],
   "source": [
    "ax = plt.figure().add_subplot(projection=\"3d\")\n",
    "\n",
    "ax.scatter(\n",
    "    embeddings_reduced[:, 0],\n",
    "    embeddings_reduced[:, 1],\n",
    "    embeddings_reduced[:, 2],\n",
    "    c=labels,\n",
    "    alpha=0.05,\n",
    ")\n",
    "\n",
    "ax.scatter(\n",
    "    centroids[:, 0],\n",
    "    centroids[:, 1],\n",
    "    centroids[:, 2],\n",
    "    c=\"red\",\n",
    "    s=100,\n",
    "    alpha=1.0,\n",
    ")\n",
    "\n",
    "plt.show()"
   ]
  },
  {
   "cell_type": "markdown",
   "metadata": {},
   "source": [
    "### Original labels"
   ]
  },
  {
   "cell_type": "code",
   "execution_count": null,
   "metadata": {},
   "outputs": [],
   "source": [
    "ax = plt.figure().add_subplot(projection=\"3d\")\n",
    "\n",
    "ax.scatter(\n",
    "    embeddings_reduced[:, 0],\n",
    "    embeddings_reduced[:, 1],\n",
    "    embeddings_reduced[:, 2],\n",
    "    c=test_dataset.targets,\n",
    "    alpha=0.05,\n",
    ")\n",
    "\n",
    "ax.scatter(\n",
    "    centroids[:, 0],\n",
    "    centroids[:, 1],\n",
    "    centroids[:, 2],\n",
    "    c=\"red\",\n",
    "    s=100,\n",
    "    alpha=1.0,\n",
    ")\n",
    "\n",
    "plt.show()"
   ]
  },
  {
   "cell_type": "markdown",
   "metadata": {},
   "source": [
    "## Neighbours"
   ]
  },
  {
   "cell_type": "code",
   "execution_count": null,
   "metadata": {},
   "outputs": [],
   "source": [
    "from sklearn.neighbors import NearestNeighbors"
   ]
  },
  {
   "cell_type": "code",
   "execution_count": null,
   "metadata": {},
   "outputs": [],
   "source": [
    "n_neighbors = 10\n",
    "num_examples = 10"
   ]
  },
  {
   "cell_type": "markdown",
   "metadata": {},
   "source": [
    "## Misc"
   ]
  },
  {
   "cell_type": "code",
   "execution_count": null,
   "metadata": {},
   "outputs": [],
   "source": [
    "from utils import get_distances_between_centroids"
   ]
  },
  {
   "cell_type": "code",
   "execution_count": null,
   "metadata": {},
   "outputs": [],
   "source": [
    "distances = get_distances_between_centroids(embeddings.to(\"cpu\").numpy(), n_clusters=20)"
   ]
  },
  {
   "cell_type": "code",
   "execution_count": null,
   "metadata": {},
   "outputs": [],
   "source": [
    "print(f\"Distances shape: {distances.shape}\")\n",
    "print(f\"Distances rank: {np.linalg.matrix_rank(distances)}\")\n",
    "print(f\"Distancess:\\n {distances}\")"
   ]
  },
  {
   "cell_type": "code",
   "execution_count": null,
   "metadata": {},
   "outputs": [],
   "source": [
    "plt.matshow(distances, cmap=\"viridis\")"
   ]
  },
  {
   "cell_type": "code",
   "execution_count": null,
   "metadata": {},
   "outputs": [],
   "source": []
  }
 ],
 "metadata": {
  "kernelspec": {
   "display_name": "venv",
   "language": "python",
   "name": "python3"
  },
  "language_info": {
   "codemirror_mode": {
    "name": "ipython",
    "version": 3
   },
   "file_extension": ".py",
   "mimetype": "text/x-python",
   "name": "python",
   "nbconvert_exporter": "python",
   "pygments_lexer": "ipython3",
   "version": "3.10.3"
  }
 },
 "nbformat": 4,
 "nbformat_minor": 2
}
