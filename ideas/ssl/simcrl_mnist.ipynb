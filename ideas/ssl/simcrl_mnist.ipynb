{
 "cells": [
  {
   "cell_type": "code",
   "execution_count": 29,
   "metadata": {},
   "outputs": [],
   "source": [
    "# Based on docs:\n",
    "# https://docs.lightly.ai/self-supervised-learning/tutorials/package/tutorial_simclr_clothing.html\n",
    "\n",
    "# Also, see:\n",
    "# https://github.com/giakoumoglou/classification/blob/main/notebooks/main_simclr.ipynb\n",
    "# https://scikit-learn.org/stable/auto_examples/cluster/plot_kmeans_digits.html"
   ]
  },
  {
   "cell_type": "markdown",
   "metadata": {},
   "source": [
    "## Imports"
   ]
  },
  {
   "cell_type": "code",
   "execution_count": 30,
   "metadata": {
    "collapsed": false
   },
   "outputs": [],
   "source": [
    "import os\n",
    "from typing import Union, List, Tuple\n",
    "from pathlib import Path\n",
    "import shutil\n",
    "\n",
    "from GenerateEmbeddingsTrain import GenerateEmbeddingsTrain\n",
    "import matplotlib.pyplot as plt\n",
    "import numpy as np\n",
    "import pandas as pd\n",
    "from scipy.spatial.distance import cdist\n",
    "\n",
    "import pytorch_lightning as pl\n",
    "import torch\n",
    "import torch.nn as nn\n",
    "import torchvision\n",
    "import torchvision.datasets as datasets\n",
    "from PIL import Image\n",
    "\n",
    "from sklearn.decomposition import PCA\n",
    "from sklearn.cluster import KMeans\n",
    "from sklearn.neighbors import NearestNeighbors, KNeighborsClassifier\n",
    "from sklearn.preprocessing import normalize\n",
    "\n",
    "from lightly.data import LightlyDataset\n",
    "from lightly.transforms import SimCLRTransform, utils\n",
    "\n",
    "from utils import (\n",
    "    get_image_as_np_array,\n",
    "    plot_knn_clusters,\n",
    "    get_distance_between_points_in_cluster,\n",
    "    get_distances_between_centroids,\n",
    "    plot_clusters,\n",
    "    generate_embeddings_and_fnames_simclr,\n",
    "    check_labels_correspondence,\n",
    "    plot_knn_examples,\n",
    "    plot_clusters_3d,\n",
    ")"
   ]
  },
  {
   "cell_type": "markdown",
   "metadata": {},
   "source": [
    "## Configuration\n",
    "\n",
    "We set some configuration parameters for our experiment.\n",
    "Feel free to change them and analyze the effect.\n",
    "\n",
    "The default configuration with a batch size of 256 and input resolution of 128\n",
    "requires 6GB of GPU memory.\n",
    "\n"
   ]
  },
  {
   "cell_type": "code",
   "execution_count": 31,
   "metadata": {},
   "outputs": [
    {
     "name": "stdout",
     "output_type": "stream",
     "text": [
      "Using device: cpu\n",
      "Using accelerator: cpu\n"
     ]
    }
   ],
   "source": [
    "# DEBUG\n",
    "device = \"cpu\"\n",
    "# device = \"cuda\" if torch.cuda.is_available() else \"cpu\"\n",
    "\n",
    "accelerator = \"gpu\" if device == \"cuda\" else \"cpu\"\n",
    "\n",
    "print(f\"Using device: {device}\")\n",
    "print(f\"Using accelerator: {accelerator}\")"
   ]
  },
  {
   "cell_type": "code",
   "execution_count": 32,
   "metadata": {
    "collapsed": false
   },
   "outputs": [],
   "source": [
    "# input_size = 32  # laptop\n",
    "input_size = 128  # PC\n",
    "# batch_size = 64  # laptop\n",
    "batch_size = 256  # PC\n",
    "\n",
    "num_workers = 8\n",
    "seed = 1\n",
    "max_epochs = 20\n",
    "num_ftrs = 32"
   ]
  },
  {
   "cell_type": "markdown",
   "metadata": {},
   "source": [
    "Let's set the seed for our experiments\n",
    "\n"
   ]
  },
  {
   "cell_type": "code",
   "execution_count": 33,
   "metadata": {
    "collapsed": false
   },
   "outputs": [
    {
     "name": "stderr",
     "output_type": "stream",
     "text": [
      "Seed set to 1\n"
     ]
    },
    {
     "data": {
      "text/plain": [
       "1"
      ]
     },
     "execution_count": 33,
     "metadata": {},
     "output_type": "execute_result"
    }
   ],
   "source": [
    "pl.seed_everything(seed)"
   ]
  },
  {
   "cell_type": "code",
   "execution_count": 34,
   "metadata": {},
   "outputs": [],
   "source": [
    "# Create the directory if it doesn't exist\n",
    "os.makedirs(\"./datasets/mnist\", exist_ok=True)\n",
    "os.makedirs(\"./datasets/mnist/train\", exist_ok=True)\n",
    "os.makedirs(\"./datasets/mnist/test\", exist_ok=True)"
   ]
  },
  {
   "cell_type": "code",
   "execution_count": 35,
   "metadata": {},
   "outputs": [
    {
     "name": "stdout",
     "output_type": "stream",
     "text": [
      "Downloading http://yann.lecun.com/exdb/mnist/train-images-idx3-ubyte.gz\n",
      "Failed to download (trying next):\n",
      "HTTP Error 403: Forbidden\n",
      "\n",
      "Downloading https://ossci-datasets.s3.amazonaws.com/mnist/train-images-idx3-ubyte.gz\n",
      "Downloading https://ossci-datasets.s3.amazonaws.com/mnist/train-images-idx3-ubyte.gz to ./datasets/mnist\\MNIST\\raw\\train-images-idx3-ubyte.gz\n"
     ]
    },
    {
     "name": "stderr",
     "output_type": "stream",
     "text": [
      "100%|██████████| 9912422/9912422 [00:01<00:00, 5482309.91it/s]\n"
     ]
    },
    {
     "name": "stdout",
     "output_type": "stream",
     "text": [
      "Extracting ./datasets/mnist\\MNIST\\raw\\train-images-idx3-ubyte.gz to ./datasets/mnist\\MNIST\\raw\n",
      "\n",
      "Downloading http://yann.lecun.com/exdb/mnist/train-labels-idx1-ubyte.gz\n",
      "Failed to download (trying next):\n",
      "HTTP Error 403: Forbidden\n",
      "\n",
      "Downloading https://ossci-datasets.s3.amazonaws.com/mnist/train-labels-idx1-ubyte.gz\n",
      "Downloading https://ossci-datasets.s3.amazonaws.com/mnist/train-labels-idx1-ubyte.gz to ./datasets/mnist\\MNIST\\raw\\train-labels-idx1-ubyte.gz\n"
     ]
    },
    {
     "name": "stderr",
     "output_type": "stream",
     "text": [
      "100%|██████████| 28881/28881 [00:00<00:00, 235878.15it/s]\n"
     ]
    },
    {
     "name": "stdout",
     "output_type": "stream",
     "text": [
      "Extracting ./datasets/mnist\\MNIST\\raw\\train-labels-idx1-ubyte.gz to ./datasets/mnist\\MNIST\\raw\n",
      "\n",
      "Downloading http://yann.lecun.com/exdb/mnist/t10k-images-idx3-ubyte.gz\n",
      "Failed to download (trying next):\n",
      "HTTP Error 403: Forbidden\n",
      "\n",
      "Downloading https://ossci-datasets.s3.amazonaws.com/mnist/t10k-images-idx3-ubyte.gz\n",
      "Downloading https://ossci-datasets.s3.amazonaws.com/mnist/t10k-images-idx3-ubyte.gz to ./datasets/mnist\\MNIST\\raw\\t10k-images-idx3-ubyte.gz\n"
     ]
    },
    {
     "name": "stderr",
     "output_type": "stream",
     "text": [
      "100%|██████████| 1648877/1648877 [00:02<00:00, 649764.63it/s]\n"
     ]
    },
    {
     "name": "stdout",
     "output_type": "stream",
     "text": [
      "Extracting ./datasets/mnist\\MNIST\\raw\\t10k-images-idx3-ubyte.gz to ./datasets/mnist\\MNIST\\raw\n",
      "\n",
      "Downloading http://yann.lecun.com/exdb/mnist/t10k-labels-idx1-ubyte.gz\n",
      "Failed to download (trying next):\n",
      "HTTP Error 403: Forbidden\n",
      "\n",
      "Downloading https://ossci-datasets.s3.amazonaws.com/mnist/t10k-labels-idx1-ubyte.gz\n",
      "Downloading https://ossci-datasets.s3.amazonaws.com/mnist/t10k-labels-idx1-ubyte.gz to ./datasets/mnist\\MNIST\\raw\\t10k-labels-idx1-ubyte.gz\n"
     ]
    },
    {
     "name": "stderr",
     "output_type": "stream",
     "text": [
      "100%|██████████| 4542/4542 [00:00<00:00, 4531524.45it/s]"
     ]
    },
    {
     "name": "stdout",
     "output_type": "stream",
     "text": [
      "Extracting ./datasets/mnist\\MNIST\\raw\\t10k-labels-idx1-ubyte.gz to ./datasets/mnist\\MNIST\\raw\n",
      "\n"
     ]
    },
    {
     "name": "stderr",
     "output_type": "stream",
     "text": [
      "\n"
     ]
    }
   ],
   "source": [
    "# Download the MNIST dataset (if not already downloaded)\n",
    "train_dataset = datasets.MNIST(root=\"./datasets/mnist\", train=True, download=True)\n",
    "test_dataset = datasets.MNIST(root=\"./datasets/mnist\", train=False, download=True)"
   ]
  },
  {
   "cell_type": "code",
   "execution_count": 36,
   "metadata": {},
   "outputs": [],
   "source": [
    "idx_train = (train_dataset.targets==7) | (train_dataset.targets==2) | (train_dataset.targets==0) \n",
    "train_dataset.targets = train_dataset.targets[idx_train]\n",
    "train_dataset.data = train_dataset.data[idx_train]"
   ]
  },
  {
   "cell_type": "code",
   "execution_count": 37,
   "metadata": {},
   "outputs": [],
   "source": [
    "idx_test = (test_dataset.targets==7) | (test_dataset.targets==2) | (test_dataset.targets==0)\n",
    "test_dataset.targets = test_dataset.targets[idx_test]\n",
    "test_dataset.data = test_dataset.data[idx_test]"
   ]
  },
  {
   "cell_type": "code",
   "execution_count": 38,
   "metadata": {},
   "outputs": [
    {
     "name": "stdout",
     "output_type": "stream",
     "text": [
      "<class 'torch.Tensor'>\n",
      "torch.Size([3040])\n",
      "tensor([7, 2, 0, 0, 0, 7, 0, 7, 0, 7])\n",
      "(tensor([0, 2, 7]), tensor([ 980, 1032, 1028]))\n",
      "torch.Size([28, 28])\n"
     ]
    }
   ],
   "source": [
    "print(type(test_dataset.targets))\n",
    "print(test_dataset.targets.shape)\n",
    "print(test_dataset.targets[:10])\n",
    "print(test_dataset.targets.unique(return_counts=True))\n",
    "print(test_dataset.data[10].shape)"
   ]
  },
  {
   "cell_type": "code",
   "execution_count": 39,
   "metadata": {},
   "outputs": [],
   "source": [
    "# Save the images to the directory\n",
    "for i, (image, label) in enumerate(train_dataset):\n",
    "    image.save(f\"./datasets/mnist/train/{label}_{i}.png\")\n",
    "\n",
    "for i, (image, label) in enumerate(test_dataset):\n",
    "    image.save(f\"./datasets/mnist/test/{label}_{i}.png\")"
   ]
  },
  {
   "cell_type": "code",
   "execution_count": 40,
   "metadata": {},
   "outputs": [],
   "source": [
    "# Remove original data to prevent errors (if it exists)\n",
    "if os.path.exists(\"./datasets/mnist/MNIST\"):\n",
    "    shutil.rmtree(\"./datasets/mnist/MNIST\")"
   ]
  },
  {
   "cell_type": "code",
   "execution_count": 41,
   "metadata": {
    "collapsed": false
   },
   "outputs": [],
   "source": [
    "path_to_data = r\"./datasets/mnist\"\n",
    "path_to_train_data = Path(path_to_data) / \"train\"\n",
    "path_to_test_data = Path(path_to_data) / \"test\""
   ]
  },
  {
   "cell_type": "markdown",
   "metadata": {},
   "source": [
    "## Setup data augmentations and loaders\n",
    "\n",
    "The images from the dataset have been taken from above when the clothing was\n",
    "on a table, bed or floor. Therefore, we can make use of additional augmentations\n",
    "such as vertical flip or random rotation (90 degrees).\n",
    "By adding these augmentations we learn our model invariance regarding the\n",
    "orientation of the clothing piece. E.g. we don't care if a shirt is upside down\n",
    "but more about the strcture which make it a shirt.\n",
    "\n",
    "You can learn more about the different augmentations and learned invariances\n",
    "here: `lightly-advanced`.\n",
    "\n"
   ]
  },
  {
   "cell_type": "code",
   "execution_count": 42,
   "metadata": {
    "collapsed": false
   },
   "outputs": [],
   "source": [
    "transform = SimCLRTransform(input_size=input_size, vf_prob=0.5, rr_prob=0.5)\n",
    "\n",
    "# We create a torchvision transformation for embedding the dataset after\n",
    "# training\n",
    "test_transform = torchvision.transforms.Compose(\n",
    "    [\n",
    "    torchvision.transforms.ToTensor(),  # Convert the image to a PyTorch tensor\n",
    "    torchvision.transforms.Normalize((0.1307,), (0.3081,))  # Normalize with mean and std deviation\n",
    "    ]\n",
    ")"
   ]
  },
  {
   "cell_type": "code",
   "execution_count": 43,
   "metadata": {},
   "outputs": [],
   "source": [
    "dataloader_test = torch.utils.data.DataLoader(\n",
    "    test_dataset, batch_size=batch_size, num_workers=num_workers, shuffle=False\n",
    ")"
   ]
  },
  {
   "cell_type": "code",
   "execution_count": 44,
   "metadata": {},
   "outputs": [
    {
     "name": "stdout",
     "output_type": "stream",
     "text": [
      "3040\n",
      "torch.Size([28, 28])\n"
     ]
    }
   ],
   "source": [
    "print(len(test_dataset))\n",
    "print(test_dataset.data[11].shape)"
   ]
  },
  {
   "cell_type": "code",
   "execution_count": 45,
   "metadata": {},
   "outputs": [],
   "source": [
    "# dataset_train_simclr = LightlyDataset(input_dir=path_to_data, transform=transform)\n",
    "train_dataset_simclr = LightlyDataset(input_dir=path_to_train_data, transform=transform)\n",
    "\n",
    "# dataset_test = LightlyDataset(input_dir=path_to_data, transform=test_transform)\n",
    "test_dataset_simclr = LightlyDataset(\n",
    "    input_dir=path_to_test_data, transform=test_transform\n",
    ")"
   ]
  },
  {
   "cell_type": "code",
   "execution_count": 46,
   "metadata": {},
   "outputs": [
    {
     "name": "stdout",
     "output_type": "stream",
     "text": [
      "18146\n",
      "3040\n"
     ]
    }
   ],
   "source": [
    "print(len(train_dataset_simclr))\n",
    "print(len(test_dataset_simclr))"
   ]
  },
  {
   "cell_type": "code",
   "execution_count": 47,
   "metadata": {},
   "outputs": [],
   "source": [
    "dataloader_train_simclr = torch.utils.data.DataLoader(\n",
    "    train_dataset_simclr,\n",
    "    batch_size=batch_size,\n",
    "    shuffle=True,\n",
    "    drop_last=True,\n",
    "    num_workers=num_workers,\n",
    ")\n",
    "\n",
    "dataloader_test_simclr = torch.utils.data.DataLoader(\n",
    "    test_dataset_simclr,\n",
    "    batch_size=batch_size,\n",
    "    shuffle=False,\n",
    "    drop_last=False,\n",
    "    num_workers=num_workers,\n",
    ")"
   ]
  },
  {
   "cell_type": "markdown",
   "metadata": {},
   "source": [
    "## Create the SimCLR Model\n",
    "Now we create the SimCLR model. We implement it as a PyTorch Lightning Module\n",
    "and use a ResNet-18 backbone from Torchvision. Lightly provides implementations\n",
    "of the SimCLR projection head and loss function in the `SimCLRProjectionHead`\n",
    "and `NTXentLoss` classes. We can simply import them and combine the building\n",
    "blocks in the module.\n",
    "\n"
   ]
  },
  {
   "cell_type": "code",
   "execution_count": 48,
   "metadata": {
    "collapsed": false
   },
   "outputs": [],
   "source": [
    "from lightly.loss import NTXentLoss\n",
    "from lightly.models.modules.heads import SimCLRProjectionHead\n",
    "\n",
    "\n",
    "class SimCLRModel(pl.LightningModule):\n",
    "    def __init__(self):\n",
    "        super().__init__()\n",
    "\n",
    "        # create a ResNet backbone and remove the classification head\n",
    "        resnet = torchvision.models.resnet18()\n",
    "        self.backbone = nn.Sequential(*list(resnet.children())[:-1])\n",
    "\n",
    "        hidden_dim = resnet.fc.in_features\n",
    "        self.projection_head = SimCLRProjectionHead(hidden_dim, hidden_dim, 128)\n",
    "\n",
    "        self.criterion = NTXentLoss()\n",
    "\n",
    "    def forward(self, x):\n",
    "        h = self.backbone(x).flatten(start_dim=1)\n",
    "        z = self.projection_head(h)\n",
    "        return z\n",
    "\n",
    "    def training_step(self, batch, batch_idx):\n",
    "        (x0, x1), _, _ = batch\n",
    "        z0 = self.forward(x0)\n",
    "        z1 = self.forward(x1)\n",
    "        loss = self.criterion(z0, z1)\n",
    "        # TODO: dopisać inne metryki, które sprawdzają czy trening 'ma sens'\n",
    "        # czyli np. czy klasy się zbliżyły do siebie i oddaliły od innych klas\n",
    "        self.log(\"train_loss_ssl\", loss)\n",
    "        return loss\n",
    "\n",
    "    def configure_optimizers(self):\n",
    "        optim = torch.optim.SGD(\n",
    "            self.parameters(), lr=6e-2, momentum=0.9, weight_decay=5e-4\n",
    "        )\n",
    "        scheduler = torch.optim.lr_scheduler.CosineAnnealingLR(optim, max_epochs)\n",
    "        return [optim], [scheduler]"
   ]
  },
  {
   "cell_type": "markdown",
   "metadata": {},
   "source": [
    "Train the module using the PyTorch Lightning Trainer on a single GPU.\n",
    "\n"
   ]
  },
  {
   "cell_type": "code",
   "execution_count": 49,
   "metadata": {
    "collapsed": false
   },
   "outputs": [],
   "source": [
    "# Uncomment for training (may take some time)\n",
    "\n",
    "model = SimCLRModel()\n"
   ]
  },
  {
   "cell_type": "code",
   "execution_count": 50,
   "metadata": {},
   "outputs": [
    {
     "ename": "SyntaxError",
     "evalue": "invalid syntax (2669290670.py, line 9)",
     "output_type": "error",
     "traceback": [
      "\u001b[1;36m  Cell \u001b[1;32mIn[50], line 9\u001b[1;36m\u001b[0m\n\u001b[1;33m    device=device\u001b[0m\n\u001b[1;37m          ^\u001b[0m\n\u001b[1;31mSyntaxError\u001b[0m\u001b[1;31m:\u001b[0m invalid syntax\n"
     ]
    }
   ],
   "source": [
    "trainer = pl.Trainer(\n",
    "    max_epochs=max_epochs, \n",
    "    devices=1, \n",
    "    accelerator=accelerator, \n",
    "    callbacks=GenerateEmbeddingsTrain(\n",
    "        save_dir=\"./embeddings\", \n",
    "        model=model, \n",
    "        dataloader=dataloader_train_simclr,\n",
    "        device=device\n",
    "        )\n",
    "    )"
   ]
  },
  {
   "cell_type": "code",
   "execution_count": null,
   "metadata": {},
   "outputs": [],
   "source": [
    "trainer.fit(model, dataloader_train_simclr)\n"
   ]
  },
  {
   "cell_type": "markdown",
   "metadata": {},
   "source": [
    "Next we create a helper function to generate embeddings\n",
    "from our test images using the model we just trained.\n",
    "Note that only the backbone is needed to generate embeddings,\n",
    "the projection head is only required for the training.\n",
    "Make sure to put the model into eval mode for this part!\n",
    "\n"
   ]
  },
  {
   "cell_type": "code",
   "execution_count": null,
   "metadata": {},
   "outputs": [],
   "source": [
    "# For eval only\n",
    "\n",
    "# PC-trained model\n",
    "model = SimCLRModel.load_from_checkpoint(\n",
    "    \"./lightning_logs/version_8/checkpoints/epoch=9-step=2340.ckpt\"\n",
    ")\n",
    "\n",
    "# laptop-trained model\n",
    "# maybe not-OK, as it was trained on 70k images (both train and test)\n",
    "# model = SimCLRModel.load_from_checkpoint(\n",
    "#     \"./lightning_logs/version_0/checkpoints/epoch=9-step=10930.ckpt\"\n",
    "# )"
   ]
  },
  {
   "cell_type": "code",
   "execution_count": null,
   "metadata": {},
   "outputs": [],
   "source": [
    "model.eval()"
   ]
  },
  {
   "cell_type": "code",
   "execution_count": null,
   "metadata": {
    "collapsed": false
   },
   "outputs": [],
   "source": [
    "embeddings, filenames = generate_embeddings_and_fnames_simclr(\n",
    "    model, dataloader_test_simclr\n",
    ")"
   ]
  },
  {
   "cell_type": "code",
   "execution_count": null,
   "metadata": {},
   "outputs": [],
   "source": [
    "# embeddings = generate_embeddings_and_fnames(model, dataloader_test)"
   ]
  },
  {
   "cell_type": "markdown",
   "metadata": {},
   "source": [
    "## Visualize Clusters in Embedding Space\n",
    "Let's look at the trained embedding how they're clustered in latent space."
   ]
  },
  {
   "cell_type": "code",
   "execution_count": null,
   "metadata": {},
   "outputs": [],
   "source": [
    "kmeans = KMeans(n_clusters=10)"
   ]
  },
  {
   "cell_type": "code",
   "execution_count": null,
   "metadata": {},
   "outputs": [],
   "source": [
    "labels = kmeans.fit_predict(embeddings)"
   ]
  },
  {
   "cell_type": "code",
   "execution_count": null,
   "metadata": {},
   "outputs": [],
   "source": [
    "labels[0:20]"
   ]
  },
  {
   "cell_type": "code",
   "execution_count": null,
   "metadata": {},
   "outputs": [],
   "source": [
    "test_dataset.targets[0:20]"
   ]
  },
  {
   "cell_type": "code",
   "execution_count": null,
   "metadata": {},
   "outputs": [],
   "source": [
    "np.unique(labels)"
   ]
  },
  {
   "cell_type": "code",
   "execution_count": null,
   "metadata": {},
   "outputs": [],
   "source": [
    "get_distance_between_points_in_cluster(embeddings, labels)"
   ]
  },
  {
   "cell_type": "code",
   "execution_count": null,
   "metadata": {},
   "outputs": [],
   "source": [
    "distances = get_distances_between_centroids(embeddings)"
   ]
  },
  {
   "cell_type": "code",
   "execution_count": null,
   "metadata": {},
   "outputs": [],
   "source": [
    "print(f\"Distances shape: {distances.shape}\")\n",
    "print(f\"Distances rank: {np.linalg.matrix_rank(distances)}\")\n",
    "print(f\"Distancess:\\n {distances}\")"
   ]
  },
  {
   "cell_type": "code",
   "execution_count": null,
   "metadata": {},
   "outputs": [],
   "source": [
    "plt.matshow(distances, cmap=\"viridis\")"
   ]
  },
  {
   "cell_type": "code",
   "execution_count": null,
   "metadata": {},
   "outputs": [],
   "source": [
    "visualization_df = pd.DataFrame(distances)\n",
    "print(visualization_df)"
   ]
  },
  {
   "cell_type": "markdown",
   "metadata": {},
   "source": [
    "## Visualize Nearest Neighbors\n",
    "Let's look at the trained embedding and visualize the nearest neighbors for\n",
    "a few random samples.\n",
    "\n",
    "We create some helper functions to simplify the work\n",
    "\n"
   ]
  },
  {
   "cell_type": "code",
   "execution_count": null,
   "metadata": {},
   "outputs": [],
   "source": [
    "def plot_knn_examples(\n",
    "    embeddings, filenames, path_to_data, n_neighbors=3, num_examples=6\n",
    "):\n",
    "    \"\"\"Plots multiple rows of random images with their nearest neighbors\"\"\"\n",
    "    # lets look at the nearest neighbors for some samples\n",
    "    # we use the sklearn library\n",
    "    nbrs = NearestNeighbors(n_neighbors=n_neighbors).fit(embeddings)\n",
    "    distances, indices = nbrs.kneighbors(embeddings)\n",
    "\n",
    "    # get 5 random samples\n",
    "    samples_idx = np.random.choice(len(indices), size=num_examples, replace=False)\n",
    "\n",
    "    # loop through our randomly picked samples\n",
    "    for idx in samples_idx:\n",
    "        fig = plt.figure()\n",
    "        # loop through their nearest neighbors\n",
    "        for plot_x_offset, neighbor_idx in enumerate(indices[idx]):\n",
    "            # add the subplot\n",
    "            ax = fig.add_subplot(1, len(indices[idx]), plot_x_offset + 1)\n",
    "            # get the correponding filename for the current index\n",
    "            fname = os.path.join(path_to_data, filenames[neighbor_idx])\n",
    "            # plot the image\n",
    "            plt.imshow(get_image_as_np_array(fname))\n",
    "            # set the title to the distance of the neighbor\n",
    "            ax.set_title(f\"d={distances[idx][plot_x_offset]:.3f}\")\n",
    "            # let's disable the axis\n",
    "            plt.axis(\"off\")"
   ]
  },
  {
   "cell_type": "code",
   "execution_count": null,
   "metadata": {},
   "outputs": [],
   "source": [
    "# plot_knn_examples(\n",
    "#     embeddings, filenames, n_neighbors=7, num_examples=10, path_to_data=path_to_data\n",
    "# )"
   ]
  },
  {
   "cell_type": "markdown",
   "metadata": {},
   "source": [
    "## Visualize Nearest Neighbours on 2D Plane\n",
    "Let's look at the trained embedding, perform KNN, then PCA and visualize clusters in 2D space."
   ]
  },
  {
   "cell_type": "code",
   "execution_count": null,
   "metadata": {},
   "outputs": [],
   "source": [
    "plot_knn_clusters(\n",
    "    embeddings, np.array(test_dataset.targets), n_neighbors=5, num_examples=10\n",
    ")"
   ]
  },
  {
   "cell_type": "markdown",
   "metadata": {},
   "source": [
    "## Visualize Clusters on 2D Plane\n",
    "Let's look at the trained embedding, perform PCA and visualize clusters in 2D space."
   ]
  },
  {
   "cell_type": "code",
   "execution_count": null,
   "metadata": {},
   "outputs": [],
   "source": [
    "# MNIST 'labels' created by simclr\n",
    "print(type(test_dataset_simclr.dataset.targets))\n",
    "unique_targets = np.unique(test_dataset_simclr.dataset.targets)\n",
    "print(unique_targets)\n",
    "print(test_dataset_simclr.dataset.targets[0])\n",
    "print(type(test_dataset_simclr.dataset.targets[0]))"
   ]
  },
  {
   "cell_type": "code",
   "execution_count": null,
   "metadata": {},
   "outputs": [],
   "source": [
    "# original MNIST labels\n",
    "print(type(test_dataset.targets))\n",
    "unique_targets = np.unique(test_dataset.targets)\n",
    "print(unique_targets)\n",
    "print(test_dataset.targets[0])\n",
    "print(type(test_dataset.targets[0]))"
   ]
  },
  {
   "cell_type": "code",
   "execution_count": null,
   "metadata": {},
   "outputs": [],
   "source": [
    "plot_clusters(\n",
    "    embeddings,\n",
    "    np.array(test_dataset.targets),\n",
    "    proportion_of_points_to_plot=0.01,\n",
    "    alpha=0.1,\n",
    "    plot_centroids=True,\n",
    "    specific_labels=list(range(10)),\n",
    ")"
   ]
  },
  {
   "cell_type": "code",
   "execution_count": null,
   "metadata": {},
   "outputs": [],
   "source": [
    "plot_clusters(\n",
    "    embeddings,\n",
    "    np.array(test_dataset.targets),\n",
    "    proportion_of_points_to_plot=0.5,\n",
    "    alpha=0.3,\n",
    "    plot_centroids=True,\n",
    "    specific_labels=[0, 1, 2, 3],\n",
    ")"
   ]
  },
  {
   "cell_type": "code",
   "execution_count": null,
   "metadata": {},
   "outputs": [],
   "source": [
    "plot_clusters(\n",
    "    embeddings,\n",
    "    np.array(test_dataset.targets),\n",
    "    proportion_of_points_to_plot=0.5,\n",
    "    alpha=0.3,\n",
    "    plot_centroids=True,\n",
    "    specific_labels=[0, 8],\n",
    ")"
   ]
  },
  {
   "cell_type": "code",
   "execution_count": null,
   "metadata": {},
   "outputs": [],
   "source": [
    "plot_clusters(\n",
    "    embeddings,\n",
    "    np.array(test_dataset.targets),\n",
    "    proportion_of_points_to_plot=0.5,\n",
    "    alpha=0.3,\n",
    "    plot_centroids=True,\n",
    "    specific_labels=[1, 4],\n",
    ")"
   ]
  },
  {
   "cell_type": "code",
   "execution_count": null,
   "metadata": {},
   "outputs": [],
   "source": [
    "plot_clusters_3d(\n",
    "    embeddings,\n",
    "    np.array(test_dataset.targets),\n",
    "    proportion_of_points_to_plot=0.5,\n",
    "    alpha=0.3,\n",
    "    plot_centroids=True,\n",
    "    specific_labels=[2, 3, 5, 8],\n",
    ")"
   ]
  },
  {
   "cell_type": "code",
   "execution_count": null,
   "metadata": {},
   "outputs": [],
   "source": [
    "plot_clusters(\n",
    "    embeddings,\n",
    "    np.array(test_dataset.targets),\n",
    "    proportion_of_points_to_plot=0.5,\n",
    "    alpha=0.3,\n",
    "    plot_centroids=True,\n",
    "    specific_labels=[2, 3, 5, 8],\n",
    ")"
   ]
  },
  {
   "cell_type": "code",
   "execution_count": null,
   "metadata": {},
   "outputs": [],
   "source": [
    "plot_clusters(\n",
    "    embeddings,\n",
    "    np.array(test_dataset.targets),\n",
    "    proportion_of_points_to_plot=0.5,\n",
    "    alpha=0.3,\n",
    "    plot_centroids=True,\n",
    "    specific_labels=[1, 8],\n",
    ")"
   ]
  },
  {
   "cell_type": "markdown",
   "metadata": {},
   "source": [
    "## Check Labels Correspoding to Clusters\n",
    "Let's check if the clusters in the embedding space correspond to the labels of the images."
   ]
  },
  {
   "cell_type": "code",
   "execution_count": null,
   "metadata": {},
   "outputs": [],
   "source": [
    "check_labels_correspondence(\n",
    "    embeddings=embeddings, base_path=path_to_test_data, filenames=filenames\n",
    ")"
   ]
  },
  {
   "cell_type": "markdown",
   "metadata": {},
   "source": [
    "## Simple clustering on MNIST\n",
    "Let's check if it's possible to create good clusters from MNIST, working in pixel space."
   ]
  },
  {
   "cell_type": "code",
   "execution_count": null,
   "metadata": {},
   "outputs": [],
   "source": [
    "test_dataset.targets[0:10]"
   ]
  },
  {
   "cell_type": "code",
   "execution_count": null,
   "metadata": {},
   "outputs": [],
   "source": [
    "len(test_dataset.test_data)"
   ]
  },
  {
   "cell_type": "code",
   "execution_count": null,
   "metadata": {},
   "outputs": [],
   "source": [
    "test_dataset.data[0].shape"
   ]
  },
  {
   "cell_type": "code",
   "execution_count": null,
   "metadata": {},
   "outputs": [],
   "source": [
    "mnist_clusters = KMeans(n_clusters=10).fit(test_dataset.data.reshape(-1, 28 * 28))"
   ]
  },
  {
   "cell_type": "code",
   "execution_count": null,
   "metadata": {},
   "outputs": [],
   "source": [
    "np.unique(mnist_clusters.labels_, return_counts=True)"
   ]
  },
  {
   "cell_type": "code",
   "execution_count": null,
   "metadata": {},
   "outputs": [],
   "source": [
    "plot_clusters(\n",
    "    test_dataset.data.reshape(-1, 28 * 28),\n",
    "    np.array(test_dataset.targets),\n",
    "    proportion_of_points_to_plot=0.4,\n",
    "    alpha=0.3,\n",
    "    plot_centroids=True,\n",
    "    specific_labels=[0, 4, 7],\n",
    ")"
   ]
  },
  {
   "cell_type": "code",
   "execution_count": null,
   "metadata": {},
   "outputs": [],
   "source": [
    "plot_clusters_3d(\n",
    "    test_dataset.data.reshape(-1, 28 * 28),\n",
    "    np.array(test_dataset.targets),\n",
    "    proportion_of_points_to_plot=0.4,\n",
    "    alpha=0.3,\n",
    "    plot_centroids=True,\n",
    "    specific_labels=[0, 4, 7],\n",
    ")"
   ]
  },
  {
   "cell_type": "code",
   "execution_count": null,
   "metadata": {},
   "outputs": [],
   "source": [
    "proportion_of_points_to_plot = 0.4\n",
    "num_clusters = 20\n",
    "alpha = 0.3"
   ]
  },
  {
   "cell_type": "code",
   "execution_count": null,
   "metadata": {},
   "outputs": [],
   "source": [
    "kmeans = KMeans(n_clusters=num_clusters)\n",
    "labels = kmeans.fit_predict(embeddings)\n",
    "centroids = kmeans.cluster_centers_"
   ]
  },
  {
   "cell_type": "code",
   "execution_count": null,
   "metadata": {},
   "outputs": [],
   "source": [
    "sampled_indices = np.random.choice(\n",
    "    embeddings.shape[0],\n",
    "    int(len(embeddings) * proportion_of_points_to_plot),\n",
    "    replace=False,\n",
    ")"
   ]
  },
  {
   "cell_type": "code",
   "execution_count": null,
   "metadata": {},
   "outputs": [],
   "source": [
    "%matplotlib widget"
   ]
  },
  {
   "cell_type": "code",
   "execution_count": null,
   "metadata": {},
   "outputs": [],
   "source": [
    "sampled_embeddings = embeddings[sampled_indices]\n",
    "\n",
    "print(f\"Plotting {len(sampled_embeddings)} points out of {len(embeddings)}\")\n",
    "\n",
    "ax = plt.figure().add_subplot(projection=\"3d\")\n",
    "\n",
    "pca = PCA(n_components=3)\n",
    "print(pca)\n",
    "\n",
    "to_plot_embeddings = pca.fit_transform(sampled_embeddings)\n",
    "print(to_plot_embeddings.shape)\n",
    "\n",
    "to_plot_centroids = pca.transform(centroids)\n",
    "print(to_plot_centroids.shape)\n",
    "\n",
    "ax.scatter(\n",
    "    to_plot_embeddings[:, 0],\n",
    "    to_plot_embeddings[:, 1],\n",
    "    to_plot_embeddings[:, 2],\n",
    "    alpha=alpha,\n",
    "    cmap=\"viridis\",\n",
    ")\n",
    "\n",
    "plt.show()"
   ]
  },
  {
   "cell_type": "code",
   "execution_count": null,
   "metadata": {},
   "outputs": [],
   "source": [
    "plot_clusters(\n",
    "    test_dataset.data.reshape(-1, 28 * 28),\n",
    "    np.array(test_dataset.targets),\n",
    "    proportion_of_points_to_plot=0.4,\n",
    "    alpha=0.3,\n",
    "    plot_centroids=True,\n",
    "    specific_labels=[1, 4, 7],\n",
    ")"
   ]
  },
  {
   "cell_type": "code",
   "execution_count": null,
   "metadata": {},
   "outputs": [],
   "source": [
    "plot_clusters(\n",
    "    test_dataset.data.reshape(-1, 28 * 28),\n",
    "    np.array(test_dataset.targets),\n",
    "    proportion_of_points_to_plot=0.4,\n",
    "    alpha=0.3,\n",
    "    plot_centroids=True,\n",
    "    specific_labels=[2, 3, 5, 8],\n",
    ")"
   ]
  },
  {
   "cell_type": "code",
   "execution_count": null,
   "metadata": {},
   "outputs": [],
   "source": []
  },
  {
   "cell_type": "code",
   "execution_count": null,
   "metadata": {},
   "outputs": [],
   "source": []
  },
  {
   "cell_type": "code",
   "execution_count": null,
   "metadata": {},
   "outputs": [],
   "source": []
  }
 ],
 "metadata": {
  "kernelspec": {
   "display_name": "Python 3",
   "language": "python",
   "name": "python3"
  },
  "language_info": {
   "codemirror_mode": {
    "name": "ipython",
    "version": 3
   },
   "file_extension": ".py",
   "mimetype": "text/x-python",
   "name": "python",
   "nbconvert_exporter": "python",
   "pygments_lexer": "ipython3",
   "version": "3.10.3"
  }
 },
 "nbformat": 4,
 "nbformat_minor": 0
}
