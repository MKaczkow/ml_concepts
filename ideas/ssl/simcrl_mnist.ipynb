{
 "cells": [
  {
   "cell_type": "code",
   "execution_count": 15,
   "metadata": {},
   "outputs": [],
   "source": [
    "# Based on docs:\n",
    "# https://docs.lightly.ai/self-supervised-learning/tutorials/package/tutorial_simclr_clothing.html\n",
    "\n",
    "# Also, see:\n",
    "# https://github.com/giakoumoglou/classification/blob/main/notebooks/main_simclr.ipynb\n",
    "# https://scikit-learn.org/stable/auto_examples/cluster/plot_kmeans_digits.html"
   ]
  },
  {
   "cell_type": "markdown",
   "metadata": {},
   "source": [
    "## Imports"
   ]
  },
  {
   "cell_type": "code",
   "execution_count": 62,
   "metadata": {
    "collapsed": false
   },
   "outputs": [],
   "source": [
    "import os\n",
    "from pathlib import Path\n",
    "import shutil\n",
    "\n",
    "import matplotlib.pyplot as plt\n",
    "import numpy as np\n",
    "import pandas as pd\n",
    "from scipy.spatial.distance import cdist\n",
    "\n",
    "import pytorch_lightning as pl\n",
    "import torch\n",
    "import torch.nn as nn\n",
    "import torchvision\n",
    "import torchvision.datasets as datasets\n",
    "from PIL import Image\n",
    "\n",
    "from sklearn.decomposition import PCA\n",
    "from sklearn.cluster import KMeans\n",
    "from sklearn.neighbors import NearestNeighbors\n",
    "from sklearn.preprocessing import normalize\n",
    "\n",
    "from lightly.data import LightlyDataset\n",
    "from lightly.transforms import SimCLRTransform, utils"
   ]
  },
  {
   "cell_type": "markdown",
   "metadata": {},
   "source": [
    "## Configuration\n",
    "\n",
    "We set some configuration parameters for our experiment.\n",
    "Feel free to change them and analyze the effect.\n",
    "\n",
    "The default configuration with a batch size of 256 and input resolution of 128\n",
    "requires 6GB of GPU memory.\n",
    "\n"
   ]
  },
  {
   "cell_type": "code",
   "execution_count": 17,
   "metadata": {
    "collapsed": false
   },
   "outputs": [],
   "source": [
    "num_workers = 8\n",
    "batch_size = 64   # laptop\n",
    "# batch_size = 256   # PC\n",
    "seed = 1\n",
    "max_epochs = 10\n",
    "input_size = 32   # laptop\n",
    "# input_size = 128   # PC\n",
    "num_ftrs = 32"
   ]
  },
  {
   "cell_type": "markdown",
   "metadata": {},
   "source": [
    "Let's set the seed for our experiments\n",
    "\n"
   ]
  },
  {
   "cell_type": "code",
   "execution_count": 18,
   "metadata": {
    "collapsed": false
   },
   "outputs": [
    {
     "name": "stderr",
     "output_type": "stream",
     "text": [
      "Seed set to 1\n"
     ]
    },
    {
     "data": {
      "text/plain": [
       "1"
      ]
     },
     "execution_count": 18,
     "metadata": {},
     "output_type": "execute_result"
    }
   ],
   "source": [
    "pl.seed_everything(seed)"
   ]
  },
  {
   "cell_type": "code",
   "execution_count": 19,
   "metadata": {},
   "outputs": [],
   "source": [
    "# Create the directory if it doesn't exist\n",
    "os.makedirs(\"./datasets/mnist\", exist_ok=True)\n",
    "os.makedirs(\"./datasets/mnist/train\", exist_ok=True)\n",
    "os.makedirs(\"./datasets/mnist/test\", exist_ok=True)"
   ]
  },
  {
   "cell_type": "code",
   "execution_count": 20,
   "metadata": {},
   "outputs": [
    {
     "name": "stdout",
     "output_type": "stream",
     "text": [
      "Downloading http://yann.lecun.com/exdb/mnist/train-images-idx3-ubyte.gz\n",
      "Failed to download (trying next):\n",
      "HTTP Error 403: Forbidden\n",
      "\n",
      "Downloading https://ossci-datasets.s3.amazonaws.com/mnist/train-images-idx3-ubyte.gz\n",
      "Downloading https://ossci-datasets.s3.amazonaws.com/mnist/train-images-idx3-ubyte.gz to ./datasets/mnist\\MNIST\\raw\\train-images-idx3-ubyte.gz\n"
     ]
    },
    {
     "name": "stderr",
     "output_type": "stream",
     "text": [
      "100%|██████████| 9912422/9912422 [00:06<00:00, 1633077.29it/s]\n"
     ]
    },
    {
     "name": "stdout",
     "output_type": "stream",
     "text": [
      "Extracting ./datasets/mnist\\MNIST\\raw\\train-images-idx3-ubyte.gz to ./datasets/mnist\\MNIST\\raw\n",
      "\n",
      "Downloading http://yann.lecun.com/exdb/mnist/train-labels-idx1-ubyte.gz\n",
      "Failed to download (trying next):\n",
      "HTTP Error 403: Forbidden\n",
      "\n",
      "Downloading https://ossci-datasets.s3.amazonaws.com/mnist/train-labels-idx1-ubyte.gz\n",
      "Downloading https://ossci-datasets.s3.amazonaws.com/mnist/train-labels-idx1-ubyte.gz to ./datasets/mnist\\MNIST\\raw\\train-labels-idx1-ubyte.gz\n"
     ]
    },
    {
     "name": "stderr",
     "output_type": "stream",
     "text": [
      "100%|██████████| 28881/28881 [00:00<00:00, 171809.54it/s]\n"
     ]
    },
    {
     "name": "stdout",
     "output_type": "stream",
     "text": [
      "Extracting ./datasets/mnist\\MNIST\\raw\\train-labels-idx1-ubyte.gz to ./datasets/mnist\\MNIST\\raw\n",
      "\n",
      "Downloading http://yann.lecun.com/exdb/mnist/t10k-images-idx3-ubyte.gz\n",
      "Failed to download (trying next):\n",
      "HTTP Error 403: Forbidden\n",
      "\n",
      "Downloading https://ossci-datasets.s3.amazonaws.com/mnist/t10k-images-idx3-ubyte.gz\n",
      "Downloading https://ossci-datasets.s3.amazonaws.com/mnist/t10k-images-idx3-ubyte.gz to ./datasets/mnist\\MNIST\\raw\\t10k-images-idx3-ubyte.gz\n"
     ]
    },
    {
     "name": "stderr",
     "output_type": "stream",
     "text": [
      "100%|██████████| 1648877/1648877 [00:01<00:00, 896573.44it/s] \n"
     ]
    },
    {
     "name": "stdout",
     "output_type": "stream",
     "text": [
      "Extracting ./datasets/mnist\\MNIST\\raw\\t10k-images-idx3-ubyte.gz to ./datasets/mnist\\MNIST\\raw\n",
      "\n",
      "Downloading http://yann.lecun.com/exdb/mnist/t10k-labels-idx1-ubyte.gz\n",
      "Failed to download (trying next):\n",
      "HTTP Error 403: Forbidden\n",
      "\n",
      "Downloading https://ossci-datasets.s3.amazonaws.com/mnist/t10k-labels-idx1-ubyte.gz\n",
      "Downloading https://ossci-datasets.s3.amazonaws.com/mnist/t10k-labels-idx1-ubyte.gz to ./datasets/mnist\\MNIST\\raw\\t10k-labels-idx1-ubyte.gz\n"
     ]
    },
    {
     "name": "stderr",
     "output_type": "stream",
     "text": [
      "100%|██████████| 4542/4542 [00:00<00:00, 432259.23it/s]"
     ]
    },
    {
     "name": "stdout",
     "output_type": "stream",
     "text": [
      "Extracting ./datasets/mnist\\MNIST\\raw\\t10k-labels-idx1-ubyte.gz to ./datasets/mnist\\MNIST\\raw\n",
      "\n"
     ]
    },
    {
     "name": "stderr",
     "output_type": "stream",
     "text": [
      "\n"
     ]
    }
   ],
   "source": [
    "# Download the MNIST dataset (if not already downloaded)\n",
    "train_dataset = datasets.MNIST(root=\"./datasets/mnist\", train=True, download=True)\n",
    "test_dataset = datasets.MNIST(root=\"./datasets/mnist\", train=False, download=True)"
   ]
  },
  {
   "cell_type": "code",
   "execution_count": 21,
   "metadata": {},
   "outputs": [],
   "source": [
    "# Save the images to the directory\n",
    "for i, (image, label) in enumerate(train_dataset):\n",
    "    image.save(f\"./datasets/mnist/train/{i}.png\")\n",
    "\n",
    "for i, (image, label) in enumerate(test_dataset):\n",
    "    image.save(f\"./datasets/mnist/test/{i}.png\")"
   ]
  },
  {
   "cell_type": "code",
   "execution_count": 22,
   "metadata": {},
   "outputs": [],
   "source": [
    "# Remove original data to prevent errors (if it exists)\n",
    "if os.path.exists(\"./datasets/mnist/MNIST\"):\n",
    "    shutil.rmtree(\"./datasets/mnist/MNIST\")"
   ]
  },
  {
   "cell_type": "code",
   "execution_count": 64,
   "metadata": {
    "collapsed": false
   },
   "outputs": [],
   "source": [
    "path_to_data = r\"./datasets/mnist\"\n",
    "path_to_train_data = Path(path_to_data) / \"train\"\n",
    "path_to_test_data = Path(path_to_data) / \"test\""
   ]
  },
  {
   "cell_type": "markdown",
   "metadata": {},
   "source": [
    "## Setup data augmentations and loaders\n",
    "\n",
    "The images from the dataset have been taken from above when the clothing was\n",
    "on a table, bed or floor. Therefore, we can make use of additional augmentations\n",
    "such as vertical flip or random rotation (90 degrees).\n",
    "By adding these augmentations we learn our model invariance regarding the\n",
    "orientation of the clothing piece. E.g. we don't care if a shirt is upside down\n",
    "but more about the strcture which make it a shirt.\n",
    "\n",
    "You can learn more about the different augmentations and learned invariances\n",
    "here: `lightly-advanced`.\n",
    "\n"
   ]
  },
  {
   "cell_type": "code",
   "execution_count": 65,
   "metadata": {
    "collapsed": false
   },
   "outputs": [],
   "source": [
    "transform = SimCLRTransform(input_size=input_size, vf_prob=0.5, rr_prob=0.5)\n",
    "\n",
    "# We create a torchvision transformation for embedding the dataset after\n",
    "# training\n",
    "test_transform = torchvision.transforms.Compose(\n",
    "    [\n",
    "        torchvision.transforms.Resize((input_size, input_size)),\n",
    "        torchvision.transforms.ToTensor(),\n",
    "        torchvision.transforms.Normalize(\n",
    "            mean=utils.IMAGENET_NORMALIZE[\"mean\"],\n",
    "            std=utils.IMAGENET_NORMALIZE[\"std\"],\n",
    "        ),\n",
    "    ]\n",
    ")\n",
    "\n",
    "dataset_train_simclr = LightlyDataset(input_dir=path_to_train_data, transform=transform)\n",
    "\n",
    "dataset_test = LightlyDataset(input_dir=path_to_test_data, transform=test_transform)\n",
    "\n",
    "dataloader_train_simclr = torch.utils.data.DataLoader(\n",
    "    dataset_train_simclr,\n",
    "    batch_size=batch_size,\n",
    "    shuffle=True,\n",
    "    drop_last=True,\n",
    "    num_workers=num_workers,\n",
    ")\n",
    "\n",
    "dataloader_test = torch.utils.data.DataLoader(\n",
    "    dataset_test,\n",
    "    batch_size=batch_size,\n",
    "    shuffle=False,\n",
    "    drop_last=False,\n",
    "    num_workers=num_workers,\n",
    ")"
   ]
  },
  {
   "cell_type": "markdown",
   "metadata": {},
   "source": [
    "## Create the SimCLR Model\n",
    "Now we create the SimCLR model. We implement it as a PyTorch Lightning Module\n",
    "and use a ResNet-18 backbone from Torchvision. Lightly provides implementations\n",
    "of the SimCLR projection head and loss function in the `SimCLRProjectionHead`\n",
    "and `NTXentLoss` classes. We can simply import them and combine the building\n",
    "blocks in the module.\n",
    "\n"
   ]
  },
  {
   "cell_type": "code",
   "execution_count": 66,
   "metadata": {
    "collapsed": false
   },
   "outputs": [],
   "source": [
    "from lightly.loss import NTXentLoss\n",
    "from lightly.models.modules.heads import SimCLRProjectionHead\n",
    "\n",
    "\n",
    "class SimCLRModel(pl.LightningModule):\n",
    "    def __init__(self):\n",
    "        super().__init__()\n",
    "\n",
    "        # create a ResNet backbone and remove the classification head\n",
    "        resnet = torchvision.models.resnet18()\n",
    "        self.backbone = nn.Sequential(*list(resnet.children())[:-1])\n",
    "\n",
    "        hidden_dim = resnet.fc.in_features\n",
    "        self.projection_head = SimCLRProjectionHead(hidden_dim, hidden_dim, 128)\n",
    "\n",
    "        self.criterion = NTXentLoss()\n",
    "\n",
    "    def forward(self, x):\n",
    "        h = self.backbone(x).flatten(start_dim=1)\n",
    "        z = self.projection_head(h)\n",
    "        return z\n",
    "\n",
    "    def training_step(self, batch, batch_idx):\n",
    "        (x0, x1), _, _ = batch\n",
    "        z0 = self.forward(x0)\n",
    "        z1 = self.forward(x1)\n",
    "        loss = self.criterion(z0, z1)\n",
    "        self.log(\"train_loss_ssl\", loss)\n",
    "        return loss\n",
    "\n",
    "    def configure_optimizers(self):\n",
    "        optim = torch.optim.SGD(\n",
    "            self.parameters(), lr=6e-2, momentum=0.9, weight_decay=5e-4\n",
    "        )\n",
    "        scheduler = torch.optim.lr_scheduler.CosineAnnealingLR(optim, max_epochs)\n",
    "        return [optim], [scheduler]"
   ]
  },
  {
   "cell_type": "markdown",
   "metadata": {},
   "source": [
    "Train the module using the PyTorch Lightning Trainer on a single GPU.\n",
    "\n"
   ]
  },
  {
   "cell_type": "code",
   "execution_count": 67,
   "metadata": {
    "collapsed": false
   },
   "outputs": [
    {
     "name": "stderr",
     "output_type": "stream",
     "text": [
      "GPU available: True (cuda), used: True\n",
      "TPU available: False, using: 0 TPU cores\n",
      "IPU available: False, using: 0 IPUs\n",
      "HPU available: False, using: 0 HPUs\n",
      "LOCAL_RANK: 0 - CUDA_VISIBLE_DEVICES: [0]\n",
      "\n",
      "  | Name            | Type                 | Params\n",
      "---------------------------------------------------------\n",
      "0 | backbone        | Sequential           | 11.2 M\n",
      "1 | projection_head | SimCLRProjectionHead | 328 K \n",
      "2 | criterion       | NTXentLoss           | 0     \n",
      "---------------------------------------------------------\n",
      "11.5 M    Trainable params\n",
      "0         Non-trainable params\n",
      "11.5 M    Total params\n",
      "46.022    Total estimated model params size (MB)\n",
      "c:\\Users\\Maciek\\__repos\\ml_concepts\\venv\\Lib\\site-packages\\pytorch_lightning\\trainer\\connectors\\data_connector.py:436: Consider setting `persistent_workers=True` in 'train_dataloader' to speed up the dataloader worker initialization.\n"
     ]
    },
    {
     "name": "stdout",
     "output_type": "stream",
     "text": [
      "Epoch 9: 100%|██████████| 937/937 [01:26<00:00, 10.85it/s, v_num=1]"
     ]
    },
    {
     "name": "stderr",
     "output_type": "stream",
     "text": [
      "`Trainer.fit` stopped: `max_epochs=10` reached.\n"
     ]
    },
    {
     "name": "stdout",
     "output_type": "stream",
     "text": [
      "Epoch 9: 100%|██████████| 937/937 [01:26<00:00, 10.81it/s, v_num=1]\n"
     ]
    }
   ],
   "source": [
    "# Uncomment for training (may take some time)\n",
    "\n",
    "model = SimCLRModel()\n",
    "trainer = pl.Trainer(max_epochs=max_epochs, devices=1, accelerator=\"gpu\")\n",
    "trainer.fit(model, dataloader_train_simclr)\n",
    "\n",
    "# TODO: add early stopping, as the model doesn't improve further after around 10 epochs"
   ]
  },
  {
   "cell_type": "markdown",
   "metadata": {},
   "source": [
    "Next we create a helper function to generate embeddings\n",
    "from our test images using the model we just trained.\n",
    "Note that only the backbone is needed to generate embeddings,\n",
    "the projection head is only required for the training.\n",
    "Make sure to put the model into eval mode for this part!\n",
    "\n"
   ]
  },
  {
   "cell_type": "code",
   "execution_count": 68,
   "metadata": {},
   "outputs": [],
   "source": [
    "def generate_embeddings(model, dataloader):\n",
    "    \"\"\"Generates representations for all images in the dataloader with\n",
    "    the given model\n",
    "    \"\"\"\n",
    "\n",
    "    embeddings = []\n",
    "    filenames = []\n",
    "    with torch.no_grad():\n",
    "        for img, _, fnames in dataloader:\n",
    "            img = img.to(model.device)\n",
    "            emb = model.backbone(img).flatten(start_dim=1)\n",
    "            embeddings.append(emb)\n",
    "            filenames.extend(fnames)\n",
    "\n",
    "    embeddings = torch.cat(embeddings, 0)\n",
    "    embeddings = normalize(embeddings.to(\"cpu\"))\n",
    "    return embeddings, filenames"
   ]
  },
  {
   "cell_type": "code",
   "execution_count": 69,
   "metadata": {},
   "outputs": [],
   "source": [
    "# For eval only\n",
    "\n",
    "# PC-trained model\n",
    "# model = SimCLRModel.load_from_checkpoint(\n",
    "#     \"./lightning_logs/version_4/checkpoints/epoch=14-step=4095.ckpt\"\n",
    "# )\n",
    "\n",
    "# laptop-trained model\n",
    "# model = SimCLRModel.load_from_checkpoint(\n",
    "#     \"./lightning_logs/version_0/checkpoints/epoch=9-step=10930.ckpt\"\n",
    "# )"
   ]
  },
  {
   "cell_type": "code",
   "execution_count": 70,
   "metadata": {
    "collapsed": false
   },
   "outputs": [],
   "source": [
    "model.eval()\n",
    "embeddings, filenames = generate_embeddings(model, dataloader_test)\n",
    "torch.save(embeddings, \"embeddings.pt\")"
   ]
  },
  {
   "cell_type": "markdown",
   "metadata": {},
   "source": [
    "## Visualize Clusters in Embedding Space\n",
    "Let's look at the trained embedding how they're clustered in latent space."
   ]
  },
  {
   "cell_type": "code",
   "execution_count": 71,
   "metadata": {},
   "outputs": [],
   "source": [
    "def get_distances_between_centroids(\n",
    "    embeddings: np.ndarray = None, n_clusters: int = 10\n",
    ") -> np.ndarray:\n",
    "    \"\"\"Calculate the clusters and distances between their centroids.\n",
    "\n",
    "    Args:\n",
    "        embeddings (np.ndarray, optional): Input embeddings. Defaults to None.\n",
    "        n_clusters (int, optional): Should be 10 for MNIST, but generally is data-dependent. Defaults to 10.\n",
    "\n",
    "    Returns:\n",
    "        np.ndarray: matrix of distances between centroids, with rank n_clusters x n_clusters\n",
    "    \"\"\"\n",
    "    kmeans = KMeans(n_clusters=n_clusters)\n",
    "    labels = kmeans.fit_predict(embeddings)\n",
    "    centroids = kmeans.cluster_centers_\n",
    "\n",
    "    print(f\"Cluster centroids dimensions: {centroids.shape}\")\n",
    "    print(f\"Cluster centroids:\\n {centroids}\")\n",
    "    print(f\"Cluster sizes: {np.bincount(labels)}\")\n",
    "\n",
    "    distances = cdist(centroids, centroids)\n",
    "    return distances"
   ]
  },
  {
   "cell_type": "code",
   "execution_count": 72,
   "metadata": {},
   "outputs": [
    {
     "name": "stdout",
     "output_type": "stream",
     "text": [
      "Cluster centroids dimensions: (10, 512)\n",
      "Cluster centroids:\n",
      " [[ 3.89719765e-03  2.22931473e-02  1.75110413e-02 ...  2.06949664e-02\n",
      "   2.35132245e-02  1.97767620e-02]\n",
      " [ 2.27131219e-03  3.19130173e-02  1.90870734e-02 ...  7.33567744e-03\n",
      "   3.43489322e-02  3.14066807e-02]\n",
      " [ 3.69638768e-02  4.56415110e-05  4.33504529e-05 ...  5.68710719e-02\n",
      "   4.63620267e-04  2.21498717e-04]\n",
      " ...\n",
      " [ 2.42793024e-02  3.00688259e-03  3.29113954e-02 ...  3.92891995e-02\n",
      "   3.53065223e-02  5.30292911e-02]\n",
      " [ 1.66964722e-02  1.95352266e-02  1.98640441e-02 ...  1.99288725e-02\n",
      "   4.79890806e-02  3.39358495e-02]\n",
      " [ 3.04857092e-03  2.49369000e-04 -3.81639165e-17 ...  2.44608964e-02\n",
      "   9.33746286e-05  6.24500451e-17]]\n",
      "Cluster sizes: [1126  935  545 1232 1262  891  964  941 1472  632]\n"
     ]
    }
   ],
   "source": [
    "distances = get_distances_between_centroids(embeddings)"
   ]
  },
  {
   "cell_type": "code",
   "execution_count": 73,
   "metadata": {},
   "outputs": [
    {
     "name": "stdout",
     "output_type": "stream",
     "text": [
      "Distances shape: (10, 10)\n",
      "Distances rank: 10\n",
      "Distancess:\n",
      " [[0.         0.79957779 1.13725044 0.68636975 0.95886494 0.77004382\n",
      "  0.74126342 0.9812589  0.5569604  1.04447613]\n",
      " [0.79957779 0.         1.10247263 0.66471352 0.95415729 0.97279226\n",
      "  1.07081376 0.81753469 0.8635566  0.86531903]\n",
      " [1.13725044 1.10247263 0.         1.12263031 0.97200721 0.96565436\n",
      "  1.0686287  0.82317537 1.04828142 0.76249702]\n",
      " [0.68636975 0.66471352 1.12263031 0.         0.69662855 0.90579297\n",
      "  0.80551607 0.86247416 0.724305   1.10420562]\n",
      " [0.95886494 0.95415729 0.97200721 0.69662855 0.         0.91493463\n",
      "  0.72362668 0.81191821 0.86668645 1.09082698]\n",
      " [0.77004382 0.97279226 0.96565436 0.90579297 0.91493463 0.\n",
      "  0.87483336 0.84798155 0.85619697 1.03498313]\n",
      " [0.74126342 1.07081376 1.0686287  0.80551607 0.72362668 0.87483336\n",
      "  0.         1.05058866 0.76517061 1.10366677]\n",
      " [0.9812589  0.81753469 0.82317537 0.86247416 0.81191821 0.84798155\n",
      "  1.05058866 0.         0.74949569 0.97623283]\n",
      " [0.5569604  0.8635566  1.04828142 0.724305   0.86668645 0.85619697\n",
      "  0.76517061 0.74949569 0.         1.07263232]\n",
      " [1.04447613 0.86531903 0.76249702 1.10420562 1.09082698 1.03498313\n",
      "  1.10366677 0.97623283 1.07263232 0.        ]]\n"
     ]
    }
   ],
   "source": [
    "print(f\"Distances shape: {distances.shape}\")\n",
    "print(f\"Distances rank: {np.linalg.matrix_rank(distances)}\")\n",
    "print(f\"Distancess:\\n {distances}\")"
   ]
  },
  {
   "cell_type": "code",
   "execution_count": 74,
   "metadata": {},
   "outputs": [
    {
     "data": {
      "text/plain": [
       "<matplotlib.image.AxesImage at 0x2a897e17140>"
      ]
     },
     "execution_count": 74,
     "metadata": {},
     "output_type": "execute_result"
    },
    {
     "data": {
      "image/png": "[encoded data removed]",
      "text/plain": [
       "<Figure size 480x480 with 1 Axes>"
      ]
     },
     "metadata": {},
     "output_type": "display_data"
    }
   ],
   "source": [
    "plt.matshow(distances, cmap=\"viridis\")"
   ]
  },
  {
   "cell_type": "code",
   "execution_count": 75,
   "metadata": {},
   "outputs": [
    {
     "name": "stdout",
     "output_type": "stream",
     "text": [
      "          0         1         2         3         4         5         6  \\\n",
      "0  0.000000  0.799578  1.137250  0.686370  0.958865  0.770044  0.741263   \n",
      "1  0.799578  0.000000  1.102473  0.664714  0.954157  0.972792  1.070814   \n",
      "2  1.137250  1.102473  0.000000  1.122630  0.972007  0.965654  1.068629   \n",
      "3  0.686370  0.664714  1.122630  0.000000  0.696629  0.905793  0.805516   \n",
      "4  0.958865  0.954157  0.972007  0.696629  0.000000  0.914935  0.723627   \n",
      "5  0.770044  0.972792  0.965654  0.905793  0.914935  0.000000  0.874833   \n",
      "6  0.741263  1.070814  1.068629  0.805516  0.723627  0.874833  0.000000   \n",
      "7  0.981259  0.817535  0.823175  0.862474  0.811918  0.847982  1.050589   \n",
      "8  0.556960  0.863557  1.048281  0.724305  0.866686  0.856197  0.765171   \n",
      "9  1.044476  0.865319  0.762497  1.104206  1.090827  1.034983  1.103667   \n",
      "\n",
      "          7         8         9  \n",
      "0  0.981259  0.556960  1.044476  \n",
      "1  0.817535  0.863557  0.865319  \n",
      "2  0.823175  1.048281  0.762497  \n",
      "3  0.862474  0.724305  1.104206  \n",
      "4  0.811918  0.866686  1.090827  \n",
      "5  0.847982  0.856197  1.034983  \n",
      "6  1.050589  0.765171  1.103667  \n",
      "7  0.000000  0.749496  0.976233  \n",
      "8  0.749496  0.000000  1.072632  \n",
      "9  0.976233  1.072632  0.000000  \n"
     ]
    }
   ],
   "source": [
    "visualization_df = pd.DataFrame(distances)\n",
    "print(visualization_df)"
   ]
  },
  {
   "cell_type": "markdown",
   "metadata": {},
   "source": [
    "## Visualize Nearest Neighbors\n",
    "Let's look at the trained embedding and visualize the nearest neighbors for\n",
    "a few random samples.\n",
    "\n",
    "We create some helper functions to simplify the work\n",
    "\n"
   ]
  },
  {
   "cell_type": "code",
   "execution_count": 76,
   "metadata": {
    "collapsed": false
   },
   "outputs": [],
   "source": [
    "def get_image_as_np_array(filename: str) -> np.ndarray:\n",
    "    \"\"\"Returns an image as an numpy array\"\"\"\n",
    "    img = Image.open(filename)\n",
    "    return np.asarray(img)"
   ]
  },
  {
   "cell_type": "code",
   "execution_count": 77,
   "metadata": {},
   "outputs": [],
   "source": [
    "def plot_knn_examples(embeddings, filenames, n_neighbors=3, num_examples=6) -> None:\n",
    "    \"\"\"Plots multiple rows of random images with their nearest neighbors\"\"\"\n",
    "    # lets look at the nearest neighbors for some samples\n",
    "    # we use the sklearn library\n",
    "    nbrs = NearestNeighbors(n_neighbors=n_neighbors).fit(embeddings)\n",
    "    distances, indices = nbrs.kneighbors(embeddings)\n",
    "\n",
    "    # get num_examples random samples\n",
    "    samples_idx = np.random.choice(len(indices), size=num_examples, replace=False)\n",
    "\n",
    "    # loop through our randomly picked samples\n",
    "    for idx in samples_idx:\n",
    "        fig = plt.figure()\n",
    "\n",
    "        for plot_x_offset, neighbor_idx in enumerate(indices[idx]):\n",
    "            ax = fig.add_subplot(1, len(indices[idx]), plot_x_offset + 1)\n",
    "            fname = os.path.join(path_to_data, filenames[neighbor_idx])\n",
    "            plt.imshow(get_image_as_np_array(fname))\n",
    "            ax.set_title(f\"d={distances[idx][plot_x_offset]:.3f}\")\n",
    "            plt.axis(\"off\")"
   ]
  },
  {
   "cell_type": "code",
   "execution_count": 78,
   "metadata": {},
   "outputs": [],
   "source": [
    "# plot_knn_examples(embeddings, filenames, n_neighbors=10, num_examples=10)"
   ]
  },
  {
   "cell_type": "code",
   "execution_count": 80,
   "metadata": {},
   "outputs": [],
   "source": [
    "plot_knn_examples(embeddings, filenames, n_neighbors=7, num_examples=10)"
   ]
  },
  {
   "cell_type": "code",
   "execution_count": null,
   "metadata": {
    "collapsed": false
   },
   "outputs": [],
   "source": [
    "# plot_knn_examples(embeddings, filenames)"
   ]
  },
  {
   "cell_type": "markdown",
   "metadata": {},
   "source": [
    "## Visualize Clusters on 2D Plane\n",
    "Let's look at the trained embedding, perform PCA and visualize clusters in 2D space."
   ]
  },
  {
   "cell_type": "code",
   "execution_count": 81,
   "metadata": {},
   "outputs": [],
   "source": [
    "def plot_clusters(\n",
    "    embeddings: np.ndarray = None,\n",
    "    original_labels: np.ndarray = None,\n",
    "    n_clusters: int = 10,\n",
    "    proportion_of_points_to_plot: float = 0.001,\n",
    "    alpha: float = 0.1,\n",
    ") -> None:\n",
    "    \"\"\"Plots multiple rows of random images with their cluster centroids\"\"\"\n",
    "\n",
    "    print(f\"Working on embeddings of shape {embeddings.shape}\")\n",
    "\n",
    "    reduced_embeddings = PCA(n_components=2).fit_transform(embeddings)\n",
    "\n",
    "    kmeans = KMeans(n_clusters=n_clusters)\n",
    "    labels = kmeans.fit_predict(reduced_embeddings)\n",
    "    centroids = kmeans.cluster_centers_\n",
    "\n",
    "    print(f\"Cluster centroids:\\n {centroids}\")\n",
    "    print(f\"Cluster sizes: {np.bincount(labels)}\")\n",
    "\n",
    "    # Sample proportion_of_points_to_plot of the data to plot for readability\n",
    "    sampled_indices = np.random.choice(\n",
    "        reduced_embeddings.shape[0],\n",
    "        int(len(reduced_embeddings) * proportion_of_points_to_plot),\n",
    "        replace=False,\n",
    "    )\n",
    "    sampled_embeddings = reduced_embeddings[sampled_indices]\n",
    "\n",
    "    # this doesn't really make sense - you can see clusters with 'new' labels anyway\n",
    "    # sampled_labels = labels[sampled_indices]\n",
    "    sampled_labels = original_labels[sampled_indices]\n",
    "\n",
    "    print(f\"Plotting {len(sampled_embeddings)} points out of {len(reduced_embeddings)}\")\n",
    "\n",
    "    # plt.scatter(sampled_embeddings[:, 0], sampled_embeddings[:, 1], c=dataset_test.dataset.targets, alpha=0.1)\n",
    "    plt.scatter(\n",
    "        sampled_embeddings[:, 0], sampled_embeddings[:, 1], c=sampled_labels, alpha=alpha, cmap=\"magma\"\n",
    "    )\n",
    "    plt.colorbar(label=\"Original Class Labels\")\n",
    "    plt.xlabel(\"Component 1\")\n",
    "    plt.ylabel(\"Component 2\")\n",
    "    plt.title(\"Cluster Plot\")\n",
    "    plt.show()"
   ]
  },
  {
   "cell_type": "code",
   "execution_count": 82,
   "metadata": {},
   "outputs": [],
   "source": [
    "# dataset_test.__dir__()\n",
    "# dataset_test.dataset.__dir__()\n",
    "\n",
    "# dataset_test.dataset.targets\n",
    "\n",
    "# FIXME: dlaczego są same zera? (albo nie)"
   ]
  },
  {
   "cell_type": "code",
   "execution_count": 83,
   "metadata": {},
   "outputs": [
    {
     "name": "stdout",
     "output_type": "stream",
     "text": [
      "<class 'list'>\n",
      "[0]\n",
      "0\n",
      "<class 'int'>\n"
     ]
    }
   ],
   "source": [
    "print(type(dataset_test.dataset.targets))\n",
    "unique_targets = np.unique(dataset_test.dataset.targets)\n",
    "print(unique_targets)\n",
    "print(dataset_test.dataset.targets[0])\n",
    "print(type(dataset_test.dataset.targets[0]))"
   ]
  },
  {
   "cell_type": "code",
   "execution_count": 84,
   "metadata": {},
   "outputs": [
    {
     "name": "stdout",
     "output_type": "stream",
     "text": [
      "Working on embeddings of shape (10000, 512)\n",
      "Cluster centroids:\n",
      " [[-0.3127744   0.10123194]\n",
      " [ 0.55629375  0.19634469]\n",
      " [-0.20838556 -0.39825644]\n",
      " [ 0.56619491 -0.18119016]\n",
      " [-0.34238407 -0.17956305]\n",
      " [-0.21265634  0.3948271 ]\n",
      " [ 0.04283299 -0.13659497]\n",
      " [ 0.11618088  0.5168663 ]\n",
      " [ 0.21266951 -0.41150422]\n",
      " [ 0.11912924  0.17244881]]\n",
      "Cluster sizes: [1251  665 1135 1044 1380 1205  925  953  784  658]\n",
      "Plotting 100 points out of 10000\n"
     ]
    },
    {
     "data": {
      "image/png": "[encoded data removed]",
      "text/plain": [
       "<Figure size 640x480 with 2 Axes>"
      ]
     },
     "metadata": {},
     "output_type": "display_data"
    }
   ],
   "source": [
    "plot_clusters(embeddings, np.array(dataset_test.dataset.targets), proportion_of_points_to_plot=0.01, alpha=1)"
   ]
  },
  {
   "cell_type": "markdown",
   "metadata": {},
   "source": [
    "## Check Labels Correspoding to Clusters\n",
    "Let's check if the clusters in the embedding space correspond to the labels of the images."
   ]
  },
  {
   "cell_type": "code",
   "execution_count": null,
   "metadata": {},
   "outputs": [],
   "source": [
    "def check_labels_correspondence(\n",
    "    embeddings: np.ndarray = None, n_clusters: int = 10, num_examples: int = 7\n",
    ") -> None:\n",
    "\n",
    "    kmeans = KMeans(n_clusters=n_clusters)\n",
    "    labels = kmeans.fit_predict(embeddings)\n",
    "    unique_labels = set(labels)\n",
    "    print(f\"Unique labels: {unique_labels}\")\n",
    "\n",
    "    for label in unique_labels:\n",
    "        # print(f\"Label {label} has {np.sum(labels == label)} samples\")\n",
    "        label_indices = np.where(labels == label)[0]\n",
    "        sampled_indices = np.random.choice(\n",
    "            label_indices, size=num_examples, replace=False\n",
    "        )\n",
    "        # print(f\"Length of sampled_indices: {len(sampled_indices)}\")\n",
    "        # print(f\"Sampled indices: {sampled_indices}\")\n",
    "\n",
    "        fig = plt.figure()\n",
    "\n",
    "        for subplot_idx, idx in enumerate(sampled_indices):\n",
    "            ax = fig.add_subplot(len(unique_labels), num_examples, subplot_idx + 1)\n",
    "            fname = os.path.join(path_to_data, filenames[idx])\n",
    "            plt.imshow(get_image_as_np_array(fname))\n",
    "            ax.set_title(f\"Label {label}\")\n",
    "            plt.axis(\"off\")"
   ]
  },
  {
   "cell_type": "code",
   "execution_count": null,
   "metadata": {},
   "outputs": [
    {
     "name": "stdout",
     "output_type": "stream",
     "text": [
      "Unique labels: {0, 1, 2, 3, 4, 5, 6, 7, 8, 9}\n"
     ]
    },
    {
     "data": {
      "image/png": "[encoded data removed]",
      "text/plain": [
       "<Figure size 640x480 with 7 Axes>"
      ]
     },
     "metadata": {},
     "output_type": "display_data"
    },
    {
     "data": {
      "image/png": "[encoded data removed]",
      "text/plain": [
       "<Figure size 640x480 with 7 Axes>"
      ]
     },
     "metadata": {},
     "output_type": "display_data"
    },
    {
     "data": {
      "image/png": "[encoded data removed]",
      "text/plain": [
       "<Figure size 640x480 with 7 Axes>"
      ]
     },
     "metadata": {},
     "output_type": "display_data"
    },
    {
     "data": {
      "image/png": "[encoded data removed]",
      "text/plain": [
       "<Figure size 640x480 with 7 Axes>"
      ]
     },
     "metadata": {},
     "output_type": "display_data"
    },
    {
     "data": {
      "image/png": "[encoded data removed]",
      "text/plain": [
       "<Figure size 640x480 with 7 Axes>"
      ]
     },
     "metadata": {},
     "output_type": "display_data"
    },
    {
     "data": {
      "image/png": "[encoded data removed]",
      "text/plain": [
       "<Figure size 640x480 with 7 Axes>"
      ]
     },
     "metadata": {},
     "output_type": "display_data"
    },
    {
     "data": {
      "image/png": "[encoded data removed]",
      "text/plain": [
       "<Figure size 640x480 with 7 Axes>"
      ]
     },
     "metadata": {},
     "output_type": "display_data"
    },
    {
     "data": {
      "image/png": "[encoded data removed]",
      "text/plain": [
       "<Figure size 640x480 with 7 Axes>"
      ]
     },
     "metadata": {},
     "output_type": "display_data"
    },
    {
     "data": {
      "image/png": "[encoded data removed]",
      "text/plain": [
       "<Figure size 640x480 with 7 Axes>"
      ]
     },
     "metadata": {},
     "output_type": "display_data"
    },
    {
     "data": {
      "image/png": "[encoded data removed]",
      "text/plain": [
       "<Figure size 640x480 with 7 Axes>"
      ]
     },
     "metadata": {},
     "output_type": "display_data"
    }
   ],
   "source": [
    "check_labels_correspondence(embeddings)"
   ]
  },
  {
   "cell_type": "code",
   "execution_count": null,
   "metadata": {},
   "outputs": [],
   "source": []
  }
 ],
 "metadata": {
  "kernelspec": {
   "display_name": "Python 3",
   "language": "python",
   "name": "python3"
  },
  "language_info": {
   "codemirror_mode": {
    "name": "ipython",
    "version": 3
   },
   "file_extension": ".py",
   "mimetype": "text/x-python",
   "name": "python",
   "nbconvert_exporter": "python",
   "pygments_lexer": "ipython3",
   "version": "3.12.1"
  }
 },
 "nbformat": 4,
 "nbformat_minor": 0
}
