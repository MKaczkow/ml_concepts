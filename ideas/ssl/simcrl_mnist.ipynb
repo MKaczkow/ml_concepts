{
 "cells": [
  {
   "cell_type": "code",
   "execution_count": 44,
   "metadata": {},
   "outputs": [],
   "source": [
    "# Based on docs:\n",
    "# https://docs.lightly.ai/self-supervised-learning/tutorials/package/tutorial_simclr_clothing.html\n",
    "\n",
    "# Also, see:\n",
    "# https://github.com/giakoumoglou/classification/blob/main/notebooks/main_simclr.ipynb\n",
    "# https://scikit-learn.org/stable/auto_examples/cluster/plot_kmeans_digits.html"
   ]
  },
  {
   "cell_type": "markdown",
   "metadata": {},
   "source": [
    "## Imports"
   ]
  },
  {
   "cell_type": "code",
   "execution_count": 61,
   "metadata": {
    "collapsed": false
   },
   "outputs": [],
   "source": [
    "import os\n",
    "import shutil\n",
    "\n",
    "import matplotlib.pyplot as plt\n",
    "import numpy as np\n",
    "from scipy.spatial.distance import cdist\n",
    "\n",
    "import pytorch_lightning as pl\n",
    "import torch\n",
    "import torch.nn as nn\n",
    "import torchvision\n",
    "import torchvision.datasets as datasets\n",
    "from PIL import Image\n",
    "\n",
    "from sklearn.decomposition import PCA\n",
    "from sklearn.cluster import KMeans\n",
    "from sklearn.neighbors import NearestNeighbors\n",
    "from sklearn.preprocessing import normalize\n",
    "\n",
    "from lightly.data import LightlyDataset\n",
    "from lightly.transforms import SimCLRTransform, utils"
   ]
  },
  {
   "cell_type": "markdown",
   "metadata": {},
   "source": [
    "## Configuration\n",
    "\n",
    "We set some configuration parameters for our experiment.\n",
    "Feel free to change them and analyze the effect.\n",
    "\n",
    "The default configuration with a batch size of 256 and input resolution of 128\n",
    "requires 6GB of GPU memory.\n",
    "\n"
   ]
  },
  {
   "cell_type": "code",
   "execution_count": 46,
   "metadata": {
    "collapsed": false
   },
   "outputs": [],
   "source": [
    "num_workers = 8\n",
    "batch_size = 256\n",
    "seed = 1\n",
    "max_epochs = 20\n",
    "input_size = 128\n",
    "num_ftrs = 32"
   ]
  },
  {
   "cell_type": "markdown",
   "metadata": {},
   "source": [
    "Let's set the seed for our experiments\n",
    "\n"
   ]
  },
  {
   "cell_type": "code",
   "execution_count": 47,
   "metadata": {
    "collapsed": false
   },
   "outputs": [
    {
     "name": "stderr",
     "output_type": "stream",
     "text": [
      "Seed set to 1\n"
     ]
    },
    {
     "data": {
      "text/plain": [
       "1"
      ]
     },
     "execution_count": 47,
     "metadata": {},
     "output_type": "execute_result"
    }
   ],
   "source": [
    "pl.seed_everything(seed)"
   ]
  },
  {
   "cell_type": "code",
   "execution_count": null,
   "metadata": {},
   "outputs": [],
   "source": [
    "# Create the directory if it doesn't exist\n",
    "os.makedirs(\"./datasets/mnist\", exist_ok=True)\n",
    "os.makedirs(\"./datasets/mnist/train\", exist_ok=True)\n",
    "os.makedirs(\"./datasets/mnist/test\", exist_ok=True)"
   ]
  },
  {
   "cell_type": "code",
   "execution_count": null,
   "metadata": {},
   "outputs": [],
   "source": [
    "# Download the MNIST dataset\n",
    "train_dataset = datasets.MNIST(root=\"./datasets/mnist\", train=True, download=True)\n",
    "test_dataset = datasets.MNIST(root=\"./datasets/mnist\", train=False, download=True)"
   ]
  },
  {
   "cell_type": "code",
   "execution_count": null,
   "metadata": {},
   "outputs": [],
   "source": [
    "# Save the images to the directory\n",
    "for i, (image, label) in enumerate(train_dataset):\n",
    "    image.save(f\"./datasets/mnist/train/{i}.png\")\n",
    "\n",
    "for i, (image, label) in enumerate(test_dataset):\n",
    "    image.save(f\"./datasets/mnist/test/{i}.png\")"
   ]
  },
  {
   "cell_type": "code",
   "execution_count": null,
   "metadata": {},
   "outputs": [],
   "source": [
    "# Remove original data to prevent errors\n",
    "shutil.rmtree(\"./datasets/mnist/MNIST\")"
   ]
  },
  {
   "cell_type": "code",
   "execution_count": 48,
   "metadata": {
    "collapsed": false
   },
   "outputs": [],
   "source": [
    "path_to_data = r\"./datasets/mnist\""
   ]
  },
  {
   "cell_type": "markdown",
   "metadata": {},
   "source": [
    "## Setup data augmentations and loaders\n",
    "\n",
    "The images from the dataset have been taken from above when the clothing was\n",
    "on a table, bed or floor. Therefore, we can make use of additional augmentations\n",
    "such as vertical flip or random rotation (90 degrees).\n",
    "By adding these augmentations we learn our model invariance regarding the\n",
    "orientation of the clothing piece. E.g. we don't care if a shirt is upside down\n",
    "but more about the strcture which make it a shirt.\n",
    "\n",
    "You can learn more about the different augmentations and learned invariances\n",
    "here: `lightly-advanced`.\n",
    "\n"
   ]
  },
  {
   "cell_type": "code",
   "execution_count": 49,
   "metadata": {
    "collapsed": false
   },
   "outputs": [],
   "source": [
    "transform = SimCLRTransform(input_size=input_size, vf_prob=0.5, rr_prob=0.5)\n",
    "\n",
    "# We create a torchvision transformation for embedding the dataset after\n",
    "# training\n",
    "test_transform = torchvision.transforms.Compose(\n",
    "    [\n",
    "        torchvision.transforms.Resize((input_size, input_size)),\n",
    "        torchvision.transforms.ToTensor(),\n",
    "        torchvision.transforms.Normalize(\n",
    "            mean=utils.IMAGENET_NORMALIZE[\"mean\"],\n",
    "            std=utils.IMAGENET_NORMALIZE[\"std\"],\n",
    "        ),\n",
    "    ]\n",
    ")\n",
    "\n",
    "dataset_train_simclr = LightlyDataset(input_dir=path_to_data, transform=transform)\n",
    "\n",
    "dataset_test = LightlyDataset(input_dir=path_to_data, transform=test_transform)\n",
    "\n",
    "dataloader_train_simclr = torch.utils.data.DataLoader(\n",
    "    dataset_train_simclr,\n",
    "    batch_size=batch_size,\n",
    "    shuffle=True,\n",
    "    drop_last=True,\n",
    "    num_workers=num_workers,\n",
    ")\n",
    "\n",
    "dataloader_test = torch.utils.data.DataLoader(\n",
    "    dataset_test,\n",
    "    batch_size=batch_size,\n",
    "    shuffle=False,\n",
    "    drop_last=False,\n",
    "    num_workers=num_workers,\n",
    ")"
   ]
  },
  {
   "cell_type": "markdown",
   "metadata": {},
   "source": [
    "## Create the SimCLR Model\n",
    "Now we create the SimCLR model. We implement it as a PyTorch Lightning Module\n",
    "and use a ResNet-18 backbone from Torchvision. Lightly provides implementations\n",
    "of the SimCLR projection head and loss function in the `SimCLRProjectionHead`\n",
    "and `NTXentLoss` classes. We can simply import them and combine the building\n",
    "blocks in the module.\n",
    "\n"
   ]
  },
  {
   "cell_type": "code",
   "execution_count": 50,
   "metadata": {
    "collapsed": false
   },
   "outputs": [],
   "source": [
    "from lightly.loss import NTXentLoss\n",
    "from lightly.models.modules.heads import SimCLRProjectionHead\n",
    "\n",
    "\n",
    "class SimCLRModel(pl.LightningModule):\n",
    "    def __init__(self):\n",
    "        super().__init__()\n",
    "\n",
    "        # create a ResNet backbone and remove the classification head\n",
    "        resnet = torchvision.models.resnet18()\n",
    "        self.backbone = nn.Sequential(*list(resnet.children())[:-1])\n",
    "\n",
    "        hidden_dim = resnet.fc.in_features\n",
    "        self.projection_head = SimCLRProjectionHead(hidden_dim, hidden_dim, 128)\n",
    "\n",
    "        self.criterion = NTXentLoss()\n",
    "\n",
    "    def forward(self, x):\n",
    "        h = self.backbone(x).flatten(start_dim=1)\n",
    "        z = self.projection_head(h)\n",
    "        return z\n",
    "\n",
    "    def training_step(self, batch, batch_idx):\n",
    "        (x0, x1), _, _ = batch\n",
    "        z0 = self.forward(x0)\n",
    "        z1 = self.forward(x1)\n",
    "        loss = self.criterion(z0, z1)\n",
    "        self.log(\"train_loss_ssl\", loss)\n",
    "        return loss\n",
    "\n",
    "    def configure_optimizers(self):\n",
    "        optim = torch.optim.SGD(\n",
    "            self.parameters(), lr=6e-2, momentum=0.9, weight_decay=5e-4\n",
    "        )\n",
    "        scheduler = torch.optim.lr_scheduler.CosineAnnealingLR(optim, max_epochs)\n",
    "        return [optim], [scheduler]"
   ]
  },
  {
   "cell_type": "markdown",
   "metadata": {},
   "source": [
    "Train the module using the PyTorch Lightning Trainer on a single GPU.\n",
    "\n"
   ]
  },
  {
   "cell_type": "code",
   "execution_count": 51,
   "metadata": {
    "collapsed": false
   },
   "outputs": [],
   "source": [
    "# Uncomment for training (may take some time)\n",
    "\n",
    "# model = SimCLRModel()\n",
    "# trainer = pl.Trainer(max_epochs=max_epochs, devices=1, accelerator=\"gpu\")\n",
    "# trainer.fit(model, dataloader_train_simclr)\n",
    "\n",
    "# TODO: add early stopping, as the model doesn't improve further after around 10 epochs"
   ]
  },
  {
   "cell_type": "markdown",
   "metadata": {},
   "source": [
    "Next we create a helper function to generate embeddings\n",
    "from our test images using the model we just trained.\n",
    "Note that only the backbone is needed to generate embeddings,\n",
    "the projection head is only required for the training.\n",
    "Make sure to put the model into eval mode for this part!\n",
    "\n"
   ]
  },
  {
   "cell_type": "code",
   "execution_count": 52,
   "metadata": {},
   "outputs": [],
   "source": [
    "def generate_embeddings(model, dataloader):\n",
    "    \"\"\"Generates representations for all images in the dataloader with\n",
    "    the given model\n",
    "    \"\"\"\n",
    "\n",
    "    embeddings = []\n",
    "    filenames = []\n",
    "    with torch.no_grad():\n",
    "        for img, _, fnames in dataloader:\n",
    "            img = img.to(model.device)\n",
    "            emb = model.backbone(img).flatten(start_dim=1)\n",
    "            embeddings.append(emb)\n",
    "            filenames.extend(fnames)\n",
    "\n",
    "    embeddings = torch.cat(embeddings, 0)\n",
    "    embeddings = normalize(embeddings.to(\"cpu\"))\n",
    "    return embeddings, filenames"
   ]
  },
  {
   "cell_type": "code",
   "execution_count": 53,
   "metadata": {},
   "outputs": [],
   "source": [
    "# For eval only\n",
    "model = SimCLRModel.load_from_checkpoint(\n",
    "    \"./lightning_logs/version_4/checkpoints/epoch=14-step=4095.ckpt\"\n",
    ")"
   ]
  },
  {
   "cell_type": "code",
   "execution_count": 54,
   "metadata": {
    "collapsed": false
   },
   "outputs": [],
   "source": [
    "model.eval()\n",
    "embeddings, filenames = generate_embeddings(model, dataloader_test)"
   ]
  },
  {
   "cell_type": "markdown",
   "metadata": {},
   "source": [
    "## Visualize Nearest Neighbors\n",
    "Let's look at the trained embedding and visualize the nearest neighbors for\n",
    "a few random samples.\n",
    "\n",
    "We create some helper functions to simplify the work\n",
    "\n"
   ]
  },
  {
   "cell_type": "code",
   "execution_count": 62,
   "metadata": {},
   "outputs": [],
   "source": [
    "def get_distances_between_centroids(\n",
    "    embeddings: np.ndarray = None, n_clusters: int = 10\n",
    ") -> np.ndarray:\n",
    "    \"\"\"Calculate the clusters and distances between their centroids.\n",
    "\n",
    "    Args:\n",
    "        embeddings (np.ndarray, optional): Input embeddings. Defaults to None.\n",
    "        n_clusters (int, optional): Should be 10 for MNIST, but generally is data-dependent. Defaults to 10.\n",
    "\n",
    "    Returns:\n",
    "        np.ndarray: matrix of distances between centroids, with rank n_clusters x n_clusters\n",
    "    \"\"\"\n",
    "    kmeans = KMeans(n_clusters=n_clusters)\n",
    "    labels = kmeans.fit_predict(embeddings)\n",
    "    centroids = kmeans.cluster_centers_\n",
    "\n",
    "    print(f\"Cluster centroids dimensions: {centroids.shape}\")\n",
    "    print(f\"Cluster centroids:\\n {centroids}\")\n",
    "    print(f\"Cluster sizes: {np.bincount(labels)}\")\n",
    "\n",
    "    distances = cdist(centroids, centroids)\n",
    "    return distances"
   ]
  },
  {
   "cell_type": "code",
   "execution_count": 63,
   "metadata": {},
   "outputs": [
    {
     "name": "stdout",
     "output_type": "stream",
     "text": [
      "Cluster centroids dimensions: (10, 512)\n",
      "Cluster centroids:\n",
      " [[0.01356608 0.03640075 0.03651705 ... 0.02792558 0.04370748 0.04605724]\n",
      " [0.04092902 0.04653256 0.04202884 ... 0.05929984 0.02878389 0.0153493 ]\n",
      " [0.03477266 0.07670884 0.03996711 ... 0.04230779 0.03355276 0.05636859]\n",
      " ...\n",
      " [0.0236144  0.01617302 0.01519194 ... 0.05519713 0.05978007 0.00975647]\n",
      " [0.03657048 0.05329192 0.0352304  ... 0.02297343 0.01952295 0.04115388]\n",
      " [0.01952146 0.0458184  0.03055629 ... 0.03901875 0.0276754  0.01693676]]\n",
      "Cluster sizes: [9886 6703 8586 7351 4235 6987 6513 5033 5463 9243]\n"
     ]
    }
   ],
   "source": [
    "distances = get_distances_between_centroids(embeddings)"
   ]
  },
  {
   "cell_type": "code",
   "execution_count": 67,
   "metadata": {},
   "outputs": [
    {
     "name": "stdout",
     "output_type": "stream",
     "text": [
      "<class 'numpy.ndarray'>\n",
      "(10, 10)\n",
      "10\n",
      "[[0.         0.60001089 0.44586291 0.50427062 0.73007753 0.59723433\n",
      "  0.510906   0.66784589 0.60123537 0.52751229]\n",
      " [0.60001089 0.         0.56162077 0.47035942 0.4782806  0.50896548\n",
      "  0.71032653 0.57670742 0.54109041 0.43905751]\n",
      " [0.44586291 0.56162077 0.         0.4336027  0.70515167 0.57630494\n",
      "  0.5113117  0.69043428 0.46001387 0.6326839 ]\n",
      " [0.50427062 0.47035942 0.4336027  0.         0.68746722 0.48827978\n",
      "  0.52401121 0.67088874 0.50796434 0.43496134]\n",
      " [0.73007753 0.4782806  0.70515167 0.68746722 0.         0.66934224\n",
      "  0.83559682 0.46668641 0.69847081 0.66702631]\n",
      " [0.59723433 0.50896548 0.57630494 0.48827978 0.66934224 0.\n",
      "  0.77826917 0.57589671 0.71926609 0.59761182]\n",
      " [0.510906   0.71032653 0.5113117  0.52401121 0.83559682 0.77826917\n",
      "  0.         0.80987732 0.67091265 0.56816359]\n",
      " [0.66784589 0.57670742 0.69043428 0.67088874 0.46668641 0.57589671\n",
      "  0.80987732 0.         0.70984386 0.70857458]\n",
      " [0.60123537 0.54109041 0.46001387 0.50796434 0.69847081 0.71926609\n",
      "  0.67091265 0.70984386 0.         0.68074725]\n",
      " [0.52751229 0.43905751 0.6326839  0.43496134 0.66702631 0.59761182\n",
      "  0.56816359 0.70857458 0.68074725 0.        ]]\n"
     ]
    }
   ],
   "source": [
    "print(type(distances))\n",
    "print(distances.shape)\n",
    "print(np.linalg.matrix_rank(distances))\n",
    "print(distances)"
   ]
  },
  {
   "cell_type": "code",
   "execution_count": 57,
   "metadata": {
    "collapsed": false
   },
   "outputs": [],
   "source": [
    "def get_image_as_np_array(filename: str):\n",
    "    \"\"\"Returns an image as an numpy array\"\"\"\n",
    "    img = Image.open(filename)\n",
    "    return np.asarray(img)"
   ]
  },
  {
   "cell_type": "code",
   "execution_count": null,
   "metadata": {},
   "outputs": [],
   "source": [
    "def plot_knn_examples(embeddings, filenames, n_neighbors=3, num_examples=6):\n",
    "    \"\"\"Plots multiple rows of random images with their nearest neighbors\"\"\"\n",
    "    # lets look at the nearest neighbors for some samples\n",
    "    # we use the sklearn library\n",
    "    nbrs = NearestNeighbors(n_neighbors=n_neighbors).fit(embeddings)\n",
    "    distances, indices = nbrs.kneighbors(embeddings)\n",
    "\n",
    "    # get 5 random samples\n",
    "    samples_idx = np.random.choice(len(indices), size=num_examples, replace=False)\n",
    "\n",
    "    # loop through our randomly picked samples\n",
    "    for idx in samples_idx:\n",
    "        fig = plt.figure()\n",
    "        # loop through their nearest neighbors\n",
    "        for plot_x_offset, neighbor_idx in enumerate(indices[idx]):\n",
    "            # add the subplot\n",
    "            ax = fig.add_subplot(1, len(indices[idx]), plot_x_offset + 1)\n",
    "            # get the correponding filename for the current index\n",
    "            fname = os.path.join(path_to_data, filenames[neighbor_idx])\n",
    "            # plot the image\n",
    "            plt.imshow(get_image_as_np_array(fname))\n",
    "            # set the title to the distance of the neighbor\n",
    "            ax.set_title(f\"d={distances[idx][plot_x_offset]:.3f}\")\n",
    "            # let's disable the axis\n",
    "            plt.axis(\"off\")"
   ]
  },
  {
   "cell_type": "code",
   "execution_count": null,
   "metadata": {},
   "outputs": [],
   "source": [
    "plot_knn_examples(embeddings, filenames, n_neighbors=10, num_examples=10)"
   ]
  },
  {
   "cell_type": "code",
   "execution_count": null,
   "metadata": {
    "collapsed": false
   },
   "outputs": [],
   "source": [
    "plot_knn_examples(embeddings, filenames)"
   ]
  },
  {
   "cell_type": "markdown",
   "metadata": {},
   "source": [
    "## Clusters\n",
    "Let's look at the trained embedding and visualize clusters in latent space."
   ]
  },
  {
   "cell_type": "code",
   "execution_count": null,
   "metadata": {},
   "outputs": [],
   "source": [
    "def plot_clusters(\n",
    "    embeddings: np.ndarray = None,\n",
    "    n_clusters: int = 10,\n",
    "    proportion_of_points_to_plot: float = 0.001,\n",
    ") -> None:\n",
    "    \"\"\"Plots multiple rows of random images with their cluster centroids\"\"\"\n",
    "\n",
    "    print(f\"Working on embeddings of shape {embeddings.shape}\")\n",
    "\n",
    "    reduced_embeddings = PCA(n_components=2).fit_transform(embeddings)\n",
    "\n",
    "    kmeans = KMeans(n_clusters=n_clusters)\n",
    "    labels = kmeans.fit_predict(reduced_embeddings)\n",
    "    centroids = kmeans.cluster_centers_\n",
    "\n",
    "    print(f\"Cluster centroids:\\n {centroids}\")\n",
    "    print(f\"Cluster sizes: {np.bincount(labels)}\")\n",
    "\n",
    "    # Sample proportion_of_points_to_plot of the data to plot for readability\n",
    "    sampled_indices = np.random.choice(\n",
    "        reduced_embeddings.shape[0],\n",
    "        int(len(reduced_embeddings) * proportion_of_points_to_plot),\n",
    "        replace=False,\n",
    "    )\n",
    "    sampled_embeddings = reduced_embeddings[sampled_indices]\n",
    "    sampled_labels = labels[sampled_indices]\n",
    "\n",
    "    print(f\"Plotting {len(sampled_embeddings)} points out of {len(reduced_embeddings)}\")\n",
    "\n",
    "    plt.scatter(sampled_embeddings[:, 0], sampled_embeddings[:, 1], c=sampled_labels)\n",
    "    plt.xlabel(\"Component 1\")\n",
    "    plt.ylabel(\"Component 2\")\n",
    "    plt.title(\"Cluster Plot\")\n",
    "    plt.show()"
   ]
  },
  {
   "cell_type": "code",
   "execution_count": null,
   "metadata": {},
   "outputs": [],
   "source": [
    "plot_clusters(embeddings, proportion_of_points_to_plot=0.01)"
   ]
  },
  {
   "cell_type": "code",
   "execution_count": null,
   "metadata": {},
   "outputs": [],
   "source": []
  }
 ],
 "metadata": {
  "kernelspec": {
   "display_name": "Python 3",
   "language": "python",
   "name": "python3"
  },
  "language_info": {
   "codemirror_mode": {
    "name": "ipython",
    "version": 3
   },
   "file_extension": ".py",
   "mimetype": "text/x-python",
   "name": "python",
   "nbconvert_exporter": "python",
   "pygments_lexer": "ipython3",
   "version": "3.10.3"
  }
 },
 "nbformat": 4,
 "nbformat_minor": 0
}
