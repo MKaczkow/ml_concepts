{
 "cells": [
  {
   "cell_type": "code",
   "execution_count": 30,
   "metadata": {},
   "outputs": [],
   "source": [
    "from torchvision import datasets, transforms\n",
    "from vidaug import augmentors as va\n",
    "import matplotlib.pyplot as plt\n",
    "\n",
    "from utils import create_image_sequence"
   ]
  },
  {
   "cell_type": "code",
   "execution_count": 31,
   "metadata": {},
   "outputs": [],
   "source": [
    "# Load MNIST dataset\n",
    "transform = transforms.Compose(\n",
    "    [transforms.ToTensor(), transforms.Normalize((0.5,), (0.5,))]\n",
    ")\n",
    "\n",
    "mnist_train = datasets.MNIST(root=\".\", train=True, download=True, transform=transform)\n",
    "mnist_test = datasets.MNIST(root=\".\", train=False, download=True, transform=transform)"
   ]
  },
  {
   "cell_type": "code",
   "execution_count": 55,
   "metadata": {},
   "outputs": [],
   "source": [
    "seq_len = 10"
   ]
  },
  {
   "cell_type": "code",
   "execution_count": 71,
   "metadata": {},
   "outputs": [],
   "source": [
    "\"\"\"\n",
    "List of augmenters:\n",
    "    * TemporalBeginCrop\n",
    "    * TemporalCenterCrop\n",
    "    * TemporalRandomCrop\n",
    "    * InverseOrder\n",
    "    * Downsample\n",
    "    * Upsample\n",
    "    * TemporalFit\n",
    "    * TemporalElasticTransformation\n",
    "\"\"\"\n",
    "\n",
    "sometimes = lambda aug: va.Sometimes(1.0, aug)  # 100% of the time\n",
    "sequential_augmentation = va.Sequential(\n",
    "    [\n",
    "        sometimes(va.InverseOrder()),\n",
    "        # sometimes(va.Downsample(ratio=0.5))   # smth wrong with this one\n",
    "    ]\n",
    ")"
   ]
  },
  {
   "cell_type": "code",
   "execution_count": 72,
   "metadata": {},
   "outputs": [
    {
     "name": "stdout",
     "output_type": "stream",
     "text": [
      "<class 'torch.Tensor'>\n",
      "torch.Size([10, 1, 28, 28])\n"
     ]
    }
   ],
   "source": [
    "images_sequence_tensor = create_image_sequence(mnist_test, seq_len)\n",
    "print(type(images_sequence_tensor))\n",
    "print(images_sequence_tensor.shape)"
   ]
  },
  {
   "cell_type": "code",
   "execution_count": 73,
   "metadata": {},
   "outputs": [
    {
     "name": "stdout",
     "output_type": "stream",
     "text": [
      "<class 'list'>\n",
      "10\n",
      "(1, 28, 28)\n"
     ]
    }
   ],
   "source": [
    "images_sequence = [\n",
    "    images_sequence_tensor[i].numpy() for i in range(images_sequence_tensor.size(0))\n",
    "]\n",
    "print(type(images_sequence))\n",
    "print(len(images_sequence))\n",
    "print(images_sequence[0].shape)"
   ]
  },
  {
   "cell_type": "code",
   "execution_count": 74,
   "metadata": {},
   "outputs": [
    {
     "name": "stdout",
     "output_type": "stream",
     "text": [
      "<class 'list'>\n",
      "9\n",
      "(1, 28, 28)\n"
     ]
    }
   ],
   "source": [
    "augmented_images_sequence = sequential_augmentation(images_sequence)\n",
    "\n",
    "# for some reason last image is dropped\n",
    "print(type(augmented_images_sequence))\n",
    "print(len(augmented_images_sequence))\n",
    "print(augmented_images_sequence[0].shape)"
   ]
  },
  {
   "cell_type": "code",
   "execution_count": 75,
   "metadata": {},
   "outputs": [],
   "source": [
    "def display_frames(original_frames, augmented_frames, num_frames=5):\n",
    "    fig, axs = plt.subplots(2, num_frames, figsize=(15, 5))\n",
    "    for i in range(num_frames):\n",
    "        axs[0, i].imshow(original_frames[i].squeeze())\n",
    "        axs[0, i].axis(\"off\")\n",
    "        axs[0, i].set_title(\"Original\")\n",
    "\n",
    "        axs[1, i].imshow(augmented_frames[i].squeeze())\n",
    "        axs[1, i].axis(\"off\")\n",
    "        axs[1, i].set_title(\"Augmented\")\n",
    "    plt.show()"
   ]
  },
  {
   "cell_type": "code",
   "execution_count": 65,
   "metadata": {},
   "outputs": [
    {
     "data": {
      "image/png": "[encoded data removed]",
      "text/plain": [
       "<Figure size 1500x500 with 18 Axes>"
      ]
     },
     "metadata": {},
     "output_type": "display_data"
    }
   ],
   "source": [
    "display_frames(images_sequence[:10], augmented_images_sequence[:10], num_frames=9)\n",
    "# for some reason last image is dropped"
   ]
  },
  {
   "cell_type": "code",
   "execution_count": null,
   "metadata": {},
   "outputs": [],
   "source": []
  }
 ],
 "metadata": {
  "kernelspec": {
   "display_name": "venv",
   "language": "python",
   "name": "python3"
  },
  "language_info": {
   "codemirror_mode": {
    "name": "ipython",
    "version": 3
   },
   "file_extension": ".py",
   "mimetype": "text/x-python",
   "name": "python",
   "nbconvert_exporter": "python",
   "pygments_lexer": "ipython3",
   "version": "3.10.3"
  }
 },
 "nbformat": 4,
 "nbformat_minor": 2
}
