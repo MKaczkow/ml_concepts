{
 "cells": [
  {
   "cell_type": "code",
   "execution_count": null,
   "metadata": {},
   "outputs": [],
   "source": [
    "# Note: The model and training settings do not follow the reference settings\n",
    "# from the paper. The settings are chosen such that the example can easily be\n",
    "# run on a small dataset with a single GPU.\n",
    "\n",
    "import pytorch_lightning as pl\n",
    "import torch\n",
    "import torchvision\n",
    "from torchvision.transforms import Compose, Lambda\n",
    "from torch import nn\n",
    "\n",
    "from lightly.loss import NTXentLoss\n",
    "from lightly.models.modules import SimCLRProjectionHead\n",
    "from lightly.transforms.simclr_transform import SimCLRTransform"
   ]
  },
  {
   "cell_type": "code",
   "execution_count": null,
   "metadata": {},
   "outputs": [],
   "source": [
    "class SimCLR(pl.LightningModule):\n",
    "    def __init__(self):\n",
    "        super().__init__()\n",
    "        resnet = torchvision.models.resnet18()\n",
    "        self.backbone = nn.Sequential(*list(resnet.children())[:-1])\n",
    "        self.projection_head = SimCLRProjectionHead(512, 2048, 2048)\n",
    "        self.criterion = NTXentLoss()\n",
    "\n",
    "    def forward(self, x):\n",
    "        x = self.backbone(x).flatten(start_dim=1)\n",
    "        z = self.projection_head(x)\n",
    "        return z\n",
    "\n",
    "    def training_step(self, batch, batch_index):\n",
    "        (x0, x1) = batch[0]\n",
    "        z0 = self.forward(x0)\n",
    "        z1 = self.forward(x1)\n",
    "        loss = self.criterion(z0, z1)\n",
    "        return loss\n",
    "\n",
    "    def configure_optimizers(self):\n",
    "        optim = torch.optim.SGD(self.parameters(), lr=0.06)\n",
    "        return optim"
   ]
  },
  {
   "cell_type": "code",
   "execution_count": null,
   "metadata": {},
   "outputs": [],
   "source": [
    "model = SimCLR()\n",
    "\n",
    "# this part is little tricky\n",
    "# random_gray_scale=1.0\n",
    "# but may work\n",
    "# FIXME: start here next time\n",
    "# FIXME: cleanup\n",
    "# FIXME: prepare 2-3 clear notebooks\n",
    "simclr_transform = SimCLRTransform(input_size=32, random_gray_scale=1.0)\n",
    "mnist_to_3_channels = Lambda(lambda x: x.expand(3, -1, -1))\n",
    "transform = Compose([mnist_to_3_channels, simclr_transform])\n",
    "\n",
    "# dataset = torchvision.datasets.CIFAR10(\n",
    "#     \"datasets/cifar10\", download=True, transform=transform, train=True\n",
    "# )\n",
    "\n",
    "# ... or MNIST\n",
    "dataset = torchvision.datasets.MNIST(\n",
    "    \"datasets/mnist-clean-torchvision\", download=True, transform=transform, train=True,\n",
    "    transform\n",
    ")\n",
    "\n",
    "# ... or create a dataset from a folder containing images or videos:\n",
    "# dataset = LightlyDataset(\"path/to/folder\", transform=transform)\n",
    "\n",
    "dataloader = torch.utils.data.DataLoader(\n",
    "    dataset,\n",
    "    batch_size=256,\n",
    "    shuffle=True,\n",
    "    drop_last=True,\n",
    "    num_workers=8,\n",
    ")"
   ]
  },
  {
   "cell_type": "code",
   "execution_count": null,
   "metadata": {},
   "outputs": [],
   "source": [
    "accelerator = \"gpu\" if torch.cuda.is_available() else \"cpu\"\n",
    "trainer = pl.Trainer(max_epochs=10, devices=1, accelerator=accelerator)"
   ]
  },
  {
   "cell_type": "code",
   "execution_count": null,
   "metadata": {},
   "outputs": [],
   "source": [
    "# training\n",
    "trainer.fit(model=model, train_dataloaders=dataloader)\n",
    "\n",
    "# read from checkpoint\n",
    "# model = SimCLR.load_from_checkpoint(\n",
    "#     r\"lightning_logs\\ \"\n",
    "#     )"
   ]
  },
  {
   "cell_type": "markdown",
   "metadata": {},
   "source": [
    "## Generate embeddings"
   ]
  },
  {
   "cell_type": "code",
   "execution_count": null,
   "metadata": {},
   "outputs": [],
   "source": [
    "import matplotlib.pyplot as plt\n",
    "from utils import generate_embeddings\n",
    "from lightly.transforms.utils import IMAGENET_NORMALIZE"
   ]
  },
  {
   "cell_type": "code",
   "execution_count": null,
   "metadata": {},
   "outputs": [],
   "source": [
    "test_transform = torchvision.transforms.Compose(\n",
    "    [\n",
    "        torchvision.transforms.ToTensor(),\n",
    "        torchvision.transforms.Normalize(\n",
    "            mean=IMAGENET_NORMALIZE[\"mean\"],\n",
    "            std=IMAGENET_NORMALIZE[\"std\"],\n",
    "        ),\n",
    "    ]\n",
    ")"
   ]
  },
  {
   "cell_type": "code",
   "execution_count": null,
   "metadata": {},
   "outputs": [],
   "source": [
    "# note, that this is not 'test' in a train/test sense\n",
    "# SIMCLR is uses SSL method, so labels doesn't really matter\n",
    "# test_dataset = torchvision.datasets.CIFAR10(\n",
    "#     \"datasets/test-cifar10\", download=True, transform=test_transform, train=False\n",
    "# )\n",
    "\n",
    "test_dataset = torchvision.datasets.CIFAR10(\n",
    "    \"datasets/mnist-clean-torchvision\",\n",
    "    download=True,\n",
    "    transform=test_transform,\n",
    "    train=False,\n",
    ")"
   ]
  },
  {
   "cell_type": "code",
   "execution_count": null,
   "metadata": {},
   "outputs": [],
   "source": [
    "len(dataset)"
   ]
  },
  {
   "cell_type": "code",
   "execution_count": null,
   "metadata": {},
   "outputs": [],
   "source": [
    "test_dataloader = torch.utils.data.DataLoader(\n",
    "    test_dataset,\n",
    "    batch_size=256,\n",
    "    # this is important!\n",
    "    shuffle=False,\n",
    "    drop_last=True,\n",
    "    num_workers=8,\n",
    ")"
   ]
  },
  {
   "cell_type": "code",
   "execution_count": null,
   "metadata": {},
   "outputs": [],
   "source": [
    "embeddings = generate_embeddings(model, test_dataloader)"
   ]
  },
  {
   "cell_type": "code",
   "execution_count": null,
   "metadata": {},
   "outputs": [],
   "source": [
    "print(type(embeddings))\n",
    "print(len(embeddings))\n",
    "print(embeddings.shape)"
   ]
  },
  {
   "cell_type": "markdown",
   "metadata": {},
   "source": [
    "### Random"
   ]
  },
  {
   "cell_type": "code",
   "execution_count": null,
   "metadata": {},
   "outputs": [],
   "source": [
    "from sklearn.cluster import KMeans\n",
    "from sklearn.decomposition import PCA"
   ]
  },
  {
   "cell_type": "code",
   "execution_count": null,
   "metadata": {},
   "outputs": [],
   "source": [
    "num_principal_components = 3\n",
    "n_clusters = 20"
   ]
  },
  {
   "cell_type": "code",
   "execution_count": null,
   "metadata": {},
   "outputs": [],
   "source": [
    "pca = PCA(n_components=num_principal_components)\n",
    "embeddings_reduced = pca.fit_transform(embeddings.to(\"cpu\").numpy())\n",
    "\n",
    "kmeans = KMeans(n_clusters=n_clusters)\n",
    "labels = kmeans.fit_predict(embeddings_reduced)\n",
    "centroids = kmeans.cluster_centers_"
   ]
  },
  {
   "cell_type": "code",
   "execution_count": null,
   "metadata": {},
   "outputs": [],
   "source": [
    "centroids.shape"
   ]
  },
  {
   "cell_type": "code",
   "execution_count": null,
   "metadata": {},
   "outputs": [],
   "source": [
    "ax = plt.figure().add_subplot(projection=\"3d\")\n",
    "\n",
    "ax.scatter(\n",
    "    embeddings_reduced[:, 0],\n",
    "    embeddings_reduced[:, 1],\n",
    "    embeddings_reduced[:, 2],\n",
    "    c=labels,\n",
    "    alpha=0.05,\n",
    ")\n",
    "\n",
    "ax.scatter(\n",
    "    centroids[:, 0],\n",
    "    centroids[:, 1],\n",
    "    centroids[:, 2],\n",
    "    c=\"red\",\n",
    "    s=100,\n",
    "    alpha=1.0,\n",
    ")\n",
    "\n",
    "plt.show()"
   ]
  }
 ],
 "metadata": {
  "kernelspec": {
   "display_name": "venv",
   "language": "python",
   "name": "python3"
  },
  "language_info": {
   "codemirror_mode": {
    "name": "ipython",
    "version": 3
   },
   "file_extension": ".py",
   "mimetype": "text/x-python",
   "name": "python",
   "nbconvert_exporter": "python",
   "pygments_lexer": "ipython3",
   "version": "3.10.3"
  }
 },
 "nbformat": 4,
 "nbformat_minor": 2
}
