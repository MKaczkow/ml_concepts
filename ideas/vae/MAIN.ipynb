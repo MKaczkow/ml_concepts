{
 "cells": [
  {
   "cell_type": "code",
   "execution_count": 36,
   "metadata": {},
   "outputs": [],
   "source": [
    "from tqdm import tqdm\n",
    "import torch\n",
    "from torch import nn, optim\n",
    "from torch.utils.data import DataLoader\n",
    "from torchvision import datasets, transforms\n",
    "from torchvision.utils import save_image\n",
    "from model import VAE"
   ]
  },
  {
   "cell_type": "code",
   "execution_count": 5,
   "metadata": {},
   "outputs": [],
   "source": [
    "device = torch.device(\"cuda:0\" if torch.cuda.is_available() else \"cpu\")"
   ]
  },
  {
   "cell_type": "code",
   "execution_count": 6,
   "metadata": {},
   "outputs": [
    {
     "name": "stdout",
     "output_type": "stream",
     "text": [
      "cuda:0\n"
     ]
    }
   ],
   "source": [
    "print(device)"
   ]
  },
  {
   "cell_type": "markdown",
   "metadata": {},
   "source": [
    "## Sanity check"
   ]
  },
  {
   "cell_type": "code",
   "execution_count": 7,
   "metadata": {},
   "outputs": [],
   "source": [
    "vae = VAE(input_dim=28).to(device)"
   ]
  },
  {
   "cell_type": "code",
   "execution_count": 8,
   "metadata": {},
   "outputs": [],
   "source": [
    "x = torch.randn(4, 1, 28, 28).to(device)"
   ]
  },
  {
   "cell_type": "code",
   "execution_count": 9,
   "metadata": {},
   "outputs": [],
   "source": [
    "y = vae(x)"
   ]
  },
  {
   "cell_type": "code",
   "execution_count": 14,
   "metadata": {},
   "outputs": [
    {
     "name": "stdout",
     "output_type": "stream",
     "text": [
      "<class 'tuple'>\n",
      "torch.Size([4, 1, 28, 28])\n",
      "torch.Size([4, 1, 28, 200])\n",
      "torch.Size([4, 1, 28, 200])\n"
     ]
    }
   ],
   "source": [
    "print(type(y))\n",
    "print(y[0].shape)\n",
    "print(y[1].shape)\n",
    "print(y[2].shape)"
   ]
  },
  {
   "cell_type": "markdown",
   "metadata": {},
   "source": [
    "## Training"
   ]
  },
  {
   "cell_type": "code",
   "execution_count": 22,
   "metadata": {},
   "outputs": [],
   "source": [
    "input_dim = 784\n",
    "# input_dim = (1, 28, 28)\n",
    "h_dim = 200\n",
    "z_dim = 20\n",
    "num_epochs = 10\n",
    "batch_size = 32\n",
    "learning_rate = 3e-4"
   ]
  },
  {
   "cell_type": "code",
   "execution_count": 17,
   "metadata": {},
   "outputs": [
    {
     "name": "stdout",
     "output_type": "stream",
     "text": [
      "Downloading http://yann.lecun.com/exdb/mnist/train-images-idx3-ubyte.gz\n",
      "Failed to download (trying next):\n",
      "HTTP Error 403: Forbidden\n",
      "\n",
      "Downloading https://ossci-datasets.s3.amazonaws.com/mnist/train-images-idx3-ubyte.gz\n",
      "Downloading https://ossci-datasets.s3.amazonaws.com/mnist/train-images-idx3-ubyte.gz to data/MNIST\\raw\\train-images-idx3-ubyte.gz\n"
     ]
    },
    {
     "name": "stderr",
     "output_type": "stream",
     "text": [
      "100%|██████████| 9912422/9912422 [00:07<00:00, 1262068.29it/s]\n"
     ]
    },
    {
     "name": "stdout",
     "output_type": "stream",
     "text": [
      "Extracting data/MNIST\\raw\\train-images-idx3-ubyte.gz to data/MNIST\\raw\n",
      "\n",
      "Downloading http://yann.lecun.com/exdb/mnist/train-labels-idx1-ubyte.gz\n",
      "Failed to download (trying next):\n",
      "HTTP Error 403: Forbidden\n",
      "\n",
      "Downloading https://ossci-datasets.s3.amazonaws.com/mnist/train-labels-idx1-ubyte.gz\n",
      "Downloading https://ossci-datasets.s3.amazonaws.com/mnist/train-labels-idx1-ubyte.gz to data/MNIST\\raw\\train-labels-idx1-ubyte.gz\n"
     ]
    },
    {
     "name": "stderr",
     "output_type": "stream",
     "text": [
      "100%|██████████| 28881/28881 [00:00<00:00, 160913.51it/s]\n"
     ]
    },
    {
     "name": "stdout",
     "output_type": "stream",
     "text": [
      "Extracting data/MNIST\\raw\\train-labels-idx1-ubyte.gz to data/MNIST\\raw\n",
      "\n",
      "Downloading http://yann.lecun.com/exdb/mnist/t10k-images-idx3-ubyte.gz\n",
      "Failed to download (trying next):\n",
      "HTTP Error 403: Forbidden\n",
      "\n",
      "Downloading https://ossci-datasets.s3.amazonaws.com/mnist/t10k-images-idx3-ubyte.gz\n",
      "Downloading https://ossci-datasets.s3.amazonaws.com/mnist/t10k-images-idx3-ubyte.gz to data/MNIST\\raw\\t10k-images-idx3-ubyte.gz\n"
     ]
    },
    {
     "name": "stderr",
     "output_type": "stream",
     "text": [
      "100%|██████████| 1648877/1648877 [00:02<00:00, 709222.25it/s]\n"
     ]
    },
    {
     "name": "stdout",
     "output_type": "stream",
     "text": [
      "Extracting data/MNIST\\raw\\t10k-images-idx3-ubyte.gz to data/MNIST\\raw\n",
      "\n",
      "Downloading http://yann.lecun.com/exdb/mnist/t10k-labels-idx1-ubyte.gz\n",
      "Failed to download (trying next):\n",
      "HTTP Error 403: Forbidden\n",
      "\n",
      "Downloading https://ossci-datasets.s3.amazonaws.com/mnist/t10k-labels-idx1-ubyte.gz\n",
      "Downloading https://ossci-datasets.s3.amazonaws.com/mnist/t10k-labels-idx1-ubyte.gz to data/MNIST\\raw\\t10k-labels-idx1-ubyte.gz\n"
     ]
    },
    {
     "name": "stderr",
     "output_type": "stream",
     "text": [
      "100%|██████████| 4542/4542 [00:00<00:00, 4507933.93it/s]"
     ]
    },
    {
     "name": "stdout",
     "output_type": "stream",
     "text": [
      "Extracting data/MNIST\\raw\\t10k-labels-idx1-ubyte.gz to data/MNIST\\raw\n",
      "\n"
     ]
    },
    {
     "name": "stderr",
     "output_type": "stream",
     "text": [
      "\n"
     ]
    }
   ],
   "source": [
    "dataset = datasets.MNIST(\n",
    "    root=\"data/\", train=True, transform=transforms.ToTensor(), download=True\n",
    ")"
   ]
  },
  {
   "cell_type": "code",
   "execution_count": 19,
   "metadata": {},
   "outputs": [],
   "source": [
    "train_loader = DataLoader(dataset, batch_size=batch_size, shuffle=True)"
   ]
  },
  {
   "cell_type": "code",
   "execution_count": 23,
   "metadata": {},
   "outputs": [],
   "source": [
    "model = VAE(input_dim=input_dim, h_dim=h_dim, z_dim=z_dim).to(device)"
   ]
  },
  {
   "cell_type": "code",
   "execution_count": 24,
   "metadata": {},
   "outputs": [],
   "source": [
    "optimizer = optim.Adam(model.parameters(), lr=learning_rate)"
   ]
  },
  {
   "cell_type": "code",
   "execution_count": 25,
   "metadata": {},
   "outputs": [],
   "source": [
    "loss_fn = nn.BCELoss(reduction=\"sum\")"
   ]
  },
  {
   "cell_type": "markdown",
   "metadata": {},
   "source": [
    "### Actual training loop"
   ]
  },
  {
   "cell_type": "code",
   "execution_count": 28,
   "metadata": {},
   "outputs": [
    {
     "name": "stderr",
     "output_type": "stream",
     "text": [
      "Epoch [1/10]: : 1875it [00:25, 72.44it/s, kl_div=781, loss=4.69e+3, reconstruction_loss=3.91e+3] \n",
      "Epoch [2/10]: : 1875it [00:24, 77.57it/s, kl_div=935, loss=4.71e+3, reconstruction_loss=3.78e+3]    \n",
      "Epoch [3/10]: : 1875it [00:27, 68.28it/s, kl_div=1.05e+3, loss=4.8e+3, reconstruction_loss=3.75e+3] \n",
      "Epoch [4/10]: : 1875it [00:26, 69.46it/s, kl_div=951, loss=4.38e+3, reconstruction_loss=3.43e+3]    \n",
      "Epoch [5/10]: : 1875it [00:26, 70.93it/s, kl_div=1.06e+3, loss=4.78e+3, reconstruction_loss=3.72e+3]\n",
      "Epoch [6/10]: : 1875it [00:27, 68.57it/s, kl_div=1.06e+3, loss=4.36e+3, reconstruction_loss=3.3e+3] \n",
      "Epoch [7/10]: : 1875it [00:27, 67.58it/s, kl_div=1.08e+3, loss=4.4e+3, reconstruction_loss=3.32e+3] \n",
      "Epoch [8/10]: : 1875it [00:26, 69.88it/s, kl_div=1.09e+3, loss=4.85e+3, reconstruction_loss=3.76e+3]\n",
      "Epoch [9/10]: : 1875it [00:26, 70.95it/s, kl_div=1.16e+3, loss=4.72e+3, reconstruction_loss=3.56e+3]\n",
      "Epoch [10/10]: : 1875it [00:25, 73.47it/s, kl_div=1.14e+3, loss=4.46e+3, reconstruction_loss=3.32e+3]\n"
     ]
    }
   ],
   "source": [
    "for epoch in range(num_epochs):\n",
    "    loop = tqdm(enumerate(train_loader))\n",
    "    for i, (x, _) in loop:\n",
    "        # forward pass\n",
    "        x = x.to(device).view(x.shape[0], input_dim)\n",
    "        x_reconstucted, mean, std = model(x)\n",
    "\n",
    "        # loss\n",
    "        reconstruction_loss = loss_fn(x_reconstucted, x)\n",
    "        kl_div = -torch.sum(1 + torch.log(std.pow(2)) - mean.pow(2) - std.pow(2))\n",
    "\n",
    "        # backpropagation\n",
    "        loss = reconstruction_loss + kl_div\n",
    "        optimizer.zero_grad()\n",
    "        loss.backward()\n",
    "        optimizer.step()\n",
    "\n",
    "        # update tqdm loop\n",
    "        loop.set_description(f\"Epoch [{epoch+1}/{num_epochs}]\")\n",
    "        loop.set_postfix(\n",
    "            loss=loss.item(),\n",
    "            reconstruction_loss=reconstruction_loss.item(),\n",
    "            kl_div=kl_div.item(),\n",
    "        )"
   ]
  },
  {
   "cell_type": "code",
   "execution_count": 29,
   "metadata": {},
   "outputs": [],
   "source": [
    "torch.save(model.state_dict(), \"vae.pth\")"
   ]
  },
  {
   "cell_type": "code",
   "execution_count": 34,
   "metadata": {},
   "outputs": [
    {
     "name": "stdout",
     "output_type": "stream",
     "text": [
      "<class 'collections.OrderedDict'>\n",
      "odict_keys(['img_2_hidden.weight', 'img_2_hidden.bias', 'hidden_2_mean.weight', 'hidden_2_mean.bias', 'hidden_2_std.weight', 'hidden_2_std.bias', 'z_2_hidden.weight', 'z_2_hidden.bias', 'hidden_2_img.weight', 'hidden_2_img.bias'])\n"
     ]
    }
   ],
   "source": [
    "# sanity check model load\n",
    "test_model = torch.load(\"vae.pth\")\n",
    "print(type(test_model))\n",
    "print(test_model.keys())"
   ]
  },
  {
   "cell_type": "markdown",
   "metadata": {},
   "source": [
    "## Evaluation"
   ]
  },
  {
   "cell_type": "code",
   "execution_count": 35,
   "metadata": {},
   "outputs": [
    {
     "data": {
      "text/plain": [
       "VAE(\n",
       "  (relu): ReLU(inplace=True)\n",
       "  (img_2_hidden): Linear(in_features=784, out_features=200, bias=True)\n",
       "  (hidden_2_mean): Linear(in_features=200, out_features=20, bias=True)\n",
       "  (hidden_2_std): Linear(in_features=200, out_features=20, bias=True)\n",
       "  (z_2_hidden): Linear(in_features=20, out_features=200, bias=True)\n",
       "  (hidden_2_img): Linear(in_features=200, out_features=784, bias=True)\n",
       ")"
      ]
     },
     "execution_count": 35,
     "metadata": {},
     "output_type": "execute_result"
    }
   ],
   "source": [
    "model.eval()"
   ]
  },
  {
   "cell_type": "code",
   "execution_count": 39,
   "metadata": {},
   "outputs": [],
   "source": [
    "def plot_reconstructed_image(model, x):\n",
    "    with torch.no_grad():\n",
    "        x_reconstructed, _, _ = model(x)\n",
    "        x_reconstructed = x_reconstructed.view(-1, 1, 28, 28)\n",
    "        save_image(x, \"real_image.jpg\")\n",
    "        save_image(x_reconstructed, \"reconstructed_image.jpg\")"
   ]
  },
  {
   "cell_type": "code",
   "execution_count": 40,
   "metadata": {},
   "outputs": [],
   "source": [
    "for x, _ in train_loader:\n",
    "    x = x.to(device).view(x.shape[0], input_dim)\n",
    "    plot_reconstructed_image(model, x)\n",
    "    break"
   ]
  },
  {
   "cell_type": "code",
   "execution_count": null,
   "metadata": {},
   "outputs": [],
   "source": []
  }
 ],
 "metadata": {
  "kernelspec": {
   "display_name": "venv",
   "language": "python",
   "name": "python3"
  },
  "language_info": {
   "codemirror_mode": {
    "name": "ipython",
    "version": 3
   },
   "file_extension": ".py",
   "mimetype": "text/x-python",
   "name": "python",
   "nbconvert_exporter": "python",
   "pygments_lexer": "ipython3",
   "version": "3.12.1"
  }
 },
 "nbformat": 4,
 "nbformat_minor": 2
}
