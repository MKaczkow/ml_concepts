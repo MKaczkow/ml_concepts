{
 "cells": [
  {
   "cell_type": "code",
   "execution_count": null,
   "metadata": {},
   "outputs": [],
   "source": [
    "import altair as alt\n",
    "from shapely import geometry\n",
    "import geopandas as gpd"
   ]
  },
  {
   "cell_type": "code",
   "execution_count": null,
   "metadata": {},
   "outputs": [],
   "source": [
    "sphere_data = alt.sphere()\n",
    "grat_data = alt.graticule(step=[15, 15])\n",
    "\n",
    "background = alt.Chart(sphere_data).mark_geoshape(fill=\"aliceblue\")\n",
    "lines = alt.Chart(grat_data).mark_geoshape(stroke=\"lightgrey\")\n",
    "\n",
    "alt.layer(background, lines).project(\"naturalEarth1\")"
   ]
  },
  {
   "cell_type": "code",
   "execution_count": null,
   "metadata": {},
   "outputs": [],
   "source": [
    "data_geoms = [\n",
    "    {\n",
    "        \"color\": \"#F3C14F\",\n",
    "        \"geometry\": geometry.Polygon([[1.45, 3.75], [1.45, 0], [0, 0], [1.45, 3.75]]),\n",
    "    },\n",
    "    {\n",
    "        \"color\": \"#4098D7\",\n",
    "        \"geometry\": geometry.Polygon(\n",
    "            [[1.45, 0], [1.45, 3.75], [2.57, 3.75], [2.57, 0], [2.33, 0], [1.45, 0]]\n",
    "        ),\n",
    "    },\n",
    "    {\n",
    "        \"color\": \"#66B4E2\",\n",
    "        \"geometry\": geometry.Polygon(\n",
    "            [\n",
    "                [2.33, 0],\n",
    "                [2.33, 2.5],\n",
    "                [3.47, 2.5],\n",
    "                [3.47, 0],\n",
    "                [3.2, 0],\n",
    "                [2.57, 0],\n",
    "                [2.33, 0],\n",
    "            ]\n",
    "        ),\n",
    "    },\n",
    "    {\n",
    "        \"color\": \"#A9CDE0\",\n",
    "        \"geometry\": geometry.Polygon(\n",
    "            [[3.2, 0], [3.2, 1.25], [4.32, 1.25], [4.32, 0], [3.47, 0], [3.2, 0]]\n",
    "        ),\n",
    "    },\n",
    "]\n",
    "\n",
    "gdf_geoms = gpd.GeoDataFrame(data_geoms)\n",
    "gdf_geoms"
   ]
  },
  {
   "cell_type": "code",
   "execution_count": null,
   "metadata": {},
   "outputs": [],
   "source": [
    "alt.Chart(gdf_geoms, title=\"Vega-Altair\").mark_geoshape().encode().project(\n",
    "    type=\"identity\", reflectY=True\n",
    ")"
   ]
  },
  {
   "cell_type": "code",
   "execution_count": null,
   "metadata": {},
   "outputs": [],
   "source": []
  }
 ],
 "metadata": {
  "kernelspec": {
   "display_name": "venv",
   "language": "python",
   "name": "python3"
  },
  "language_info": {
   "codemirror_mode": {
    "name": "ipython",
    "version": 3
   },
   "file_extension": ".py",
   "mimetype": "text/x-python",
   "name": "python",
   "nbconvert_exporter": "python",
   "pygments_lexer": "ipython3",
   "version": "3.10.3"
  },
  "orig_nbformat": 4
 },
 "nbformat": 4,
 "nbformat_minor": 2
}
