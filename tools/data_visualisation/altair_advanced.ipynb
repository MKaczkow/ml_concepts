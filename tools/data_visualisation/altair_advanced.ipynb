{
 "cells": [
  {
   "cell_type": "code",
   "execution_count": null,
   "metadata": {},
   "outputs": [],
   "source": [
    "import altair as alt\n",
    "from shapely import geometry\n",
    "import geopandas as gpd"
   ]
  },
  {
   "cell_type": "code",
   "execution_count": null,
   "metadata": {},
   "outputs": [],
   "source": [
    "sphere_data = alt.sphere()\n",
    "grat_data = alt.graticule(step=[15, 15])\n",
    "\n",
    "background = alt.Chart(sphere_data).mark_geoshape(fill='aliceblue')\n",
    "lines = alt.Chart(grat_data).mark_geoshape(stroke='lightgrey')\n",
    "\n",
    "alt.layer(background, lines).project('naturalEarth1')"
   ]
  },
  {
   "cell_type": "code",
   "execution_count": null,
   "metadata": {},
   "outputs": [],
   "source": [
    "data_geoms = [\n",
    "    {\"color\": \"#F3C14F\", \"geometry\": geometry.Polygon([[1.45, 3.75], [1.45, 0], [0, 0], [1.45, 3.75]])},\n",
    "    {\"color\": \"#4098D7\", \"geometry\": geometry.Polygon([[1.45, 0], [1.45, 3.75], [2.57, 3.75], [2.57, 0], [2.33, 0], [1.45, 0]])},\n",
    "    {\"color\": \"#66B4E2\", \"geometry\": geometry.Polygon([[2.33, 0], [2.33, 2.5], [3.47, 2.5], [3.47, 0], [3.2, 0], [2.57, 0], [2.33, 0]])},\n",
    "    {\"color\": \"#A9CDE0\", \"geometry\": geometry.Polygon([[3.2, 0], [3.2, 1.25], [4.32, 1.25], [4.32, 0], [3.47, 0], [3.2, 0]])},\n",
    "]\n",
    "\n",
    "gdf_geoms = gpd.GeoDataFrame(data_geoms)\n",
    "gdf_geoms"
   ]
  },
  {
   "cell_type": "code",
   "execution_count": null,
   "metadata": {},
   "outputs": [],
   "source": [
    "alt.Chart(gdf_geoms, title=\"Vega-Altair\").mark_geoshape(\n",
    ").encode().project(type=\"identity\", reflectY=True)"
   ]
  },
  {
   "cell_type": "code",
   "execution_count": null,
   "metadata": {},
   "outputs": [],
   "source": []
  }
 ],
 "metadata": {
  "kernelspec": {
   "display_name": "venv",
   "language": "python",
   "name": "python3"
  },
  "language_info": {
   "codemirror_mode": {
    "name": "ipython",
    "version": 3
   },
   "file_extension": ".py",
   "mimetype": "text/x-python",
   "name": "python",
   "nbconvert_exporter": "python",
   "pygments_lexer": "ipython3",
   "version": "3.10.3"
  },
  "orig_nbformat": 4
 },
 "nbformat": 4,
 "nbformat_minor": 2
}
