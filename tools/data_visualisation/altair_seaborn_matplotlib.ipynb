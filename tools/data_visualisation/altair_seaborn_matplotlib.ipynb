{
 "cells": [
  {
   "cell_type": "code",
   "execution_count": null,
   "metadata": {},
   "outputs": [],
   "source": [
    "import altair as alt\n",
    "alt.__version__"
   ]
  },
  {
   "cell_type": "code",
   "execution_count": null,
   "metadata": {},
   "outputs": [],
   "source": [
    "# import altair with an abbreviated alias\n",
    "import altair as alt\n",
    "\n",
    "# load a sample dataset as a pandas DataFrame\n",
    "from vega_datasets import data\n",
    "cars = data.cars()\n",
    "\n",
    "# make the chart\n",
    "alt.Chart(cars).mark_point().encode(\n",
    "    x='Horsepower',\n",
    "    y='Miles_per_Gallon',\n",
    "    color='Origin',\n",
    ").interactive()"
   ]
  },
  {
   "cell_type": "code",
   "execution_count": null,
   "metadata": {},
   "outputs": [],
   "source": [
    "import seaborn as sns\n",
    "import matplotlib.pyplot as plt\n",
    "\n",
    "# load a sample dataset as a pandas DataFrame\n",
    "from vega_datasets import data\n",
    "cars = data.cars()\n",
    "\n",
    "# create a scatterplot using Seaborn\n",
    "plt.figure(figsize=(10, 6))  # optional, set the figure size\n",
    "sns.scatterplot(data=cars, x='Horsepower', y='Miles_per_Gallon', hue='Origin')\n",
    "plt.title('Scatterplot of Horsepower vs Miles per Gallon')\n",
    "plt.xlabel('Horsepower')\n",
    "plt.ylabel('Miles per Gallon')\n",
    "plt.legend(title='Origin')\n",
    "plt.grid(True)\n",
    "plt.show()\n"
   ]
  },
  {
   "cell_type": "code",
   "execution_count": null,
   "metadata": {},
   "outputs": [],
   "source": [
    "import matplotlib.pyplot as plt\n",
    "\n",
    "# load a sample dataset as a pandas DataFrame\n",
    "from vega_datasets import data\n",
    "cars = data.cars()\n",
    "\n",
    "# Create a dictionary to map origins to colors\n",
    "origin_colors = {'Europe': 'blue', 'Japan': 'green', 'USA': 'red'}\n",
    "\n",
    "# Map the 'Origin' column to colors\n",
    "colors = cars['Origin'].map(origin_colors)\n",
    "\n",
    "# create a scatterplot using Matplotlib\n",
    "plt.figure(figsize=(10, 6))  # optional, set the figure size\n",
    "plt.scatter(cars['Horsepower'], cars['Miles_per_Gallon'], c=colors)\n",
    "plt.title('Scatterplot of Horsepower vs Miles per Gallon')\n",
    "plt.xlabel('Horsepower')\n",
    "plt.ylabel('Miles per Gallon')\n",
    "\n",
    "# Create custom legend\n",
    "for origin, color in origin_colors.items():\n",
    "    plt.scatter([], [], label=origin, color=color)\n",
    "\n",
    "plt.legend(title='Origin')\n",
    "plt.grid(True)\n",
    "plt.show()\n"
   ]
  },
  {
   "cell_type": "markdown",
   "metadata": {},
   "source": [
    "## Other \n",
    "Cool feature - ability to publish visualisation (saved as html) to the web, and embed in a website (`Vega-Embed` JS package)"
   ]
  },
  {
   "cell_type": "markdown",
   "metadata": {},
   "source": [
    "## Compare with different visualisation libraries\n",
    "https://altair-viz.github.io/getting_started/project_philosophy.html\n",
    "https://stackoverflow.com/questions/59845407/plotly-express-vs-altair-vega-lite-for-interactive-plots/66040502#66040502  \n",
    "\n",
    "### Altair pros\n",
    "+ declarative\n",
    "+ high-level (almost no burden of declaring specifics)\n",
    "\n",
    "### Altair cons\n",
    "- yet another vis library"
   ]
  },
  {
   "cell_type": "code",
   "execution_count": null,
   "metadata": {},
   "outputs": [],
   "source": []
  }
 ],
 "metadata": {
  "kernelspec": {
   "display_name": "Python 3",
   "language": "python",
   "name": "python3"
  },
  "language_info": {
   "codemirror_mode": {
    "name": "ipython",
    "version": 3
   },
   "file_extension": ".py",
   "mimetype": "text/x-python",
   "name": "python",
   "nbconvert_exporter": "python",
   "pygments_lexer": "ipython3",
   "version": "3.10.3"
  },
  "orig_nbformat": 4,
  "vscode": {
   "interpreter": {
    "hash": "82b3d9c33a00c8eb6e6d8c4c95ba207a84998d1fbb9c588cae47f7985e6a797d"
   }
  }
 },
 "nbformat": 4,
 "nbformat_minor": 2
}
