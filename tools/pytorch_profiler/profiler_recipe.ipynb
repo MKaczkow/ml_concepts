{
 "cells": [
  {
   "cell_type": "code",
   "execution_count": 1,
   "metadata": {
    "collapsed": false
   },
   "outputs": [],
   "source": [
    "# For tips on running notebooks in Google Colab, see\n",
    "# https://pytorch.org/tutorials/beginner/colab\n",
    "%matplotlib inline"
   ]
  },
  {
   "cell_type": "markdown",
   "metadata": {},
   "source": [
    "PyTorch Profiler\n",
    "================\n",
    "\n",
    "This recipe explains how to use PyTorch profiler and measure the time\n",
    "and memory consumption of the model\\'s operators.\n",
    "\n",
    "Introduction\n",
    "------------\n",
    "\n",
    "PyTorch includes a simple profiler API that is useful when user needs to\n",
    "determine the most expensive operators in the model.\n",
    "\n",
    "In this recipe, we will use a simple Resnet model to demonstrate how to\n",
    "use profiler to analyze model performance.\n",
    "\n",
    "Setup\n",
    "-----\n",
    "\n",
    "To install `torch` and `torchvision` use the following command:\n",
    "\n",
    "``` {.sh}\n",
    "pip install torch torchvision\n",
    "```\n"
   ]
  },
  {
   "cell_type": "code",
   "execution_count": null,
   "metadata": {
    "collapsed": false
   },
   "outputs": [],
   "source": [
    "import torch\n",
    "import torchvision.models as models\n",
    "from torch.profiler import profile, record_function, ProfilerActivity"
   ]
  },
  {
   "cell_type": "markdown",
   "metadata": {},
   "source": [
    "2. Instantiate a simple Resnet model\n",
    "====================================\n",
    "\n",
    "Let\\'s create an instance of a Resnet model and prepare an input for it:\n"
   ]
  },
  {
   "cell_type": "code",
   "execution_count": 3,
   "metadata": {
    "collapsed": false
   },
   "outputs": [],
   "source": [
    "model = models.resnet18()\n",
    "inputs = torch.randn(5, 3, 224, 224)"
   ]
  },
  {
   "cell_type": "markdown",
   "metadata": {},
   "source": [
    "3. Using profiler to analyze execution time\n",
    "===========================================\n",
    "\n",
    "PyTorch profiler is enabled through the context manager and accepts a\n",
    "number of parameters, some of the most useful are:\n",
    "\n",
    "-   \n",
    "\n",
    "    `activities` - a list of activities to profile:\n",
    "\n",
    "    :   -   `ProfilerActivity.CPU` - PyTorch operators, TorchScript\n",
    "            functions and user-defined code labels (see\n",
    "            `record_function` below);\n",
    "        -   `ProfilerActivity.CUDA` - on-device CUDA kernels;\n",
    "        -   `ProfilerActivity.XPU` - on-device XPU kernels;\n",
    "\n",
    "-   `record_shapes` - whether to record shapes of the operator inputs;\n",
    "\n",
    "-   `profile_memory` - whether to report amount of memory consumed by\n",
    "    model\\'s Tensors;\n",
    "\n",
    "Note: when using CUDA, profiler also shows the runtime CUDA events\n",
    "occurring on the host.\n"
   ]
  },
  {
   "cell_type": "markdown",
   "metadata": {},
   "source": [
    "Let\\'s see how we can use profiler to analyze the execution time:\n"
   ]
  },
  {
   "cell_type": "code",
   "execution_count": 4,
   "metadata": {
    "collapsed": false
   },
   "outputs": [],
   "source": [
    "with profile(activities=[ProfilerActivity.CPU], record_shapes=True) as prof:\n",
    "    with record_function(\"model_inference\"):\n",
    "        model(inputs)"
   ]
  },
  {
   "cell_type": "markdown",
   "metadata": {},
   "source": [
    "Note that we can use `record_function` context manager to label\n",
    "arbitrary code ranges with user provided names (`model_inference` is\n",
    "used as a label in the example above).\n",
    "\n",
    "Profiler allows one to check which operators were called during the\n",
    "execution of a code range wrapped with a profiler context manager. If\n",
    "multiple profiler ranges are active at the same time (e.g. in parallel\n",
    "PyTorch threads), each profiling context manager tracks only the\n",
    "operators of its corresponding range. Profiler also automatically\n",
    "profiles the asynchronous tasks launched with `torch.jit._fork` and (in\n",
    "case of a backward pass) the backward pass operators launched with\n",
    "`backward()` call.\n",
    "\n",
    "Let\\'s print out the stats for the execution above:\n"
   ]
  },
  {
   "cell_type": "code",
   "execution_count": 5,
   "metadata": {
    "collapsed": false
   },
   "outputs": [
    {
     "name": "stdout",
     "output_type": "stream",
     "text": [
      "---------------------------------  ------------  ------------  ------------  ------------  ------------  ------------  \n",
      "                             Name    Self CPU %      Self CPU   CPU total %     CPU total  CPU time avg    # of Calls  \n",
      "---------------------------------  ------------  ------------  ------------  ------------  ------------  ------------  \n",
      "                  model_inference         7.40%      11.516ms       100.00%     155.638ms     155.638ms             1  \n",
      "                     aten::conv2d         1.16%       1.811ms        57.65%      89.725ms       4.486ms            20  \n",
      "                aten::convolution         2.33%       3.620ms        56.49%      87.914ms       4.396ms            20  \n",
      "               aten::_convolution         0.44%     679.000us        54.16%      84.294ms       4.215ms            20  \n",
      "         aten::mkldnn_convolution        52.62%      81.892ms        53.72%      83.615ms       4.181ms            20  \n",
      "                 aten::batch_norm         0.50%     774.000us         8.83%      13.737ms     686.850us            20  \n",
      "                 aten::max_pool2d         0.24%     370.000us         8.61%      13.394ms      13.394ms             1  \n",
      "    aten::max_pool2d_with_indices         8.37%      13.024ms         8.37%      13.024ms      13.024ms             1  \n",
      "     aten::_batch_norm_impl_index         0.75%       1.170ms         8.19%      12.744ms     637.200us            20  \n",
      "          aten::native_batch_norm         7.31%      11.370ms         7.57%      11.778ms     588.900us            20  \n",
      "---------------------------------  ------------  ------------  ------------  ------------  ------------  ------------  \n",
      "Self CPU time total: 155.638ms\n",
      "\n"
     ]
    }
   ],
   "source": [
    "print(prof.key_averages().table(sort_by=\"cpu_time_total\", row_limit=10))"
   ]
  },
  {
   "cell_type": "markdown",
   "metadata": {},
   "source": [
    "The output will look like (omitting some columns):\n"
   ]
  },
  {
   "cell_type": "code",
   "execution_count": null,
   "metadata": {
    "collapsed": false
   },
   "outputs": [],
   "source": [
    "# ---------------------------------  ------------  ------------  ------------  ------------\n",
    "#                              Name      Self CPU     CPU total  CPU time avg    # of Calls\n",
    "# ---------------------------------  ------------  ------------  ------------  ------------\n",
    "#                   model_inference       5.509ms      57.503ms      57.503ms             1\n",
    "#                      aten::conv2d     231.000us      31.931ms       1.597ms            20\n",
    "#                 aten::convolution     250.000us      31.700ms       1.585ms            20\n",
    "#                aten::_convolution     336.000us      31.450ms       1.573ms            20\n",
    "#          aten::mkldnn_convolution      30.838ms      31.114ms       1.556ms            20\n",
    "#                  aten::batch_norm     211.000us      14.693ms     734.650us            20\n",
    "#      aten::_batch_norm_impl_index     319.000us      14.482ms     724.100us            20\n",
    "#           aten::native_batch_norm       9.229ms      14.109ms     705.450us            20\n",
    "#                        aten::mean     332.000us       2.631ms     125.286us            21\n",
    "#                      aten::select       1.668ms       2.292ms       8.988us           255\n",
    "# ---------------------------------  ------------  ------------  ------------  ------------\n",
    "# Self CPU time total: 57.549m\n",
    "#"
   ]
  },
  {
   "cell_type": "markdown",
   "metadata": {},
   "source": [
    "Here we see that, as expected, most of the time is spent in convolution\n",
    "(and specifically in `mkldnn_convolution` for PyTorch compiled with\n",
    "`MKL-DNN` support). Note the difference between self cpu time and cpu\n",
    "time - operators can call other operators, self cpu time excludes time\n",
    "spent in children operator calls, while total cpu time includes it. You\n",
    "can choose to sort by the self cpu time by passing\n",
    "`sort_by=\"self_cpu_time_total\"` into the `table` call.\n",
    "\n",
    "To get a finer granularity of results and include operator input shapes,\n",
    "pass `group_by_input_shape=True` (note: this requires running the\n",
    "profiler with `record_shapes=True`):\n"
   ]
  },
  {
   "cell_type": "code",
   "execution_count": 6,
   "metadata": {
    "collapsed": false
   },
   "outputs": [
    {
     "name": "stdout",
     "output_type": "stream",
     "text": [
      "---------------------------------  ------------  ------------  ------------  ------------  ------------  ------------  --------------------------------------------------------------------------------  \n",
      "                             Name    Self CPU %      Self CPU   CPU total %     CPU total  CPU time avg    # of Calls                                                                      Input Shapes  \n",
      "---------------------------------  ------------  ------------  ------------  ------------  ------------  ------------  --------------------------------------------------------------------------------  \n",
      "                  model_inference         7.40%      11.516ms       100.00%     155.638ms     155.638ms             1                                                                                []  \n",
      "                     aten::conv2d         1.11%       1.721ms        25.29%      39.360ms      39.360ms             1                             [[5, 3, 224, 224], [64, 3, 7, 7], [], [], [], [], []]  \n",
      "                aten::convolution         2.19%       3.410ms        24.18%      37.639ms      37.639ms             1                     [[5, 3, 224, 224], [64, 3, 7, 7], [], [], [], [], [], [], []]  \n",
      "               aten::_convolution         0.35%     543.000us        21.99%      34.229ms      34.229ms             1     [[5, 3, 224, 224], [64, 3, 7, 7], [], [], [], [], [], [], [], [], [], [], []]  \n",
      "         aten::mkldnn_convolution        20.62%      32.097ms        21.64%      33.686ms      33.686ms             1                             [[5, 3, 224, 224], [64, 3, 7, 7], [], [], [], [], []]  \n",
      "                     aten::conv2d         0.02%      24.000us         8.73%      13.582ms       3.396ms             4                             [[5, 64, 56, 56], [64, 64, 3, 3], [], [], [], [], []]  \n",
      "                aten::convolution         0.03%      51.000us         8.71%      13.558ms       3.389ms             4                     [[5, 64, 56, 56], [64, 64, 3, 3], [], [], [], [], [], [], []]  \n",
      "               aten::_convolution         0.02%      38.000us         8.68%      13.507ms       3.377ms             4     [[5, 64, 56, 56], [64, 64, 3, 3], [], [], [], [], [], [], [], [], [], [], []]  \n",
      "         aten::mkldnn_convolution         8.63%      13.435ms         8.65%      13.469ms       3.367ms             4                             [[5, 64, 56, 56], [64, 64, 3, 3], [], [], [], [], []]  \n",
      "                 aten::max_pool2d         0.24%     370.000us         8.61%      13.394ms      13.394ms             1                                           [[5, 64, 112, 112], [], [], [], [], []]  \n",
      "---------------------------------  ------------  ------------  ------------  ------------  ------------  ------------  --------------------------------------------------------------------------------  \n",
      "Self CPU time total: 155.638ms\n",
      "\n"
     ]
    }
   ],
   "source": [
    "print(prof.key_averages(group_by_input_shape=True).table(sort_by=\"cpu_time_total\", row_limit=10))"
   ]
  },
  {
   "cell_type": "markdown",
   "metadata": {},
   "source": [
    "The output might look like this (omitting some columns):\n",
    "\n",
    "``` {.sh}\n",
    "---------------------------------  ------------  -------------------------------------------\n",
    "                             Name     CPU total                                 Input Shapes\n",
    "---------------------------------  ------------  -------------------------------------------\n",
    "                  model_inference      57.503ms                                           []\n",
    "                     aten::conv2d       8.008ms      [5,64,56,56], [64,64,3,3], [], ..., []]\n",
    "                aten::convolution       7.956ms     [[5,64,56,56], [64,64,3,3], [], ..., []]\n",
    "               aten::_convolution       7.909ms     [[5,64,56,56], [64,64,3,3], [], ..., []]\n",
    "         aten::mkldnn_convolution       7.834ms     [[5,64,56,56], [64,64,3,3], [], ..., []]\n",
    "                     aten::conv2d       6.332ms    [[5,512,7,7], [512,512,3,3], [], ..., []]\n",
    "                aten::convolution       6.303ms    [[5,512,7,7], [512,512,3,3], [], ..., []]\n",
    "               aten::_convolution       6.273ms    [[5,512,7,7], [512,512,3,3], [], ..., []]\n",
    "         aten::mkldnn_convolution       6.233ms    [[5,512,7,7], [512,512,3,3], [], ..., []]\n",
    "                     aten::conv2d       4.751ms  [[5,256,14,14], [256,256,3,3], [], ..., []]\n",
    "---------------------------------  ------------  -------------------------------------------\n",
    "Self CPU time total: 57.549ms\n",
    "```\n"
   ]
  },
  {
   "cell_type": "markdown",
   "metadata": {},
   "source": [
    "Note the occurrence of `aten::convolution` twice with different input\n",
    "shapes.\n"
   ]
  },
  {
   "cell_type": "markdown",
   "metadata": {},
   "source": [
    "Profiler can also be used to analyze performance of models executed on\n",
    "GPUs and XPUs: Users could switch between cpu, cuda and xpu\n"
   ]
  },
  {
   "cell_type": "code",
   "execution_count": 8,
   "metadata": {
    "collapsed": false
   },
   "outputs": [
    {
     "name": "stdout",
     "output_type": "stream",
     "text": [
      "---------------------------------  ------------  ------------  ------------  ------------  ------------  ------------  ------------  ------------  ------------  ------------  \n",
      "                             Name    Self CPU %      Self CPU   CPU total %     CPU total  CPU time avg     Self CUDA   Self CUDA %    CUDA total  CUDA time avg    # of Calls  \n",
      "---------------------------------  ------------  ------------  ------------  ------------  ------------  ------------  ------------  ------------  ------------  ------------  \n",
      "                  model_inference        31.64%       1.599ms       100.00%       5.053ms       5.053ms     315.000us         0.17%     184.015ms     184.015ms             1  \n",
      "                     aten::conv2d         2.26%     114.000us        27.37%       1.383ms      69.150us     137.000us         0.07%     148.705ms       7.435ms            20  \n",
      "                aten::convolution         4.51%     228.000us        25.11%       1.269ms      63.450us     137.000us         0.07%     148.568ms       7.428ms            20  \n",
      "               aten::_convolution         3.58%     181.000us        20.60%       1.041ms      52.050us     135.000us         0.07%     148.431ms       7.422ms            20  \n",
      "          aten::cudnn_convolution        17.02%     860.000us        17.02%     860.000us      43.000us     148.296ms        80.59%     148.296ms       7.415ms            20  \n",
      "                      aten::relu_         3.13%     158.000us         5.64%     285.000us      16.765us       1.562ms         0.85%      13.025ms     766.176us            17  \n",
      "                 aten::clamp_min_         2.51%     127.000us         2.51%     127.000us       7.471us      11.463ms         6.23%      11.463ms     674.294us            17  \n",
      "                       aten::add_         4.73%     239.000us         4.73%     239.000us       8.536us      11.194ms         6.08%      11.194ms     399.786us            28  \n",
      "                 aten::batch_norm         2.24%     113.000us        27.81%       1.405ms      70.250us     137.000us         0.07%       9.315ms     465.750us            20  \n",
      "     aten::_batch_norm_impl_index         2.28%     115.000us        25.57%       1.292ms      64.600us     126.000us         0.07%       9.178ms     458.900us            20  \n",
      "---------------------------------  ------------  ------------  ------------  ------------  ------------  ------------  ------------  ------------  ------------  ------------  \n",
      "Self CPU time total: 5.053ms\n",
      "Self CUDA time total: 184.015ms\n",
      "\n"
     ]
    }
   ],
   "source": [
    "if torch.cuda.is_available():\n",
    "    device = 'cuda'\n",
    "else:\n",
    "    print('CUDA devices are available to demonstrate profiling on acceleration devices')\n",
    "    import sys\n",
    "    sys.exit(0)\n",
    "\n",
    "activities = [ProfilerActivity.CPU, ProfilerActivity.CUDA]\n",
    "sort_by_keyword = device + \"_time_total\"\n",
    "\n",
    "model = models.resnet18().to(device)\n",
    "inputs = torch.randn(5, 3, 224, 224).to(device)\n",
    "\n",
    "with profile(activities=activities, record_shapes=True) as prof:\n",
    "    with record_function(\"model_inference\"):\n",
    "        model(inputs)\n",
    "\n",
    "print(prof.key_averages().table(sort_by=sort_by_keyword, row_limit=10))"
   ]
  },
  {
   "cell_type": "markdown",
   "metadata": {},
   "source": [
    "(Note: the first use of CUDA profiling may bring an extra overhead.)\n"
   ]
  },
  {
   "cell_type": "markdown",
   "metadata": {},
   "source": [
    "The resulting table output (omitting some columns):\n",
    "\n",
    "> ``` {.sh}\n",
    "> -------------------------------------------------------  ------------  ------------\n",
    ">                                                    Name     Self CUDA    CUDA total\n",
    "> -------------------------------------------------------  ------------  ------------\n",
    ">                                         model_inference       0.000us      11.666ms\n",
    ">                                            aten::conv2d       0.000us      10.484ms\n",
    ">                                       aten::convolution       0.000us      10.484ms\n",
    ">                                      aten::_convolution       0.000us      10.484ms\n",
    ">                              aten::_convolution_nogroup       0.000us      10.484ms\n",
    ">                                       aten::thnn_conv2d       0.000us      10.484ms\n",
    ">                               aten::thnn_conv2d_forward      10.484ms      10.484ms\n",
    "> void at::native::im2col_kernel<float>(long, float co...       3.844ms       3.844ms\n",
    ">                                       sgemm_32x32x32_NN       3.206ms       3.206ms\n",
    ">                                   sgemm_32x32x32_NN_vec       3.093ms       3.093ms\n",
    "> -------------------------------------------------------  ------------  ------------\n",
    "> Self CPU time total: 23.015ms\n",
    "> Self CUDA time total: 11.666ms\n",
    "> ```\n",
    "\n",
    "------------------------------------------------------------------------\n"
   ]
  },
  {
   "cell_type": "markdown",
   "metadata": {},
   "source": [
    "Note the occurrence of on-device kernels in the output (e.g.\n",
    "`sgemm_32x32x32_NN`).\n"
   ]
  },
  {
   "cell_type": "markdown",
   "metadata": {},
   "source": [
    "4. Using profiler to analyze memory consumption\n",
    "===============================================\n",
    "\n",
    "PyTorch profiler can also show the amount of memory (used by the\n",
    "model\\'s tensors) that was allocated (or released) during the execution\n",
    "of the model\\'s operators. In the output below, \\'self\\' memory\n",
    "corresponds to the memory allocated (released) by the operator,\n",
    "excluding the children calls to the other operators. To enable memory\n",
    "profiling functionality pass `profile_memory=True`.\n"
   ]
  },
  {
   "cell_type": "code",
   "execution_count": 9,
   "metadata": {
    "collapsed": false
   },
   "outputs": [
    {
     "name": "stdout",
     "output_type": "stream",
     "text": [
      "---------------------------------  ------------  ------------  ------------  ------------  ------------  ------------  ------------  ------------  ------------  ------------  ------------  ------------  \n",
      "                             Name    Self CPU %      Self CPU   CPU total %     CPU total  CPU time avg     Self CUDA   Self CUDA %    CUDA total  CUDA time avg       CPU Mem  Self CPU Mem    # of Calls  \n",
      "---------------------------------  ------------  ------------  ------------  ------------  ------------  ------------  ------------  ------------  ------------  ------------  ------------  ------------  \n",
      "                      aten::empty         0.45%     313.000us         0.45%     313.000us       1.565us      12.785ms        72.63%      12.785ms      63.925us      92.92 Mb      92.92 Mb           200  \n",
      "    aten::max_pool2d_with_indices        14.03%       9.710ms        14.03%       9.710ms       9.710ms       3.000us         0.02%       3.000us       3.000us      11.48 Mb      11.48 Mb             1  \n",
      "                 aten::empty_like         0.16%     112.000us         0.28%     193.000us       9.650us     131.000us         0.74%     196.000us       9.800us      47.37 Mb       1.91 Mb            20  \n",
      "                      aten::addmm         0.20%     136.000us         0.22%     152.000us     152.000us      17.000us         0.10%      36.000us      36.000us      19.53 Kb      19.53 Kb             1  \n",
      "                       aten::mean         0.04%      25.000us         0.15%     107.000us     107.000us      16.000us         0.09%      55.000us      55.000us      10.00 Kb      10.00 Kb             1  \n",
      "              aten::empty_strided         0.00%       2.000us         0.00%       2.000us       2.000us       3.000us         0.02%       3.000us       3.000us           4 b           4 b             1  \n",
      "                     aten::conv2d         0.27%     188.000us        70.66%      48.896ms       2.445ms     145.000us         0.82%       1.970ms      98.500us      47.37 Mb           0 b            20  \n",
      "                aten::convolution         0.46%     316.000us        70.39%      48.708ms       2.435ms     148.000us         0.84%       1.825ms      91.250us      47.37 Mb           0 b            20  \n",
      "               aten::_convolution         0.39%     270.000us        69.93%      48.392ms       2.420ms     134.000us         0.76%       1.677ms      83.850us      47.37 Mb           0 b            20  \n",
      "         aten::mkldnn_convolution        69.26%      47.930ms        69.54%      48.122ms       2.406ms       1.284ms         7.29%       1.543ms      77.150us      47.37 Mb           0 b            20  \n",
      "---------------------------------  ------------  ------------  ------------  ------------  ------------  ------------  ------------  ------------  ------------  ------------  ------------  ------------  \n",
      "Self CPU time total: 69.201ms\n",
      "Self CUDA time total: 17.603ms\n",
      "\n",
      "---------------------------------  ------------  ------------  ------------  ------------  ------------  ------------  ------------  ------------  ------------  ------------  ------------  ------------  \n",
      "                             Name    Self CPU %      Self CPU   CPU total %     CPU total  CPU time avg     Self CUDA   Self CUDA %    CUDA total  CUDA time avg       CPU Mem  Self CPU Mem    # of Calls  \n",
      "---------------------------------  ------------  ------------  ------------  ------------  ------------  ------------  ------------  ------------  ------------  ------------  ------------  ------------  \n",
      "                      aten::empty         0.45%     313.000us         0.45%     313.000us       1.565us      12.785ms        72.63%      12.785ms      63.925us      92.92 Mb      92.92 Mb           200  \n",
      "                 aten::batch_norm         0.20%     135.000us        11.78%       8.151ms     407.550us     133.000us         0.76%      14.792ms     739.600us      47.41 Mb           0 b            20  \n",
      "     aten::_batch_norm_impl_index         0.39%     271.000us        11.58%       8.016ms     400.800us     733.000us         4.16%      14.659ms     732.950us      47.41 Mb           0 b            20  \n",
      "          aten::native_batch_norm        10.77%       7.450ms        11.16%       7.725ms     386.250us       1.141ms         6.48%      13.855ms     692.750us      47.41 Mb     -53.75 Kb            20  \n",
      "                     aten::conv2d         0.27%     188.000us        70.66%      48.896ms       2.445ms     145.000us         0.82%       1.970ms      98.500us      47.37 Mb           0 b            20  \n",
      "                aten::convolution         0.46%     316.000us        70.39%      48.708ms       2.435ms     148.000us         0.84%       1.825ms      91.250us      47.37 Mb           0 b            20  \n",
      "               aten::_convolution         0.39%     270.000us        69.93%      48.392ms       2.420ms     134.000us         0.76%       1.677ms      83.850us      47.37 Mb           0 b            20  \n",
      "         aten::mkldnn_convolution        69.26%      47.930ms        69.54%      48.122ms       2.406ms       1.284ms         7.29%       1.543ms      77.150us      47.37 Mb           0 b            20  \n",
      "                 aten::empty_like         0.16%     112.000us         0.28%     193.000us       9.650us     131.000us         0.74%     196.000us       9.800us      47.37 Mb       1.91 Mb            20  \n",
      "                 aten::max_pool2d         0.05%      36.000us        14.08%       9.746ms       9.746ms       6.000us         0.03%       9.000us       9.000us      11.48 Mb           0 b             1  \n",
      "---------------------------------  ------------  ------------  ------------  ------------  ------------  ------------  ------------  ------------  ------------  ------------  ------------  ------------  \n",
      "Self CPU time total: 69.201ms\n",
      "Self CUDA time total: 17.603ms\n",
      "\n"
     ]
    }
   ],
   "source": [
    "model = models.resnet18()\n",
    "inputs = torch.randn(5, 3, 224, 224)\n",
    "\n",
    "with profile(activities=[ProfilerActivity.CPU, ProfilerActivity.CUDA],\n",
    "        profile_memory=True, record_shapes=True) as prof:\n",
    "    model(inputs)\n",
    "\n",
    "print(prof.key_averages().table(sort_by=\"self_cpu_memory_usage\", row_limit=10))\n",
    "\n",
    "# (omitting some columns)\n",
    "# ---------------------------------  ------------  ------------  ------------\n",
    "#                              Name       CPU Mem  Self CPU Mem    # of Calls\n",
    "# ---------------------------------  ------------  ------------  ------------\n",
    "#                       aten::empty      94.79 Mb      94.79 Mb           121\n",
    "#     aten::max_pool2d_with_indices      11.48 Mb      11.48 Mb             1\n",
    "#                       aten::addmm      19.53 Kb      19.53 Kb             1\n",
    "#               aten::empty_strided         572 b         572 b            25\n",
    "#                     aten::resize_         240 b         240 b             6\n",
    "#                         aten::abs         480 b         240 b             4\n",
    "#                         aten::add         160 b         160 b            20\n",
    "#               aten::masked_select         120 b         112 b             1\n",
    "#                          aten::ne         122 b          53 b             6\n",
    "#                          aten::eq          60 b          30 b             2\n",
    "# ---------------------------------  ------------  ------------  ------------\n",
    "# Self CPU time total: 53.064ms\n",
    "\n",
    "print(prof.key_averages().table(sort_by=\"cpu_memory_usage\", row_limit=10))"
   ]
  },
  {
   "cell_type": "markdown",
   "metadata": {},
   "source": [
    "5. Using tracing functionality\n",
    "==============================\n",
    "\n",
    "Profiling results can be outputted as a `.json` trace file: Tracing CUDA\n",
    "or XPU kernels Users could switch between cpu, cuda and xpu\n"
   ]
  },
  {
   "cell_type": "code",
   "execution_count": 10,
   "metadata": {
    "collapsed": false
   },
   "outputs": [],
   "source": [
    "device = 'cuda'\n",
    "\n",
    "activities = [ProfilerActivity.CPU, ProfilerActivity.CUDA]\n",
    "\n",
    "model = models.resnet18().to(device)\n",
    "inputs = torch.randn(5, 3, 224, 224).to(device)\n",
    "\n",
    "with profile(activities=activities) as prof:\n",
    "    model(inputs)\n",
    "\n",
    "prof.export_chrome_trace(\"trace.json\")"
   ]
  },
  {
   "cell_type": "markdown",
   "metadata": {},
   "source": [
    "You can examine the sequence of profiled operators and CUDA/XPU kernels\n",
    "in Chrome trace viewer (`chrome://tracing`):\n",
    "\n",
    "![image](https://pytorch.org/tutorials/_static/img/trace_img.png)\n"
   ]
  },
  {
   "cell_type": "markdown",
   "metadata": {},
   "source": [
    "6. Examining stack traces\n",
    "=========================\n",
    "\n",
    "Profiler can be used to analyze Python and TorchScript stack traces:\n"
   ]
  },
  {
   "cell_type": "code",
   "execution_count": 11,
   "metadata": {
    "collapsed": false
   },
   "outputs": [
    {
     "name": "stdout",
     "output_type": "stream",
     "text": [
      "---------------------------------  ------------  ------------  ------------  ------------  ------------  ------------  ------------  ------------  ------------  ------------  \n",
      "                             Name    Self CPU %      Self CPU   CPU total %     CPU total  CPU time avg     Self CUDA   Self CUDA %    CUDA total  CUDA time avg    # of Calls  \n",
      "---------------------------------  ------------  ------------  ------------  ------------  ------------  ------------  ------------  ------------  ------------  ------------  \n",
      "                 aten::clamp_min_         4.87%     186.000us         4.87%     186.000us      10.941us     274.828ms        92.63%     274.828ms      16.166ms            17  \n",
      "          aten::cudnn_convolution        23.45%     896.000us        23.45%     896.000us      44.800us      13.522ms         4.56%      13.522ms     676.100us            20  \n",
      "---------------------------------  ------------  ------------  ------------  ------------  ------------  ------------  ------------  ------------  ------------  ------------  \n",
      "Self CPU time total: 3.821ms\n",
      "Self CUDA time total: 296.709ms\n",
      "\n"
     ]
    }
   ],
   "source": [
    "sort_by_keyword = \"self_\" + device + \"_time_total\"\n",
    "\n",
    "with profile(\n",
    "    activities=activities,\n",
    "    with_stack=True,\n",
    ") as prof:\n",
    "    model(inputs)\n",
    "\n",
    "# Print aggregated stats\n",
    "print(prof.key_averages(group_by_stack_n=5).table(sort_by=sort_by_keyword, row_limit=2))"
   ]
  },
  {
   "cell_type": "markdown",
   "metadata": {},
   "source": [
    "The output might look like this (omitting some columns):\n",
    "\n",
    "``` {.sh}\n",
    "-------------------------  -----------------------------------------------------------\n",
    "                     Name  Source Location\n",
    "-------------------------  -----------------------------------------------------------\n",
    "aten::thnn_conv2d_forward  .../torch/nn/modules/conv.py(439): _conv_forward\n",
    "                           .../torch/nn/modules/conv.py(443): forward\n",
    "                           .../torch/nn/modules/module.py(1051): _call_impl\n",
    "                           .../site-packages/torchvision/models/resnet.py(63): forward\n",
    "                           .../torch/nn/modules/module.py(1051): _call_impl\n",
    "aten::thnn_conv2d_forward  .../torch/nn/modules/conv.py(439): _conv_forward\n",
    "                           .../torch/nn/modules/conv.py(443): forward\n",
    "                           .../torch/nn/modules/module.py(1051): _call_impl\n",
    "                           .../site-packages/torchvision/models/resnet.py(59): forward\n",
    "                           .../torch/nn/modules/module.py(1051): _call_impl\n",
    "-------------------------  -----------------------------------------------------------\n",
    "Self CPU time total: 34.016ms\n",
    "Self CUDA time total: 11.659ms\n",
    "```\n"
   ]
  },
  {
   "cell_type": "markdown",
   "metadata": {},
   "source": [
    "Note the two convolutions and the two call sites in\n",
    "`torchvision/models/resnet.py` script.\n",
    "\n",
    "(Warning: stack tracing adds an extra profiling overhead.)\n"
   ]
  },
  {
   "cell_type": "markdown",
   "metadata": {},
   "source": [
    "7. Using profiler to analyze long-running jobs\n",
    "==============================================\n",
    "\n",
    "PyTorch profiler offers an additional API to handle long-running jobs\n",
    "(such as training loops). Tracing all of the execution can be slow and\n",
    "result in very large trace files. To avoid this, use optional arguments:\n",
    "\n",
    "-   `schedule` - specifies a function that takes an integer argument\n",
    "    (step number) as an input and returns an action for the profiler,\n",
    "    the best way to use this parameter is to use\n",
    "    `torch.profiler.schedule` helper function that can generate a\n",
    "    schedule for you;\n",
    "-   `on_trace_ready` - specifies a function that takes a reference to\n",
    "    the profiler as an input and is called by the profiler each time the\n",
    "    new trace is ready.\n",
    "\n",
    "To illustrate how the API works, let\\'s first consider the following\n",
    "example with `torch.profiler.schedule` helper function:\n"
   ]
  },
  {
   "cell_type": "code",
   "execution_count": 12,
   "metadata": {
    "collapsed": false
   },
   "outputs": [],
   "source": [
    "from torch.profiler import schedule\n",
    "\n",
    "my_schedule = schedule(\n",
    "    skip_first=10,\n",
    "    wait=5,\n",
    "    warmup=1,\n",
    "    active=3,\n",
    "    repeat=2)"
   ]
  },
  {
   "cell_type": "markdown",
   "metadata": {},
   "source": [
    "Profiler assumes that the long-running job is composed of steps,\n",
    "numbered starting from zero. The example above defines the following\n",
    "sequence of actions for the profiler:\n",
    "\n",
    "1.  Parameter `skip_first` tells profiler that it should ignore the\n",
    "    first 10 steps (default value of `skip_first` is zero);\n",
    "2.  After the first `skip_first` steps, profiler starts executing\n",
    "    profiler cycles;\n",
    "3.  Each cycle consists of three phases:\n",
    "    -   idling (`wait=5` steps), during this phase profiler is not\n",
    "        active;\n",
    "    -   warming up (`warmup=1` steps), during this phase profiler starts\n",
    "        tracing, but the results are discarded; this phase is used to\n",
    "        discard the samples obtained by the profiler at the beginning of\n",
    "        the trace since they are usually skewed by an extra overhead;\n",
    "    -   active tracing (`active=3` steps), during this phase profiler\n",
    "        traces and records data;\n",
    "4.  An optional `repeat` parameter specifies an upper bound on the\n",
    "    number of cycles. By default (zero value), profiler will execute\n",
    "    cycles as long as the job runs.\n"
   ]
  },
  {
   "cell_type": "markdown",
   "metadata": {},
   "source": [
    "Thus, in the example above, profiler will skip the first 15 steps, spend\n",
    "the next step on the warm up, actively record the next 3 steps, skip\n",
    "another 5 steps, spend the next step on the warm up, actively record\n",
    "another 3 steps. Since the `repeat=2` parameter value is specified, the\n",
    "profiler will stop the recording after the first two cycles.\n",
    "\n",
    "At the end of each cycle profiler calls the specified `on_trace_ready`\n",
    "function and passes itself as an argument. This function is used to\n",
    "process the new trace - either by obtaining the table output or by\n",
    "saving the output on disk as a trace file.\n",
    "\n",
    "To send the signal to the profiler that the next step has started, call\n",
    "`prof.step()` function. The current profiler step is stored in\n",
    "`prof.step_num`.\n",
    "\n",
    "The following example shows how to use all of the concepts above for\n",
    "CUDA and XPU Kernels:\n"
   ]
  },
  {
   "cell_type": "code",
   "execution_count": 13,
   "metadata": {
    "collapsed": false
   },
   "outputs": [
    {
     "name": "stdout",
     "output_type": "stream",
     "text": [
      "---------------------------------  ------------  ------------  ------------  ------------  ------------  ------------  ------------  ------------  ------------  ------------  \n",
      "                             Name    Self CPU %      Self CPU   CPU total %     CPU total  CPU time avg     Self CUDA   Self CUDA %    CUDA total  CUDA time avg    # of Calls  \n",
      "---------------------------------  ------------  ------------  ------------  ------------  ------------  ------------  ------------  ------------  ------------  ------------  \n",
      "          aten::cudnn_convolution        14.92%       1.359ms        14.92%       1.359ms      33.975us      13.884ms        59.75%      13.884ms     347.100us            40  \n",
      "           aten::cudnn_batch_norm        18.54%       1.688ms        23.18%       2.111ms      52.775us       2.923ms        12.58%       4.414ms     110.350us            40  \n",
      "                       aten::add_         5.67%     516.000us         5.67%     516.000us       9.214us       1.581ms         6.80%       1.581ms      28.232us            56  \n",
      "                 aten::clamp_min_         2.43%     221.000us         2.43%     221.000us       6.500us       1.491ms         6.42%       1.491ms      43.853us            34  \n",
      "                      aten::empty         2.43%     221.000us         2.43%     221.000us       1.105us     996.000us         4.29%     996.000us       4.980us           200  \n",
      "                    ProfilerStep*        33.35%       3.037ms       100.00%       9.107ms       4.553ms     434.000us         1.87%      23.237ms      11.618ms             2  \n",
      "                 aten::empty_like         1.76%     160.000us         3.16%     288.000us       7.200us     417.000us         1.79%     494.000us      12.350us            40  \n",
      "    aten::max_pool2d_with_indices         0.52%      47.000us         0.52%      47.000us      23.500us     288.000us         1.24%     288.000us     144.000us             2  \n",
      "                     aten::conv2d         2.08%     189.000us        24.20%       2.204ms      55.100us     183.000us         0.79%      14.401ms     360.025us            40  \n",
      "                aten::convolution         3.69%     336.000us        22.13%       2.015ms      50.375us     167.000us         0.72%      14.218ms     355.450us            40  \n",
      "---------------------------------  ------------  ------------  ------------  ------------  ------------  ------------  ------------  ------------  ------------  ------------  \n",
      "Self CPU time total: 9.107ms\n",
      "Self CUDA time total: 23.237ms\n",
      "\n",
      "---------------------------------  ------------  ------------  ------------  ------------  ------------  ------------  ------------  ------------  ------------  ------------  \n",
      "                             Name    Self CPU %      Self CPU   CPU total %     CPU total  CPU time avg     Self CUDA   Self CUDA %    CUDA total  CUDA time avg    # of Calls  \n",
      "---------------------------------  ------------  ------------  ------------  ------------  ------------  ------------  ------------  ------------  ------------  ------------  \n",
      "          aten::cudnn_convolution        14.31%       1.566ms        14.31%       1.566ms      39.150us      12.567ms        58.63%      12.567ms     314.175us            40  \n",
      "           aten::cudnn_batch_norm        18.18%       1.990ms        23.18%       2.537ms      63.425us       3.133ms        14.62%       3.783ms      94.575us            40  \n",
      "                 aten::clamp_min_         2.09%     229.000us         2.09%     229.000us       6.735us       1.954ms         9.12%       1.954ms      57.471us            34  \n",
      "                       aten::add_         5.68%     622.000us         5.68%     622.000us      11.107us     986.000us         4.60%     986.000us      17.607us            56  \n",
      "    aten::max_pool2d_with_indices         0.31%      34.000us         0.31%      34.000us      17.000us     538.000us         2.51%     538.000us     269.000us             2  \n",
      "                    ProfilerStep*        35.30%       3.863ms       100.00%      10.944ms       5.472ms     426.000us         1.99%      21.435ms      10.717ms             2  \n",
      "                      aten::empty         3.04%     333.000us         3.04%     333.000us       1.665us     386.000us         1.80%     386.000us       1.930us           200  \n",
      "                     aten::conv2d         2.07%     226.000us        23.56%       2.578ms      64.450us     187.000us         0.87%      13.083ms     327.075us            40  \n",
      "                 aten::empty_like         1.59%     174.000us         3.03%     332.000us       8.300us     185.000us         0.86%     260.000us       6.500us            40  \n",
      "                aten::convolution         3.40%     372.000us        21.49%       2.352ms      58.800us     167.000us         0.78%      12.896ms     322.400us            40  \n",
      "---------------------------------  ------------  ------------  ------------  ------------  ------------  ------------  ------------  ------------  ------------  ------------  \n",
      "Self CPU time total: 10.944ms\n",
      "Self CUDA time total: 21.435ms\n",
      "\n"
     ]
    }
   ],
   "source": [
    "sort_by_keyword = \"self_\" + device + \"_time_total\"\n",
    "\n",
    "def trace_handler(p):\n",
    "    output = p.key_averages().table(sort_by=sort_by_keyword, row_limit=10)\n",
    "    print(output)\n",
    "    p.export_chrome_trace(\"/tmp/trace_\" + str(p.step_num) + \".json\")\n",
    "\n",
    "with profile(\n",
    "    activities=activities,\n",
    "    schedule=torch.profiler.schedule(\n",
    "        wait=1,\n",
    "        warmup=1,\n",
    "        active=2),\n",
    "    on_trace_ready=trace_handler\n",
    ") as p:\n",
    "    for idx in range(8):\n",
    "        model(inputs)\n",
    "        p.step()"
   ]
  },
  {
   "cell_type": "markdown",
   "metadata": {},
   "source": [
    "Learn More\n",
    "==========\n",
    "\n",
    "Take a look at the following recipes/tutorials to continue your\n",
    "learning:\n",
    "\n",
    "-   [PyTorch\n",
    "    Benchmark](https://pytorch.org/tutorials/recipes/recipes/benchmark.html)\n",
    "-   [Visualizing models, data, and training with\n",
    "    TensorBoard](https://pytorch.org/tutorials/intermediate/tensorboard_tutorial.html)\n",
    "    tutorial\n"
   ]
  }
 ],
 "metadata": {
  "kernelspec": {
   "display_name": "venv",
   "language": "python",
   "name": "python3"
  },
  "language_info": {
   "codemirror_mode": {
    "name": "ipython",
    "version": 3
   },
   "file_extension": ".py",
   "mimetype": "text/x-python",
   "name": "python",
   "nbconvert_exporter": "python",
   "pygments_lexer": "ipython3",
   "version": "3.10.3"
  }
 },
 "nbformat": 4,
 "nbformat_minor": 0
}
